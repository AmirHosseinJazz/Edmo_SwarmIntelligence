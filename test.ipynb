{
 "cells": [
  {
   "cell_type": "code",
   "execution_count": 1,
   "metadata": {},
   "outputs": [],
   "source": [
    "import time\n",
    "import pyautogui\n",
    "import tqdm\n",
    "## Important: Make sure the application is already open\n",
    "## Important: Open in solo mode\n",
    "## Important: Maximize the window\n",
    "## Important: Update the left and right position for sliders "
   ]
  },
  {
   "cell_type": "code",
   "execution_count": 4,
   "metadata": {},
   "outputs": [],
   "source": [
    "# get the left and right position of each slider\n",
    "Snelheid_start_position = (125, 459)\n",
    "Snelheid_end_position = (1623, 459)\n",
    "Module0_Omvang_start_position = (774, 685)\n",
    "Module0_Omvang_end_position = (988, 685)\n",
    "Module0_Positie_start_position = (752, 781)\n",
    "Module0_Positie_end_position = (831, 781)\n",
    "Module1_Omvang_start_position = (100, 400)\n",
    "Module1_Omvang_end_position = (200, 400)\n",
    "Module1_Positie_start_position = (100, 500)\n",
    "Module1_Positie_end_position = (200, 500)\n",
    "relatie_start_position = (100, 700)\n",
    "relatie_end_position = (200, 700)\n"
   ]
  },
  {
   "cell_type": "code",
   "execution_count": null,
   "metadata": {},
   "outputs": [],
   "source": [
    "change_mag = 40\n",
    "Delay_time = 0.5\n",
    "time.sleep(3)\n",
    "# Horizontal Sliders\n",
    "for position1 in tqdm.tqdm(range(Snelheid_start_position[0],Snelheid_end_position[0],change_mag)):\n",
    "    pyautogui.moveTo(x=position1, y=Snelheid_start_position[1])\n",
    "    pyautogui.dragTo(x=position1+change_mag, y=Snelheid_start_position[1], duration=0.5)\n",
    "    time.sleep(Delay_time)\n",
    "    for position2 in range(Module0_Omvang_start_position[0],Module0_Omvang_end_position[0],change_mag):\n",
    "        pyautogui.moveTo(x=position2, y=Module0_Omvang_start_position[1])\n",
    "        pyautogui.dragTo(x=position2+change_mag, y=Module0_Omvang_start_position[1], duration=0.5)\n",
    "        time.sleep(Delay_time)\n",
    "        for position3 in range(Module0_Positie_start_position[0],Module0_Positie_end_position[0],change_mag):\n",
    "            pyautogui.moveTo(x=position3, y=Module0_Positie_start_position[1])\n",
    "            pyautogui.dragTo(x=position3+change_mag, y=Module0_Positie_start_position[1], duration=0.5)\n",
    "            time.sleep(Delay_time)\n",
    "            for position4 in range(Module1_Omvang_start_position[0],Module1_Omvang_end_position[0],change_mag):\n",
    "                pyautogui.moveTo(x=position4, y=Module1_Omvang_start_position[1])\n",
    "                pyautogui.dragTo(x=position4+change_mag, y=Module1_Omvang_start_position[1], duration=0.5)\n",
    "                time.sleep(Delay_time)\n",
    "                for position5 in range(Module1_Positie_start_position[0],Module1_Positie_end_position[0],change_mag):\n",
    "                    pyautogui.moveTo(x=position5, y=Module1_Positie_start_position[1])\n",
    "                    pyautogui.dragTo(x=position5+change_mag, y=Module1_Positie_start_position[1], duration=0.5)\n",
    "                    time.sleep(Delay_time)\n",
    "                    for position6 in range(relatie_start_position[0],relatie_end_position[0],change_mag):\n",
    "                        pyautogui.moveTo(x=position6, y=relatie_start_position[1])\n",
    "                        pyautogui.dragTo(x=position6+change_mag, y=relatie_start_position[1], duration=0.5)\n",
    "                        time.sleep(Delay_time)\n",
    "    time.sleep(1)"
   ]
  }
 ],
 "metadata": {
  "kernelspec": {
   "display_name": "jay",
   "language": "python",
   "name": "python3"
  },
  "language_info": {
   "codemirror_mode": {
    "name": "ipython",
    "version": 3
   },
   "file_extension": ".py",
   "mimetype": "text/x-python",
   "name": "python",
   "nbconvert_exporter": "python",
   "pygments_lexer": "ipython3",
   "version": "3.10.4"
  },
  "orig_nbformat": 4
 },
 "nbformat": 4,
 "nbformat_minor": 2
}
