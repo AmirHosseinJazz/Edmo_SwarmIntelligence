{
 "cells": [
  {
   "cell_type": "code",
   "execution_count": 1,
   "metadata": {},
   "outputs": [
    {
     "name": "stdout",
     "output_type": "stream",
     "text": [
      "number of clusters:  2\n",
      "R^2 score:  0.7270910434084057\n",
      "MSE :  0.6663739426753482\n",
      "R^2 score:  0.6354424368941368\n",
      "MSE :  0.9050213181238984\n",
      "Optimized solution: [  8.3750996   40.51446124  24.40262547  64.12224759 -38.44510998\n",
      " -87.6641636 ]\n",
      "Optimized solution: [  6.89363157  63.196811   -10.71134882  52.91330771 -87.40718559\n",
      "   5.23482193]\n"
     ]
    }
   ],
   "source": [
    "from utils import feedback\n",
    "from utils import integration\n",
    "from utils import subspace\n",
    "# hide warnings\n",
    "import warnings\n",
    "warnings.filterwarnings('ignore')\n",
    "\n",
    "\n",
    "\n",
    "# create subspaces based on our samples and store the classifier and bounds\n",
    "integration.create_subspaces_and_store(n_clusters=2)\n",
    "\n",
    "# create objective function for each subspace\n",
    "integration.create_objectivefunction_for_subspaces()\n",
    "\n",
    "# getting the optimums for each subspace using pso , based on the respective objective function\n",
    "optimums = integration.get_subspace_optimas()"
   ]
  },
  {
   "cell_type": "code",
   "execution_count": 9,
   "metadata": {},
   "outputs": [],
   "source": []
  },
  {
   "cell_type": "code",
   "execution_count": 4,
   "metadata": {},
   "outputs": [],
   "source": [
    "import pandas as pd"
   ]
  },
  {
   "cell_type": "code",
   "execution_count": null,
   "metadata": {},
   "outputs": [],
   "source": []
  }
 ],
 "metadata": {
  "kernelspec": {
   "display_name": "base",
   "language": "python",
   "name": "python3"
  },
  "language_info": {
   "codemirror_mode": {
    "name": "ipython",
    "version": 3
   },
   "file_extension": ".py",
   "mimetype": "text/x-python",
   "name": "python",
   "nbconvert_exporter": "python",
   "pygments_lexer": "ipython3",
   "version": "3.9.16"
  },
  "orig_nbformat": 4
 },
 "nbformat": 4,
 "nbformat_minor": 2
}
