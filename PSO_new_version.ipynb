{
  "cells": [
    {
      "attachments": {},
      "cell_type": "markdown",
      "metadata": {
        "id": "LNS_8E670gMY"
      },
      "source": [
        "The plan is to implement PSO in order to find the different optima from our parameter space. As PSO needs an evaluation function to work, we will use a linear regression model to predict the speed based on the parameters being tried. \n",
        "\n",
        "The linear regression is done from the collected data from the robot."
      ]
    },
    {
      "attachments": {},
      "cell_type": "markdown",
      "metadata": {
        "id": "LRUZT7iRw_Fg"
      },
      "source": [
        "### Imports"
      ]
    },
    {
      "cell_type": "code",
      "execution_count": 1,
      "metadata": {
        "id": "ry1qrKE90-6J"
      },
      "outputs": [],
      "source": [
        "# Imports\n",
        "import pandas as pd\n",
        "import numpy as np\n",
        "from sklearn.linear_model import LinearRegression\n",
        "from sklearn.model_selection import train_test_split\n",
        "from sklearn.metrics import classification_report, mean_squared_error\n",
        "from sklearn.ensemble import RandomForestRegressor\n",
        "\n",
        "import copy\n",
        "import numpy.random as rnd\n",
        "import time\n",
        "import matplotlib.pyplot as plt\n",
        "\n",
        "from sklearn.pipeline import make_pipeline\n",
        "from sklearn.preprocessing import StandardScaler\n",
        "import random\n",
        "import numpy as np\n",
        "from matplotlib import pyplot as plt\n",
        "from matplotlib import animation"
      ]
    },
    {
      "attachments": {},
      "cell_type": "markdown",
      "metadata": {
        "id": "wj7yBUj801XS"
      },
      "source": [
        "### Regression Models"
      ]
    },
    {
      "cell_type": "code",
      "execution_count": 2,
      "metadata": {
        "id": "HNnu3YYg0Zua"
      },
      "outputs": [],
      "source": [
        "# Get the data\n",
        "df = pd.read_csv(\"firstbatch_500Samples.csv\")"
      ]
    },
    {
      "cell_type": "code",
      "execution_count": 3,
      "metadata": {
        "colab": {
          "base_uri": "https://localhost:8080/",
          "height": 206
        },
        "id": "-ooSpe7A04FC",
        "outputId": "6259faa4-6909-42cb-9be7-51dd00da4293"
      },
      "outputs": [
        {
          "data": {
            "text/html": [
              "<div>\n",
              "<style scoped>\n",
              "    .dataframe tbody tr th:only-of-type {\n",
              "        vertical-align: middle;\n",
              "    }\n",
              "\n",
              "    .dataframe tbody tr th {\n",
              "        vertical-align: top;\n",
              "    }\n",
              "\n",
              "    .dataframe thead th {\n",
              "        text-align: right;\n",
              "    }\n",
              "</style>\n",
              "<table border=\"1\" class=\"dataframe\">\n",
              "  <thead>\n",
              "    <tr style=\"text-align: right;\">\n",
              "      <th></th>\n",
              "      <th>Unnamed: 0</th>\n",
              "      <th>Snelheid</th>\n",
              "      <th>Omvang1</th>\n",
              "      <th>Positie1</th>\n",
              "      <th>Omvang2</th>\n",
              "      <th>Positie2</th>\n",
              "      <th>Relatie</th>\n",
              "      <th>Speed</th>\n",
              "    </tr>\n",
              "  </thead>\n",
              "  <tbody>\n",
              "    <tr>\n",
              "      <th>0</th>\n",
              "      <td>0</td>\n",
              "      <td>0.0</td>\n",
              "      <td>0.0</td>\n",
              "      <td>-15.0</td>\n",
              "      <td>15.0</td>\n",
              "      <td>-75.0</td>\n",
              "      <td>15.0</td>\n",
              "      <td>1.012087</td>\n",
              "    </tr>\n",
              "    <tr>\n",
              "      <th>1</th>\n",
              "      <td>1</td>\n",
              "      <td>0.0</td>\n",
              "      <td>0.0</td>\n",
              "      <td>15.0</td>\n",
              "      <td>30.0</td>\n",
              "      <td>30.0</td>\n",
              "      <td>-90.0</td>\n",
              "      <td>0.844846</td>\n",
              "    </tr>\n",
              "    <tr>\n",
              "      <th>2</th>\n",
              "      <td>2</td>\n",
              "      <td>0.0</td>\n",
              "      <td>0.0</td>\n",
              "      <td>15.0</td>\n",
              "      <td>60.0</td>\n",
              "      <td>-30.0</td>\n",
              "      <td>-90.0</td>\n",
              "      <td>2.491373</td>\n",
              "    </tr>\n",
              "    <tr>\n",
              "      <th>3</th>\n",
              "      <td>3</td>\n",
              "      <td>0.0</td>\n",
              "      <td>0.0</td>\n",
              "      <td>45.0</td>\n",
              "      <td>60.0</td>\n",
              "      <td>75.0</td>\n",
              "      <td>60.0</td>\n",
              "      <td>1.249660</td>\n",
              "    </tr>\n",
              "    <tr>\n",
              "      <th>4</th>\n",
              "      <td>4</td>\n",
              "      <td>0.0</td>\n",
              "      <td>0.0</td>\n",
              "      <td>75.0</td>\n",
              "      <td>30.0</td>\n",
              "      <td>-75.0</td>\n",
              "      <td>-90.0</td>\n",
              "      <td>1.112912</td>\n",
              "    </tr>\n",
              "  </tbody>\n",
              "</table>\n",
              "</div>"
            ],
            "text/plain": [
              "   Unnamed: 0  Snelheid  Omvang1  Positie1  Omvang2  Positie2  Relatie  \\\n",
              "0           0       0.0      0.0     -15.0     15.0     -75.0     15.0   \n",
              "1           1       0.0      0.0      15.0     30.0      30.0    -90.0   \n",
              "2           2       0.0      0.0      15.0     60.0     -30.0    -90.0   \n",
              "3           3       0.0      0.0      45.0     60.0      75.0     60.0   \n",
              "4           4       0.0      0.0      75.0     30.0     -75.0    -90.0   \n",
              "\n",
              "      Speed  \n",
              "0  1.012087  \n",
              "1  0.844846  \n",
              "2  2.491373  \n",
              "3  1.249660  \n",
              "4  1.112912  "
            ]
          },
          "execution_count": 3,
          "metadata": {},
          "output_type": "execute_result"
        }
      ],
      "source": [
        "df.head()"
      ]
    },
    {
      "cell_type": "code",
      "execution_count": 4,
      "metadata": {
        "colab": {
          "base_uri": "https://localhost:8080/"
        },
        "id": "wFwYukh105yH",
        "outputId": "63dfcc06-fcd9-4e4e-c37c-8f970e45140c"
      },
      "outputs": [
        {
          "name": "stdout",
          "output_type": "stream",
          "text": [
            "R^2 score:  0.5785560150799474\n",
            "MSE :  0.7903636488460546\n"
          ]
        }
      ],
      "source": [
        "# Prepare the data for the model\n",
        "\n",
        "X = df.drop(columns = ['Speed', 'Unnamed: 0'], axis = 1).values\n",
        "y = df.Speed.values\n",
        "\n",
        "# Split the data\n",
        "X_train, X_test, y_train, y_test = train_test_split(X, y, test_size = 0.33, random_state = 18)\n",
        "\n",
        "# Create the model\n",
        "model = LinearRegression()\n",
        "\n",
        "# Train it\n",
        "model.fit(X_train, y_train)\n",
        "\n",
        "# Make prediction\n",
        "y_pred = model.predict(X_test)\n",
        "#  Evaluate the model\n",
        "print('R^2 score: ', model.score(X_test, y_test))\n",
        "print('MSE : ', mean_squared_error(y_test, y_pred))"
      ]
    },
    {
      "cell_type": "code",
      "execution_count": 5,
      "metadata": {
        "colab": {
          "base_uri": "https://localhost:8080/"
        },
        "id": "MELvKT0pPfeT",
        "outputId": "c303818f-cbd0-4e8a-fa90-620ba8678ef2"
      },
      "outputs": [
        {
          "name": "stdout",
          "output_type": "stream",
          "text": [
            "R^2 score:  0.20513749661448355\n",
            "MSE :  1.4906617509936955\n"
          ]
        }
      ],
      "source": [
        "# Regression Tree\n",
        "from sklearn.tree import DecisionTreeRegressor\n",
        "from sklearn.model_selection import cross_val_score\n",
        "\n",
        "regressor = make_pipeline(StandardScaler(), DecisionTreeRegressor(random_state=0))\n",
        "regressor.fit(X_train, y_train)\n",
        "y_pred = regressor.predict(X_test)\n",
        "\n",
        "print('R^2 score: ',regressor.score(X_test, y_test))\n",
        "print('MSE : ', mean_squared_error(y_test, y_pred))"
      ]
    },
    {
      "cell_type": "code",
      "execution_count": 6,
      "metadata": {
        "colab": {
          "base_uri": "https://localhost:8080/"
        },
        "id": "tM6I4UHEQLku",
        "outputId": "c600e9a1-caa1-44c0-e172-ba1f135add67"
      },
      "outputs": [
        {
          "name": "stdout",
          "output_type": "stream",
          "text": [
            "R^2 score:  0.6629838885299169\n",
            "MSE :  0.632030099164739\n"
          ]
        }
      ],
      "source": [
        "# SVR\n",
        "from sklearn.svm import SVR\n",
        "import numpy as np\n",
        "\n",
        "regr = make_pipeline(StandardScaler(), SVR(C=1.0, epsilon=0.2, kernel = 'rbf'))\n",
        "regr.fit(X_train, y_train)\n",
        "\n",
        "y_pred = regr.predict(X_test)\n",
        "\n",
        "print('R^2 score: ',regr.score(X_test, y_test))\n",
        "print('MSE : ', mean_squared_error(y_test, y_pred))"
      ]
    },
    {
      "cell_type": "code",
      "execution_count": 7,
      "metadata": {},
      "outputs": [
        {
          "name": "stdout",
          "output_type": "stream",
          "text": [
            "R^2 score:  0.6464146981732082\n",
            "MSE :  0.6631034712315804\n"
          ]
        }
      ],
      "source": [
        "# Random forest Regressor\n",
        "\n",
        "regr = RandomForestRegressor(max_depth=6, random_state=42)\n",
        "regr.fit(X_train, y_train)\n",
        "y_pred = regr.predict(X_test)\n",
        "\n",
        "print('R^2 score: ',regr.score(X_test, y_test))\n",
        "print('MSE : ', mean_squared_error(y_test, y_pred))"
      ]
    },
    {
      "attachments": {},
      "cell_type": "markdown",
      "metadata": {
        "id": "d8GpaAgbnzU-"
      },
      "source": [
        "Export the function to be optimized"
      ]
    },
    {
      "cell_type": "code",
      "execution_count": 8,
      "metadata": {
        "colab": {
          "base_uri": "https://localhost:8080/"
        },
        "id": "cs_shgp1n1de",
        "outputId": "497b0073-a6be-4fe6-9944-b4a6c7b77eaf"
      },
      "outputs": [
        {
          "name": "stdout",
          "output_type": "stream",
          "text": [
            "-0.1830203116455449 [ 3.42065695e-01  2.51984365e-02 -2.55927956e-03  2.10004768e-02\n",
            "  1.56109176e-03 -5.05334352e-05]\n"
          ]
        }
      ],
      "source": [
        "print(model.intercept_, model.coef_)\n",
        "intercept = model.intercept_\n",
        "coefs = model.coef_"
      ]
    },
    {
      "attachments": {},
      "cell_type": "markdown",
      "metadata": {
        "id": "L5ZnEe2B1_hL"
      },
      "source": [
        "### PSO"
      ]
    },
    {
      "cell_type": "code",
      "execution_count": 11,
      "metadata": {
        "id": "cBKC0IPTn4lK"
      },
      "outputs": [],
      "source": [
        "def fitness_function(model, parameters):\n",
        "\n",
        "  # intercept = model.intercept_\n",
        "  # coefs = model.coef_\n",
        "\n",
        "  # sum = 0  \n",
        "  # for i in range(6):\n",
        "  #   sum += (coefs[i] * parameters[i])\n",
        "  # f = intercept + sum\n",
        "  return model.predict(np.array(parameters).reshape(1, 6))"
      ]
    },
    {
      "cell_type": "code",
      "execution_count": 19,
      "metadata": {
        "id": "JGNGk2vhZjmc"
      },
      "outputs": [],
      "source": [
        "def update_velocity(particle, velocity, pbest, gbest, w_min=0.5, max=1.0, c=0.1):\n",
        "\n",
        "  # Initialise new velocity array\n",
        "  num_particle = len(particle)\n",
        "  new_velocity = np.array([0.0 for i in range(num_particle)])\n",
        "\n",
        "  # Randomly generate r1, r2 and inertia weight from normal distribution\n",
        "  r1 = random.uniform(0,max)\n",
        "  r2 = random.uniform(0,max)\n",
        "  w = random.uniform(w_min,max)\n",
        "  c1 = c\n",
        "  c2 = c\n",
        "  # Calculate new velocity\n",
        "  for i in range(num_particle):\n",
        "    new_velocity[i] = w*velocity[i] + c1*r1*(pbest[i]-particle[i])+c2*r2*(gbest[i]-particle[i])\n",
        "\n",
        "  return new_velocity"
      ]
    },
    {
      "cell_type": "code",
      "execution_count": 20,
      "metadata": {
        "id": "5TnFdYHbag5l"
      },
      "outputs": [],
      "source": [
        "def update_position(particle, velocity):\n",
        "\n",
        "  bounds = [[-90, 90], [-90, 90], [0, 1], [0, 90], [0, 90], [-90, 90]]\n",
        "\n",
        "  new_particle = np.zeros(6)\n",
        "\n",
        "  # print('b', particle)\n",
        "  # print('v', velocity)\n",
        "  # Move particles by adding velocity\n",
        "  for i in range(6):\n",
        "    if (particle[i] + velocity[i]) >= bounds[i][0] and (particle[i] + velocity[i]) <= bounds[i][1]:\n",
        "      new_particle[i] = particle[i] + velocity[i]\n",
        "    \n",
        "  # print('a', new_particle)\n",
        "  return new_particle"
      ]
    },
    {
      "cell_type": "code",
      "execution_count": 21,
      "metadata": {
        "id": "hm48RamIakP7"
      },
      "outputs": [],
      "source": [
        "def pso(population_size, dimension, parameters, generation, fitness_criterion, model):\n",
        "  # Initialisation\n",
        "  # Population\n",
        "\n",
        "  particles = []\n",
        "\n",
        "  for i in range(population_size):\n",
        "    # Create a particle and add it to the population\n",
        "    particle = []\n",
        "    for j in range(6):\n",
        "      # Populate the particle with 6 random number from the 6 parameters\n",
        "      lower_bound = list(parameters.values())[j][0]\n",
        "      upper_bound = list(parameters.values())[j][1]\n",
        "\n",
        "      # Some parameters have to be integers\n",
        "      if j == 2:\n",
        "        particle.append(random.randint(lower_bound, upper_bound)/10)\n",
        "      else:\n",
        "        particle.append(random.randint(lower_bound, upper_bound))\n",
        "\n",
        "    particles.append(particle)\n",
        "\n",
        "  #particles = [[random.uniform(position_min, position_max) for j in range(dimension)] for i in range(population)]\n",
        "  # Particle's best position\n",
        "  pbest_position = particles\n",
        "  # Fitness\n",
        "  pbest_fitness = []\n",
        "\n",
        "  for particle in particles:\n",
        "    fitness = fitness_function(model, particle)\n",
        "    pbest_fitness.append(fitness)\n",
        "\n",
        "  # Index of the best particle\n",
        "  gbest_index = np.argmin(pbest_fitness)\n",
        "  # Global best particle position\n",
        "  gbest_position = pbest_position[gbest_index]\n",
        "  # print(gbest_position)\n",
        "  # Velocity (starting from 0 speed)\n",
        "  velocity = [[0.0 for j in range(dimension)] for i in range(population_size)]\n",
        "  \n",
        "  # Loop for the number of generation\n",
        "  for t in range(generation):\n",
        "    # Stop if the average fitness value reached a predefined success criterion\n",
        "    if np.average(pbest_fitness) <= fitness_criterion:\n",
        "      break\n",
        "    else:\n",
        "      for n in range(population_size):\n",
        "        # Update the velocity of each particle\n",
        "        velocity[n] = update_velocity(particles[n], velocity[n], pbest_position[n], gbest_position)\n",
        "        # Move the particles to new position\n",
        "        particles[n] = update_position(particles[n], velocity[n])\n",
        "        \n",
        "    # Calculate the fitness value\n",
        "    pbest_fitness = [fitness_function(model, particle) for particle in particles]\n",
        "    # Find the index of the best particle\n",
        "    gbest_index = np.argmin(pbest_fitness)\n",
        "    # Update the position of the best particle\n",
        "    gbest_position = pbest_position[gbest_index]\n",
        "    # print(gbest_position)\n",
        "\n",
        "  # Print the results\n",
        "  print('Global Best Position: ', gbest_position)\n",
        "  print('Best Fitness Value: ', min(pbest_fitness))\n",
        "  print('Average Particle Best Fitness Value: ', np.average(pbest_fitness))\n",
        "  print('Number of Generation: ', t)\n"
      ]
    },
    {
      "cell_type": "code",
      "execution_count": 22,
      "metadata": {
        "id": "HHaLzbWnkHJJ"
      },
      "outputs": [],
      "source": [
        "population_size = 1000\n",
        "dimension = 6\n",
        "generation = 1000\n",
        "fitness_criterion = 10e-4"
      ]
    },
    {
      "cell_type": "code",
      "execution_count": 23,
      "metadata": {
        "id": "5ea5PNLcbg8S"
      },
      "outputs": [],
      "source": [
        "parameters = {\n",
        "    'Angles_0' : [-90, 90],\n",
        "    'Angles_1' : [-90, 90],\n",
        "    'freq' : [0, 10],\n",
        "    'amp_1' : [0, 90],\n",
        "    'amp_2' : [0, 90],\n",
        "    'phase' : [-90, 90]\n",
        "}"
      ]
    },
    {
      "cell_type": "code",
      "execution_count": 24,
      "metadata": {
        "colab": {
          "base_uri": "https://localhost:8080/"
        },
        "id": "0YlM3DBOk8cD",
        "outputId": "5d22a141-b0e3-49ba-8532-f4cb8a7fced2"
      },
      "outputs": [
        {
          "name": "stdout",
          "output_type": "stream",
          "text": [
            "Global Best Position:  [-88. -73.   0.   0.   8. -64.]\n",
            "Best Fitness Value:  -32.108564439061006\n",
            "Average Particle Best Fitness Value:  -0.7845975820355868\n",
            "Number of Generation:  1\n"
          ]
        }
      ],
      "source": [
        "pso(population_size, dimension, parameters, generation, fitness_criterion, model)"
      ]
    },
    {
      "attachments": {},
      "cell_type": "markdown",
      "metadata": {},
      "source": [
        "# New trial"
      ]
    },
    {
      "cell_type": "code",
      "execution_count": 9,
      "metadata": {},
      "outputs": [],
      "source": [
        "def check_constraints(temp, bounds):\n",
        "\n",
        "  counter = 0\n",
        "\n",
        "  for i in range(6):\n",
        "    if temp[i] >= bounds[i][0] and temp[i] <= bounds[i][1] :\n",
        "      counter += 1\n",
        "\n",
        "  return counter == 6"
      ]
    },
    {
      "cell_type": "code",
      "execution_count": 13,
      "metadata": {},
      "outputs": [
        {
          "name": "stdout",
          "output_type": "stream",
          "text": [
            "Optimized solution: [ 54.45816511  69.99680704   0.73888297  63.40852966  87.89192915\n",
            " -39.74997398]\n"
          ]
        }
      ],
      "source": [
        "import random\n",
        "\n",
        "# Define the problem-specific parameters\n",
        "num_particles = 20\n",
        "max_iterations = 100\n",
        "search_space = [[-90, 90], [-90, 90], [0, 1], [0, 90], [0, 90], [-90, 90]] # Define the search space for each parameter\n",
        "inertia = 0.5\n",
        "cognitive_constant = 1.5\n",
        "social_constant = 1.5\n",
        "\n",
        "\n",
        "# Initialize the swarm\n",
        "swarm = []\n",
        "best_positions = []\n",
        "global_best_position = None\n",
        "global_best_fitness = float('inf')\n",
        "\n",
        "for _ in range(num_particles):\n",
        "    # Initialize particle position and velocity randomly within the search space\n",
        "    position = [random.uniform(low, high) for low, high in search_space]\n",
        "    velocity = [random.uniform(-1, 1) for _ in range(6)]\n",
        "    \n",
        "    # Evaluate fitness\n",
        "    fitness = fitness_function(regr, position)\n",
        "    \n",
        "    # Initialize personal best position and fitness\n",
        "    personal_best_position = position\n",
        "    personal_best_fitness = fitness\n",
        "    \n",
        "    # Update global best position and fitness\n",
        "    if fitness < global_best_fitness:\n",
        "        global_best_position = position\n",
        "        global_best_fitness = fitness\n",
        "    \n",
        "    # Add particle to the swarm\n",
        "    swarm.append((position, velocity, personal_best_position, personal_best_fitness))\n",
        "    best_positions.append(personal_best_position)\n",
        "\n",
        "# PSO main loop\n",
        "iteration = 0\n",
        "while iteration < max_iterations:\n",
        "    for i in range(num_particles):\n",
        "        # Update particle velocity and position if constraints are met\n",
        "        position, velocity, personal_best_position, _ = swarm[i]\n",
        "        \n",
        "        # Update velocity\n",
        "        velocity = (inertia * np.array(velocity) + cognitive_constant * random.uniform(0, 1) * (np.array(personal_best_position) - np.array(position)) + social_constant * random.uniform(0, 1) * (np.array(personal_best_position) - np.array(position)))\n",
        "        \n",
        "        # Update position\n",
        "        position_temp = np.array(position) + np.array(velocity)\n",
        "        \n",
        "        if check_constraints(position_temp, search_space):\n",
        "            position = position_temp\n",
        "\n",
        "        # Evaluate fitness\n",
        "        fitness = fitness_function(regr, position)\n",
        "        \n",
        "        # Update personal best position and fitness\n",
        "        if fitness < swarm[i][3]:\n",
        "            swarm[i] = (position, velocity, position, fitness)\n",
        "            best_positions[i] = position\n",
        "        \n",
        "        # Update global best position and fitness\n",
        "        if fitness > global_best_fitness:\n",
        "            global_best_position = position\n",
        "            global_best_fitness = fitness\n",
        "    \n",
        "    iteration += 1\n",
        "\n",
        "# Retrieve the optimized solution\n",
        "optimized_solution = global_best_position\n",
        "\n",
        "# Print or process the optimized solution\n",
        "print(\"Optimized solution:\", optimized_solution)\n"
      ]
    },
    {
      "cell_type": "code",
      "execution_count": 14,
      "metadata": {},
      "outputs": [
        {
          "data": {
            "text/plain": [
              "array([6.06078476])"
            ]
          },
          "execution_count": 14,
          "metadata": {},
          "output_type": "execute_result"
        }
      ],
      "source": [
        "regr.predict(np.array(optimized_solution).reshape(1, 6))"
      ]
    },
    {
      "cell_type": "code",
      "execution_count": null,
      "metadata": {},
      "outputs": [],
      "source": []
    }
  ],
  "metadata": {
    "colab": {
      "collapsed_sections": [
        "LRUZT7iRw_Fg",
        "wj7yBUj801XS",
        "L5ZnEe2B1_hL"
      ],
      "provenance": []
    },
    "kernelspec": {
      "display_name": "Python 3",
      "name": "python3"
    },
    "language_info": {
      "codemirror_mode": {
        "name": "ipython",
        "version": 3
      },
      "file_extension": ".py",
      "mimetype": "text/x-python",
      "name": "python",
      "nbconvert_exporter": "python",
      "pygments_lexer": "ipython3",
      "version": "3.8.3"
    }
  },
  "nbformat": 4,
  "nbformat_minor": 0
}
