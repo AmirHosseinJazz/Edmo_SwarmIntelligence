{
  "nbformat": 4,
  "nbformat_minor": 0,
  "metadata": {
    "colab": {
      "provenance": [],
      "collapsed_sections": [
        "LRUZT7iRw_Fg",
        "wj7yBUj801XS",
        "L5ZnEe2B1_hL"
      ]
    },
    "kernelspec": {
      "name": "python3",
      "display_name": "Python 3"
    },
    "language_info": {
      "name": "python"
    }
  },
  "cells": [
    {
      "cell_type": "markdown",
      "source": [
        "The plan is to implement PSO in order to find the different optima from our parameter space. As PSO needs an evaluation function to work, we will use a linear regression model to predict the speed based on the parameters being tried. \n",
        "\n",
        "The linear regression is done from the collected data from the robot."
      ],
      "metadata": {
        "id": "LNS_8E670gMY"
      }
    },
    {
      "cell_type": "markdown",
      "source": [
        "### Imports"
      ],
      "metadata": {
        "id": "LRUZT7iRw_Fg"
      }
    },
    {
      "cell_type": "code",
      "source": [
        "!pip install pyswarm"
      ],
      "metadata": {
        "colab": {
          "base_uri": "https://localhost:8080/"
        },
        "id": "UCjHS2zI4bzB",
        "outputId": "874d216b-b06b-49c0-8a9b-5975f2aaf03b"
      },
      "execution_count": 45,
      "outputs": [
        {
          "output_type": "stream",
          "name": "stdout",
          "text": [
            "Looking in indexes: https://pypi.org/simple, https://us-python.pkg.dev/colab-wheels/public/simple/\n",
            "Collecting pyswarm\n",
            "  Downloading pyswarm-0.6.tar.gz (4.3 kB)\n",
            "  Preparing metadata (setup.py) ... \u001b[?25l\u001b[?25hdone\n",
            "Requirement already satisfied: numpy in /usr/local/lib/python3.10/dist-packages (from pyswarm) (1.22.4)\n",
            "Building wheels for collected packages: pyswarm\n",
            "  Building wheel for pyswarm (setup.py) ... \u001b[?25l\u001b[?25hdone\n",
            "  Created wheel for pyswarm: filename=pyswarm-0.6-py3-none-any.whl size=4463 sha256=47fb3956bd1c74d8a2e960c6a02717ef546f42b36f2c03f1d83906e03399ee57\n",
            "  Stored in directory: /root/.cache/pip/wheels/71/67/40/62fa158f497f942277cbab8199b05cb61c571ab324e67ad0d6\n",
            "Successfully built pyswarm\n",
            "Installing collected packages: pyswarm\n",
            "Successfully installed pyswarm-0.6\n"
          ]
        }
      ]
    },
    {
      "cell_type": "code",
      "source": [
        "# Imports\n",
        "import pandas as pd\n",
        "import numpy as np\n",
        "from sklearn.linear_model import LinearRegression\n",
        "from sklearn.model_selection import train_test_split\n",
        "from sklearn.metrics import classification_report, mean_squared_error\n",
        "\n",
        "import copy\n",
        "import numpy.random as rnd\n",
        "import time\n",
        "import matplotlib.pyplot as plt\n",
        "from pyswarm import pso\n",
        "\n",
        "from sklearn.pipeline import make_pipeline\n",
        "from sklearn.preprocessing import StandardScaler\n",
        "import random\n",
        "import numpy as np\n",
        "from matplotlib import pyplot as plt\n",
        "from matplotlib import animation"
      ],
      "metadata": {
        "id": "ry1qrKE90-6J"
      },
      "execution_count": 73,
      "outputs": []
    },
    {
      "cell_type": "markdown",
      "source": [
        "### Regression Models"
      ],
      "metadata": {
        "id": "wj7yBUj801XS"
      }
    },
    {
      "cell_type": "code",
      "execution_count": 69,
      "metadata": {
        "id": "HNnu3YYg0Zua"
      },
      "outputs": [],
      "source": [
        "# Get the data\n",
        "df = pd.read_csv(\"Final.csv\")"
      ]
    },
    {
      "cell_type": "code",
      "source": [
        "df.head()"
      ],
      "metadata": {
        "colab": {
          "base_uri": "https://localhost:8080/",
          "height": 206
        },
        "id": "-ooSpe7A04FC",
        "outputId": "6259faa4-6909-42cb-9be7-51dd00da4293"
      },
      "execution_count": 70,
      "outputs": [
        {
          "output_type": "execute_result",
          "data": {
            "text/plain": [
              "   Angles_0  Angles_1  freq  amp_1  amp_2  offset_1  offset_2  phase  \\\n",
              "0     28.55     -5.26   0.9   80.0   48.0      56.0       -34  -52.0   \n",
              "1   -100.59     -5.21   0.8   80.0   80.0     -25.0        26  -52.0   \n",
              "2    -29.30      4.55   0.8   63.0   79.0     -87.0       -73   22.0   \n",
              "3    -46.97     22.27   0.3   48.0   63.0       7.0       -21   11.0   \n",
              "4     47.04    -60.64   0.9   80.0   48.0      56.0       -34   55.0   \n",
              "\n",
              "   Potentials_0  Potentials_1      Speed  \n",
              "0          12.0         -27.0  14.622617  \n",
              "1         -82.0          21.0  12.119482  \n",
              "2         -33.0           8.0  11.847835  \n",
              "3         -38.0          10.0  11.480086  \n",
              "4         102.0         -42.0  11.266257  "
            ],
            "text/html": [
              "\n",
              "  <div id=\"df-afcb2356-2db2-4773-9f62-ae4e10eab5d2\">\n",
              "    <div class=\"colab-df-container\">\n",
              "      <div>\n",
              "<style scoped>\n",
              "    .dataframe tbody tr th:only-of-type {\n",
              "        vertical-align: middle;\n",
              "    }\n",
              "\n",
              "    .dataframe tbody tr th {\n",
              "        vertical-align: top;\n",
              "    }\n",
              "\n",
              "    .dataframe thead th {\n",
              "        text-align: right;\n",
              "    }\n",
              "</style>\n",
              "<table border=\"1\" class=\"dataframe\">\n",
              "  <thead>\n",
              "    <tr style=\"text-align: right;\">\n",
              "      <th></th>\n",
              "      <th>Angles_0</th>\n",
              "      <th>Angles_1</th>\n",
              "      <th>freq</th>\n",
              "      <th>amp_1</th>\n",
              "      <th>amp_2</th>\n",
              "      <th>offset_1</th>\n",
              "      <th>offset_2</th>\n",
              "      <th>phase</th>\n",
              "      <th>Potentials_0</th>\n",
              "      <th>Potentials_1</th>\n",
              "      <th>Speed</th>\n",
              "    </tr>\n",
              "  </thead>\n",
              "  <tbody>\n",
              "    <tr>\n",
              "      <th>0</th>\n",
              "      <td>28.55</td>\n",
              "      <td>-5.26</td>\n",
              "      <td>0.9</td>\n",
              "      <td>80.0</td>\n",
              "      <td>48.0</td>\n",
              "      <td>56.0</td>\n",
              "      <td>-34</td>\n",
              "      <td>-52.0</td>\n",
              "      <td>12.0</td>\n",
              "      <td>-27.0</td>\n",
              "      <td>14.622617</td>\n",
              "    </tr>\n",
              "    <tr>\n",
              "      <th>1</th>\n",
              "      <td>-100.59</td>\n",
              "      <td>-5.21</td>\n",
              "      <td>0.8</td>\n",
              "      <td>80.0</td>\n",
              "      <td>80.0</td>\n",
              "      <td>-25.0</td>\n",
              "      <td>26</td>\n",
              "      <td>-52.0</td>\n",
              "      <td>-82.0</td>\n",
              "      <td>21.0</td>\n",
              "      <td>12.119482</td>\n",
              "    </tr>\n",
              "    <tr>\n",
              "      <th>2</th>\n",
              "      <td>-29.30</td>\n",
              "      <td>4.55</td>\n",
              "      <td>0.8</td>\n",
              "      <td>63.0</td>\n",
              "      <td>79.0</td>\n",
              "      <td>-87.0</td>\n",
              "      <td>-73</td>\n",
              "      <td>22.0</td>\n",
              "      <td>-33.0</td>\n",
              "      <td>8.0</td>\n",
              "      <td>11.847835</td>\n",
              "    </tr>\n",
              "    <tr>\n",
              "      <th>3</th>\n",
              "      <td>-46.97</td>\n",
              "      <td>22.27</td>\n",
              "      <td>0.3</td>\n",
              "      <td>48.0</td>\n",
              "      <td>63.0</td>\n",
              "      <td>7.0</td>\n",
              "      <td>-21</td>\n",
              "      <td>11.0</td>\n",
              "      <td>-38.0</td>\n",
              "      <td>10.0</td>\n",
              "      <td>11.480086</td>\n",
              "    </tr>\n",
              "    <tr>\n",
              "      <th>4</th>\n",
              "      <td>47.04</td>\n",
              "      <td>-60.64</td>\n",
              "      <td>0.9</td>\n",
              "      <td>80.0</td>\n",
              "      <td>48.0</td>\n",
              "      <td>56.0</td>\n",
              "      <td>-34</td>\n",
              "      <td>55.0</td>\n",
              "      <td>102.0</td>\n",
              "      <td>-42.0</td>\n",
              "      <td>11.266257</td>\n",
              "    </tr>\n",
              "  </tbody>\n",
              "</table>\n",
              "</div>\n",
              "      <button class=\"colab-df-convert\" onclick=\"convertToInteractive('df-afcb2356-2db2-4773-9f62-ae4e10eab5d2')\"\n",
              "              title=\"Convert this dataframe to an interactive table.\"\n",
              "              style=\"display:none;\">\n",
              "        \n",
              "  <svg xmlns=\"http://www.w3.org/2000/svg\" height=\"24px\"viewBox=\"0 0 24 24\"\n",
              "       width=\"24px\">\n",
              "    <path d=\"M0 0h24v24H0V0z\" fill=\"none\"/>\n",
              "    <path d=\"M18.56 5.44l.94 2.06.94-2.06 2.06-.94-2.06-.94-.94-2.06-.94 2.06-2.06.94zm-11 1L8.5 8.5l.94-2.06 2.06-.94-2.06-.94L8.5 2.5l-.94 2.06-2.06.94zm10 10l.94 2.06.94-2.06 2.06-.94-2.06-.94-.94-2.06-.94 2.06-2.06.94z\"/><path d=\"M17.41 7.96l-1.37-1.37c-.4-.4-.92-.59-1.43-.59-.52 0-1.04.2-1.43.59L10.3 9.45l-7.72 7.72c-.78.78-.78 2.05 0 2.83L4 21.41c.39.39.9.59 1.41.59.51 0 1.02-.2 1.41-.59l7.78-7.78 2.81-2.81c.8-.78.8-2.07 0-2.86zM5.41 20L4 18.59l7.72-7.72 1.47 1.35L5.41 20z\"/>\n",
              "  </svg>\n",
              "      </button>\n",
              "      \n",
              "  <style>\n",
              "    .colab-df-container {\n",
              "      display:flex;\n",
              "      flex-wrap:wrap;\n",
              "      gap: 12px;\n",
              "    }\n",
              "\n",
              "    .colab-df-convert {\n",
              "      background-color: #E8F0FE;\n",
              "      border: none;\n",
              "      border-radius: 50%;\n",
              "      cursor: pointer;\n",
              "      display: none;\n",
              "      fill: #1967D2;\n",
              "      height: 32px;\n",
              "      padding: 0 0 0 0;\n",
              "      width: 32px;\n",
              "    }\n",
              "\n",
              "    .colab-df-convert:hover {\n",
              "      background-color: #E2EBFA;\n",
              "      box-shadow: 0px 1px 2px rgba(60, 64, 67, 0.3), 0px 1px 3px 1px rgba(60, 64, 67, 0.15);\n",
              "      fill: #174EA6;\n",
              "    }\n",
              "\n",
              "    [theme=dark] .colab-df-convert {\n",
              "      background-color: #3B4455;\n",
              "      fill: #D2E3FC;\n",
              "    }\n",
              "\n",
              "    [theme=dark] .colab-df-convert:hover {\n",
              "      background-color: #434B5C;\n",
              "      box-shadow: 0px 1px 3px 1px rgba(0, 0, 0, 0.15);\n",
              "      filter: drop-shadow(0px 1px 2px rgba(0, 0, 0, 0.3));\n",
              "      fill: #FFFFFF;\n",
              "    }\n",
              "  </style>\n",
              "\n",
              "      <script>\n",
              "        const buttonEl =\n",
              "          document.querySelector('#df-afcb2356-2db2-4773-9f62-ae4e10eab5d2 button.colab-df-convert');\n",
              "        buttonEl.style.display =\n",
              "          google.colab.kernel.accessAllowed ? 'block' : 'none';\n",
              "\n",
              "        async function convertToInteractive(key) {\n",
              "          const element = document.querySelector('#df-afcb2356-2db2-4773-9f62-ae4e10eab5d2');\n",
              "          const dataTable =\n",
              "            await google.colab.kernel.invokeFunction('convertToInteractive',\n",
              "                                                     [key], {});\n",
              "          if (!dataTable) return;\n",
              "\n",
              "          const docLinkHtml = 'Like what you see? Visit the ' +\n",
              "            '<a target=\"_blank\" href=https://colab.research.google.com/notebooks/data_table.ipynb>data table notebook</a>'\n",
              "            + ' to learn more about interactive tables.';\n",
              "          element.innerHTML = '';\n",
              "          dataTable['output_type'] = 'display_data';\n",
              "          await google.colab.output.renderOutput(dataTable, element);\n",
              "          const docLink = document.createElement('div');\n",
              "          docLink.innerHTML = docLinkHtml;\n",
              "          element.appendChild(docLink);\n",
              "        }\n",
              "      </script>\n",
              "    </div>\n",
              "  </div>\n",
              "  "
            ]
          },
          "metadata": {},
          "execution_count": 70
        }
      ]
    },
    {
      "cell_type": "code",
      "source": [
        "df = df.drop(columns = ['offset_1', 'offset_2', 'Potentials_0', 'Potentials_1'], axis = 1)\n",
        "df.shape"
      ],
      "metadata": {
        "colab": {
          "base_uri": "https://localhost:8080/"
        },
        "id": "m9g95oMzOv-J",
        "outputId": "3ac78ebc-2d60-43e0-c24f-4b9862a48e67"
      },
      "execution_count": 71,
      "outputs": [
        {
          "output_type": "execute_result",
          "data": {
            "text/plain": [
              "(3107, 7)"
            ]
          },
          "metadata": {},
          "execution_count": 71
        }
      ]
    },
    {
      "cell_type": "code",
      "source": [
        "# Prepare the data for the model\n",
        "\n",
        "X = df.drop(columns = 'Speed', axis = 1).values\n",
        "y = df.Speed.values\n",
        "\n",
        "# Split the data\n",
        "X_train, X_test, y_train, y_test = train_test_split(X, y, test_size = 0.33, random_state = 18)\n",
        "\n",
        "# Create the model\n",
        "model = LinearRegression()\n",
        "\n",
        "# Train it\n",
        "model.fit(X_train, y_train)\n",
        "\n",
        "# Make prediction\n",
        "y_pred = model.predict(X_test)\n",
        "#  Evaluate the model\n",
        "print('R^2 score: ', model.score(X_test, y_test))\n",
        "print('MSE : ', mean_squared_error(y_test, y_pred))"
      ],
      "metadata": {
        "colab": {
          "base_uri": "https://localhost:8080/"
        },
        "id": "wFwYukh105yH",
        "outputId": "63dfcc06-fcd9-4e4e-c37c-8f970e45140c"
      },
      "execution_count": 76,
      "outputs": [
        {
          "output_type": "stream",
          "name": "stdout",
          "text": [
            "R^2 score:  0.4029170781030378\n",
            "MSE :  2.3157593997161507\n"
          ]
        }
      ]
    },
    {
      "cell_type": "code",
      "source": [
        "# Regression Tree\n",
        "from sklearn.tree import DecisionTreeRegressor\n",
        "from sklearn.model_selection import cross_val_score\n",
        "\n",
        "regressor = make_pipeline(StandardScaler(), DecisionTreeRegressor(random_state=0))\n",
        "regressor.fit(X_train, y_train)\n",
        "y_pred = regressor.predict(X_test)\n",
        "\n",
        "print('R^2 score: ',regressor.score(X_test, y_test))\n",
        "print('MSE : ', mean_squared_error(y_test, y_pred))"
      ],
      "metadata": {
        "colab": {
          "base_uri": "https://localhost:8080/"
        },
        "id": "MELvKT0pPfeT",
        "outputId": "c303818f-cbd0-4e8a-fa90-620ba8678ef2"
      },
      "execution_count": 66,
      "outputs": [
        {
          "output_type": "stream",
          "name": "stdout",
          "text": [
            "R^2 score:  -0.26547399670369853\n",
            "MSE :  4.908084280241185\n"
          ]
        }
      ]
    },
    {
      "cell_type": "code",
      "source": [
        "# SVR\n",
        "from sklearn.svm import SVR\n",
        "import numpy as np\n",
        "\n",
        "regr = make_pipeline(StandardScaler(), SVR(C=1.0, epsilon=0.2, kernel = 'rbf'))\n",
        "regr.fit(X_train, y_train)\n",
        "\n",
        "y_pred = regr.predict(X_test)\n",
        "\n",
        "print('R^2 score: ',regr.score(X_test, y_test))\n",
        "print('MSE : ', mean_squared_error(y_test, y_pred))"
      ],
      "metadata": {
        "colab": {
          "base_uri": "https://localhost:8080/"
        },
        "id": "tM6I4UHEQLku",
        "outputId": "c600e9a1-caa1-44c0-e172-ba1f135add67"
      },
      "execution_count": 67,
      "outputs": [
        {
          "output_type": "stream",
          "name": "stdout",
          "text": [
            "R^2 score:  0.4164108722422055\n",
            "MSE :  2.26342432284553\n"
          ]
        }
      ]
    },
    {
      "cell_type": "markdown",
      "source": [
        "Export the function to be optimized"
      ],
      "metadata": {
        "id": "d8GpaAgbnzU-"
      }
    },
    {
      "cell_type": "code",
      "source": [
        "print(model.intercept_, model.coef_)\n",
        "intercept = model.intercept_\n",
        "coefs = model.coef_"
      ],
      "metadata": {
        "colab": {
          "base_uri": "https://localhost:8080/"
        },
        "id": "cs_shgp1n1de",
        "outputId": "497b0073-a6be-4fe6-9944-b4a6c7b77eaf"
      },
      "execution_count": 15,
      "outputs": [
        {
          "output_type": "stream",
          "name": "stdout",
          "text": [
            "0.0940925972558766 [-1.87273739e-03  1.55150949e-03  3.25774771e+00  2.22152347e-02\n",
            "  2.00946864e-02 -4.76545079e-04]\n"
          ]
        }
      ]
    },
    {
      "cell_type": "code",
      "source": [
        "parameters = [47.04,-60.64,\t0.9,\t80.0,\t48.0,\t55.0]"
      ],
      "metadata": {
        "id": "NHq29p_hoSMC"
      },
      "execution_count": 155,
      "outputs": []
    },
    {
      "cell_type": "code",
      "source": [
        "model.predict(np.array(parameters).reshape(1,6))"
      ],
      "metadata": {
        "colab": {
          "base_uri": "https://localhost:8080/"
        },
        "id": "QIrPJE75pwep",
        "outputId": "278f8daa-9099-4875-f362-37d83a3956c9"
      },
      "execution_count": 41,
      "outputs": [
        {
          "output_type": "execute_result",
          "data": {
            "text/plain": [
              "array([5.55944218])"
            ]
          },
          "metadata": {},
          "execution_count": 41
        }
      ]
    },
    {
      "cell_type": "markdown",
      "source": [
        "### PSO"
      ],
      "metadata": {
        "id": "L5ZnEe2B1_hL"
      }
    },
    {
      "cell_type": "code",
      "source": [
        "def fitness_function(model, parameters):\n",
        "\n",
        "  intercept = model.intercept_\n",
        "  coefs = model.coef_\n",
        "\n",
        "  sum = 0  \n",
        "  for i in range(6):\n",
        "    sum += (coefs[i] * parameters[i])\n",
        "  f = intercept + sum\n",
        "  return f"
      ],
      "metadata": {
        "id": "cBKC0IPTn4lK"
      },
      "execution_count": 166,
      "outputs": []
    },
    {
      "cell_type": "code",
      "source": [
        "def update_velocity(particle, velocity, pbest, gbest, w_min=0.5, max=1.0, c=0.1):\n",
        "\n",
        "  # Initialise new velocity array\n",
        "  num_particle = len(particle)\n",
        "  new_velocity = np.array([0.0 for i in range(num_particle)])\n",
        "\n",
        "  # Randomly generate r1, r2 and inertia weight from normal distribution\n",
        "  r1 = random.uniform(0,max)\n",
        "  r2 = random.uniform(0,max)\n",
        "  w = random.uniform(w_min,max)\n",
        "  c1 = c\n",
        "  c2 = c\n",
        "  # Calculate new velocity\n",
        "  for i in range(num_particle):\n",
        "    new_velocity[i] = w*velocity[i] + c1*r1*(pbest[i]-particle[i])+c2*r2*(gbest[i]-particle[i])\n",
        "  return new_velocity"
      ],
      "metadata": {
        "id": "JGNGk2vhZjmc"
      },
      "execution_count": 184,
      "outputs": []
    },
    {
      "cell_type": "code",
      "source": [
        "def update_position(particle, velocity):\n",
        "  # Move particles by adding velocity\n",
        "  new_particle = particle + velocity\n",
        "  return new_particle"
      ],
      "metadata": {
        "id": "5TnFdYHbag5l"
      },
      "execution_count": 185,
      "outputs": []
    },
    {
      "cell_type": "code",
      "source": [
        "def pso(population_size, dimension, parameters, generation, fitness_criterion, model):\n",
        "  # Initialisation\n",
        "  # Population\n",
        "\n",
        "  particles = []\n",
        "\n",
        "  for i in range(population_size):\n",
        "    # Create a particle and add it to the population\n",
        "    particle = []\n",
        "    for j in range(6):\n",
        "      # Populate the particle with 6 random number from the 6 parameters\n",
        "      lower_bound = list(parameters.values())[j][0]\n",
        "      upper_bound = list(parameters.values())[j][1]\n",
        "\n",
        "      particle.append(random.uniform(lower_bound, upper_bound))\n",
        "\n",
        "    particles.append(particle)\n",
        "\n",
        "  #particles = [[random.uniform(position_min, position_max) for j in range(dimension)] for i in range(population)]\n",
        "  # Particle's best position\n",
        "  pbest_position = particles\n",
        "  # Fitness\n",
        "  pbest_fitness = []\n",
        "\n",
        "  for particle in particles:\n",
        "    fitness = fitness_function(model, particle)\n",
        "    pbest_fitness.append(fitness)\n",
        "\n",
        "  # Index of the best particle\n",
        "  gbest_index = np.argmin(pbest_fitness)\n",
        "  # Global best particle position\n",
        "  gbest_position = pbest_position[gbest_index]\n",
        "  # Velocity (starting from 0 speed)\n",
        "  velocity = [[0.0 for j in range(dimension)] for i in range(population_size)]\n",
        "  \n",
        "  # Loop for the number of generation\n",
        "  for t in range(generation):\n",
        "    # Stop if the average fitness value reached a predefined success criterion\n",
        "    if np.average(pbest_fitness) <= fitness_criterion:\n",
        "      break\n",
        "    else:\n",
        "      for n in range(population_size):\n",
        "        # Update the velocity of each particle\n",
        "        velocity[n] = update_velocity(particles[n], velocity[n], pbest_position[n], gbest_position)\n",
        "        # Move the particles to new position\n",
        "        particles[n] = update_position(particles[n], velocity[n])\n",
        "    # Calculate the fitness value\n",
        "    pbest_fitness = [fitness_function(model, particle) for particle in particles]\n",
        "    # Find the index of the best particle\n",
        "    gbest_index = np.argmin(pbest_fitness)\n",
        "    # Update the position of the best particle\n",
        "    gbest_position = pbest_position[gbest_index]\n",
        "\n",
        "  # Print the results\n",
        "  print('Global Best Position: ', gbest_position)\n",
        "  print('Best Fitness Value: ', min(pbest_fitness))\n",
        "  print('Average Particle Best Fitness Value: ', np.average(pbest_fitness))\n",
        "  print('Number of Generation: ', t)\n"
      ],
      "metadata": {
        "id": "hm48RamIakP7"
      },
      "execution_count": 186,
      "outputs": []
    },
    {
      "cell_type": "code",
      "source": [
        "population = 100\n",
        "dimension = 2\n",
        "position_min = -100.0\n",
        "position_max = 100.0\n",
        "generation = 400\n",
        "fitness_criterion = 10e-2"
      ],
      "metadata": {
        "id": "HHaLzbWnkHJJ"
      },
      "execution_count": 187,
      "outputs": []
    },
    {
      "cell_type": "code",
      "source": [
        "parameters = {\n",
        "    'Angles_0' : [-180, 180],\n",
        "    'Angles_1' : [-180, 180], \n",
        "    'freq' : [0, 1],\n",
        "    'amp_1' : [-90, 90], \n",
        "    'amp_2' : [-90, 90],\n",
        "    'phase' : [-90, 90]\n",
        "}"
      ],
      "metadata": {
        "id": "5ea5PNLcbg8S"
      },
      "execution_count": 188,
      "outputs": []
    },
    {
      "cell_type": "code",
      "source": [
        "population_size = 100\n",
        "dimension = 6\n",
        "generation = 100\n",
        "fitness_criterion = 10e-4"
      ],
      "metadata": {
        "id": "GiOvb6-8a8OB"
      },
      "execution_count": 189,
      "outputs": []
    },
    {
      "cell_type": "code",
      "source": [
        "pso(population_size, dimension, parameters, generation, fitness_criterion, model)"
      ],
      "metadata": {
        "colab": {
          "base_uri": "https://localhost:8080/"
        },
        "id": "0YlM3DBOk8cD",
        "outputId": "5d22a141-b0e3-49ba-8532-f4cb8a7fced2"
      },
      "execution_count": 190,
      "outputs": [
        {
          "output_type": "stream",
          "name": "stdout",
          "text": [
            "Global Best Position:  [  2.84984864 172.72482778   0.28131596 -86.25145482 -33.19633945\n",
            "   9.19598419]\n",
            "Best Fitness Value:  -1.3143524327037546\n",
            "Average Particle Best Fitness Value:  -0.11530515518240068\n",
            "Number of Generation:  6\n"
          ]
        }
      ]
    },
    {
      "cell_type": "code",
      "source": [],
      "metadata": {
        "id": "KY0Eg0BVlO1d"
      },
      "execution_count": null,
      "outputs": []
    }
  ]
}