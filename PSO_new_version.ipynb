{
  "cells": [
    {
      "attachments": {},
      "cell_type": "markdown",
      "metadata": {
        "id": "LNS_8E670gMY"
      },
      "source": [
        "The plan is to implement PSO in order to find the different optima from our parameter space. As PSO needs an evaluation function to work, we will use a linear regression model to predict the speed based on the parameters being tried. \n",
        "\n",
        "The linear regression is done from the collected data from the robot."
      ]
    },
    {
      "attachments": {},
      "cell_type": "markdown",
      "metadata": {
        "id": "LRUZT7iRw_Fg"
      },
      "source": [
        "### Imports"
      ]
    },
    {
      "cell_type": "code",
      "execution_count": 2,
      "metadata": {
        "id": "ry1qrKE90-6J"
      },
      "outputs": [],
      "source": [
        "# Imports\n",
        "import pandas as pd\n",
        "import numpy as np\n",
        "from sklearn.linear_model import LinearRegression\n",
        "from sklearn.model_selection import train_test_split\n",
        "from sklearn.metrics import classification_report, mean_squared_error\n",
        "\n",
        "import copy\n",
        "import numpy.random as rnd\n",
        "import time\n",
        "import matplotlib.pyplot as plt\n",
        "\n",
        "from sklearn.pipeline import make_pipeline\n",
        "from sklearn.preprocessing import StandardScaler\n",
        "import random\n",
        "import numpy as np\n",
        "from matplotlib import pyplot as plt\n",
        "from matplotlib import animation"
      ]
    },
    {
      "attachments": {},
      "cell_type": "markdown",
      "metadata": {
        "id": "wj7yBUj801XS"
      },
      "source": [
        "### Regression Models"
      ]
    },
    {
      "cell_type": "code",
      "execution_count": 3,
      "metadata": {
        "id": "HNnu3YYg0Zua"
      },
      "outputs": [],
      "source": [
        "# Get the data\n",
        "df = pd.read_csv(\"Final.csv\")"
      ]
    },
    {
      "cell_type": "code",
      "execution_count": 4,
      "metadata": {
        "colab": {
          "base_uri": "https://localhost:8080/",
          "height": 206
        },
        "id": "-ooSpe7A04FC",
        "outputId": "6259faa4-6909-42cb-9be7-51dd00da4293"
      },
      "outputs": [
        {
          "data": {
            "text/html": [
              "<div>\n",
              "<style scoped>\n",
              "    .dataframe tbody tr th:only-of-type {\n",
              "        vertical-align: middle;\n",
              "    }\n",
              "\n",
              "    .dataframe tbody tr th {\n",
              "        vertical-align: top;\n",
              "    }\n",
              "\n",
              "    .dataframe thead th {\n",
              "        text-align: right;\n",
              "    }\n",
              "</style>\n",
              "<table border=\"1\" class=\"dataframe\">\n",
              "  <thead>\n",
              "    <tr style=\"text-align: right;\">\n",
              "      <th></th>\n",
              "      <th>Angles_0</th>\n",
              "      <th>Angles_1</th>\n",
              "      <th>freq</th>\n",
              "      <th>amp_1</th>\n",
              "      <th>amp_2</th>\n",
              "      <th>offset_1</th>\n",
              "      <th>offset_2</th>\n",
              "      <th>phase</th>\n",
              "      <th>Potentials_0</th>\n",
              "      <th>Potentials_1</th>\n",
              "      <th>Speed</th>\n",
              "    </tr>\n",
              "  </thead>\n",
              "  <tbody>\n",
              "    <tr>\n",
              "      <th>0</th>\n",
              "      <td>28.55</td>\n",
              "      <td>-5.26</td>\n",
              "      <td>0.9</td>\n",
              "      <td>80.0</td>\n",
              "      <td>48.0</td>\n",
              "      <td>56.0</td>\n",
              "      <td>-34</td>\n",
              "      <td>-52.0</td>\n",
              "      <td>12.0</td>\n",
              "      <td>-27.0</td>\n",
              "      <td>14.622617</td>\n",
              "    </tr>\n",
              "    <tr>\n",
              "      <th>1</th>\n",
              "      <td>-100.59</td>\n",
              "      <td>-5.21</td>\n",
              "      <td>0.8</td>\n",
              "      <td>80.0</td>\n",
              "      <td>80.0</td>\n",
              "      <td>-25.0</td>\n",
              "      <td>26</td>\n",
              "      <td>-52.0</td>\n",
              "      <td>-82.0</td>\n",
              "      <td>21.0</td>\n",
              "      <td>12.119482</td>\n",
              "    </tr>\n",
              "    <tr>\n",
              "      <th>2</th>\n",
              "      <td>-29.30</td>\n",
              "      <td>4.55</td>\n",
              "      <td>0.8</td>\n",
              "      <td>63.0</td>\n",
              "      <td>79.0</td>\n",
              "      <td>-87.0</td>\n",
              "      <td>-73</td>\n",
              "      <td>22.0</td>\n",
              "      <td>-33.0</td>\n",
              "      <td>8.0</td>\n",
              "      <td>11.847835</td>\n",
              "    </tr>\n",
              "    <tr>\n",
              "      <th>3</th>\n",
              "      <td>-46.97</td>\n",
              "      <td>22.27</td>\n",
              "      <td>0.3</td>\n",
              "      <td>48.0</td>\n",
              "      <td>63.0</td>\n",
              "      <td>7.0</td>\n",
              "      <td>-21</td>\n",
              "      <td>11.0</td>\n",
              "      <td>-38.0</td>\n",
              "      <td>10.0</td>\n",
              "      <td>11.480086</td>\n",
              "    </tr>\n",
              "    <tr>\n",
              "      <th>4</th>\n",
              "      <td>47.04</td>\n",
              "      <td>-60.64</td>\n",
              "      <td>0.9</td>\n",
              "      <td>80.0</td>\n",
              "      <td>48.0</td>\n",
              "      <td>56.0</td>\n",
              "      <td>-34</td>\n",
              "      <td>55.0</td>\n",
              "      <td>102.0</td>\n",
              "      <td>-42.0</td>\n",
              "      <td>11.266257</td>\n",
              "    </tr>\n",
              "  </tbody>\n",
              "</table>\n",
              "</div>"
            ],
            "text/plain": [
              "   Angles_0  Angles_1  freq  amp_1  amp_2  offset_1  offset_2  phase  \\\n",
              "0     28.55     -5.26   0.9   80.0   48.0      56.0       -34  -52.0   \n",
              "1   -100.59     -5.21   0.8   80.0   80.0     -25.0        26  -52.0   \n",
              "2    -29.30      4.55   0.8   63.0   79.0     -87.0       -73   22.0   \n",
              "3    -46.97     22.27   0.3   48.0   63.0       7.0       -21   11.0   \n",
              "4     47.04    -60.64   0.9   80.0   48.0      56.0       -34   55.0   \n",
              "\n",
              "   Potentials_0  Potentials_1      Speed  \n",
              "0          12.0         -27.0  14.622617  \n",
              "1         -82.0          21.0  12.119482  \n",
              "2         -33.0           8.0  11.847835  \n",
              "3         -38.0          10.0  11.480086  \n",
              "4         102.0         -42.0  11.266257  "
            ]
          },
          "execution_count": 4,
          "metadata": {},
          "output_type": "execute_result"
        }
      ],
      "source": [
        "df.head()"
      ]
    },
    {
      "cell_type": "code",
      "execution_count": 5,
      "metadata": {
        "colab": {
          "base_uri": "https://localhost:8080/"
        },
        "id": "m9g95oMzOv-J",
        "outputId": "3ac78ebc-2d60-43e0-c24f-4b9862a48e67"
      },
      "outputs": [
        {
          "data": {
            "text/plain": [
              "(3107, 7)"
            ]
          },
          "execution_count": 5,
          "metadata": {},
          "output_type": "execute_result"
        }
      ],
      "source": [
        "df = df.drop(columns = ['offset_1', 'offset_2', 'Potentials_0', 'Potentials_1'], axis = 1)\n",
        "df.shape"
      ]
    },
    {
      "cell_type": "code",
      "execution_count": 6,
      "metadata": {
        "colab": {
          "base_uri": "https://localhost:8080/"
        },
        "id": "wFwYukh105yH",
        "outputId": "63dfcc06-fcd9-4e4e-c37c-8f970e45140c"
      },
      "outputs": [
        {
          "name": "stdout",
          "output_type": "stream",
          "text": [
            "R^2 score:  0.4029170781030391\n",
            "MSE :  2.315759399716146\n"
          ]
        }
      ],
      "source": [
        "# Prepare the data for the model\n",
        "\n",
        "X = df.drop(columns = 'Speed', axis = 1).values\n",
        "y = df.Speed.values\n",
        "\n",
        "# Split the data\n",
        "X_train, X_test, y_train, y_test = train_test_split(X, y, test_size = 0.33, random_state = 18)\n",
        "\n",
        "# Create the model\n",
        "model = LinearRegression()\n",
        "\n",
        "# Train it\n",
        "model.fit(X_train, y_train)\n",
        "\n",
        "# Make prediction\n",
        "y_pred = model.predict(X_test)\n",
        "#  Evaluate the model\n",
        "print('R^2 score: ', model.score(X_test, y_test))\n",
        "print('MSE : ', mean_squared_error(y_test, y_pred))"
      ]
    },
    {
      "cell_type": "code",
      "execution_count": 7,
      "metadata": {
        "colab": {
          "base_uri": "https://localhost:8080/"
        },
        "id": "MELvKT0pPfeT",
        "outputId": "c303818f-cbd0-4e8a-fa90-620ba8678ef2"
      },
      "outputs": [
        {
          "name": "stdout",
          "output_type": "stream",
          "text": [
            "R^2 score:  -0.27890325467373356\n",
            "MSE :  4.960169056467104\n"
          ]
        }
      ],
      "source": [
        "# Regression Tree\n",
        "from sklearn.tree import DecisionTreeRegressor\n",
        "from sklearn.model_selection import cross_val_score\n",
        "\n",
        "regressor = make_pipeline(StandardScaler(), DecisionTreeRegressor(random_state=0))\n",
        "regressor.fit(X_train, y_train)\n",
        "y_pred = regressor.predict(X_test)\n",
        "\n",
        "print('R^2 score: ',regressor.score(X_test, y_test))\n",
        "print('MSE : ', mean_squared_error(y_test, y_pred))"
      ]
    },
    {
      "cell_type": "code",
      "execution_count": 8,
      "metadata": {
        "colab": {
          "base_uri": "https://localhost:8080/"
        },
        "id": "tM6I4UHEQLku",
        "outputId": "c600e9a1-caa1-44c0-e172-ba1f135add67"
      },
      "outputs": [
        {
          "name": "stdout",
          "output_type": "stream",
          "text": [
            "R^2 score:  0.4164108722422054\n",
            "MSE :  2.263424322845531\n"
          ]
        }
      ],
      "source": [
        "# SVR\n",
        "from sklearn.svm import SVR\n",
        "import numpy as np\n",
        "\n",
        "regr = make_pipeline(StandardScaler(), SVR(C=1.0, epsilon=0.2, kernel = 'rbf'))\n",
        "regr.fit(X_train, y_train)\n",
        "\n",
        "y_pred = regr.predict(X_test)\n",
        "\n",
        "print('R^2 score: ',regr.score(X_test, y_test))\n",
        "print('MSE : ', mean_squared_error(y_test, y_pred))"
      ]
    },
    {
      "attachments": {},
      "cell_type": "markdown",
      "metadata": {
        "id": "d8GpaAgbnzU-"
      },
      "source": [
        "Export the function to be optimized"
      ]
    },
    {
      "cell_type": "code",
      "execution_count": 9,
      "metadata": {
        "colab": {
          "base_uri": "https://localhost:8080/"
        },
        "id": "cs_shgp1n1de",
        "outputId": "497b0073-a6be-4fe6-9944-b4a6c7b77eaf"
      },
      "outputs": [
        {
          "name": "stdout",
          "output_type": "stream",
          "text": [
            "0.09409259725585706 [-1.87273739e-03  1.55150949e-03  3.25774771e+00  2.22152347e-02\n",
            "  2.00946864e-02 -4.76545079e-04]\n"
          ]
        }
      ],
      "source": [
        "print(model.intercept_, model.coef_)\n",
        "intercept = model.intercept_\n",
        "coefs = model.coef_"
      ]
    },
    {
      "cell_type": "code",
      "execution_count": 10,
      "metadata": {
        "id": "NHq29p_hoSMC"
      },
      "outputs": [],
      "source": [
        "parameters = [47.04,-60.64,\t0.9,\t80.0,\t48.0,\t55.0]"
      ]
    },
    {
      "cell_type": "code",
      "execution_count": 11,
      "metadata": {
        "colab": {
          "base_uri": "https://localhost:8080/"
        },
        "id": "QIrPJE75pwep",
        "outputId": "278f8daa-9099-4875-f362-37d83a3956c9"
      },
      "outputs": [
        {
          "data": {
            "text/plain": [
              "array([5.55944218])"
            ]
          },
          "execution_count": 11,
          "metadata": {},
          "output_type": "execute_result"
        }
      ],
      "source": [
        "model.predict(np.array(parameters).reshape(1,6))"
      ]
    },
    {
      "attachments": {},
      "cell_type": "markdown",
      "metadata": {
        "id": "L5ZnEe2B1_hL"
      },
      "source": [
        "### PSO"
      ]
    },
    {
      "cell_type": "code",
      "execution_count": 12,
      "metadata": {
        "id": "cBKC0IPTn4lK"
      },
      "outputs": [],
      "source": [
        "def fitness_function(model, parameters):\n",
        "\n",
        "  intercept = model.intercept_\n",
        "  coefs = model.coef_\n",
        "\n",
        "  sum = 0  \n",
        "  for i in range(6):\n",
        "    sum += (coefs[i] * parameters[i])\n",
        "  f = intercept + sum\n",
        "  return f"
      ]
    },
    {
      "cell_type": "code",
      "execution_count": 13,
      "metadata": {
        "id": "JGNGk2vhZjmc"
      },
      "outputs": [],
      "source": [
        "def update_velocity(particle, velocity, pbest, gbest, w_min=0.5, max=1.0, c=0.1):\n",
        "\n",
        "  # Initialise new velocity array\n",
        "  num_particle = len(particle)\n",
        "  new_velocity = np.array([0.0 for i in range(num_particle)])\n",
        "\n",
        "  # Randomly generate r1, r2 and inertia weight from normal distribution\n",
        "  r1 = random.uniform(0,max)\n",
        "  r2 = random.uniform(0,max)\n",
        "  w = random.uniform(w_min,max)\n",
        "  c1 = c\n",
        "  c2 = c\n",
        "  # Calculate new velocity\n",
        "  for i in range(num_particle):\n",
        "    new_velocity[i] = w*velocity[i] + c1*r1*(pbest[i]-particle[i])+c2*r2*(gbest[i]-particle[i])\n",
        "  return new_velocity"
      ]
    },
    {
      "cell_type": "code",
      "execution_count": 14,
      "metadata": {
        "id": "5TnFdYHbag5l"
      },
      "outputs": [],
      "source": [
        "def update_position(particle, velocity):\n",
        "  # Move particles by adding velocity\n",
        "  new_particle = particle + velocity\n",
        "  return new_particle"
      ]
    },
    {
      "cell_type": "code",
      "execution_count": 24,
      "metadata": {
        "id": "hm48RamIakP7"
      },
      "outputs": [],
      "source": [
        "def pso(population_size, dimension, parameters, generation, fitness_criterion, model):\n",
        "  # Initialisation\n",
        "  # Population\n",
        "\n",
        "  particles = []\n",
        "\n",
        "  for i in range(population_size):\n",
        "    # Create a particle and add it to the population\n",
        "    particle = []\n",
        "    for j in range(6):\n",
        "      # Populate the particle with 6 random number from the 6 parameters\n",
        "      lower_bound = list(parameters.values())[j][0]\n",
        "      upper_bound = list(parameters.values())[j][1]\n",
        "\n",
        "      # Some parameters have to be integers\n",
        "      if j == 0 or j == 1:\n",
        "        particle.append(random.uniform(lower_bound, upper_bound))\n",
        "      elif j == 2:\n",
        "        particle.append(random.randint(lower_bound, upper_bound)/10)\n",
        "      else:\n",
        "        particle.append(random.randint(lower_bound, upper_bound))\n",
        "\n",
        "    particles.append(particle)\n",
        "\n",
        "  #particles = [[random.uniform(position_min, position_max) for j in range(dimension)] for i in range(population)]\n",
        "  # Particle's best position\n",
        "  pbest_position = particles\n",
        "  # Fitness\n",
        "  pbest_fitness = []\n",
        "\n",
        "  for particle in particles:\n",
        "    fitness = fitness_function(model, particle)\n",
        "    pbest_fitness.append(fitness)\n",
        "\n",
        "  # Index of the best particle\n",
        "  gbest_index = np.argmin(pbest_fitness)\n",
        "  # Global best particle position\n",
        "  gbest_position = pbest_position[gbest_index]\n",
        "  # Velocity (starting from 0 speed)\n",
        "  velocity = [[0.0 for j in range(dimension)] for i in range(population_size)]\n",
        "  \n",
        "  # Loop for the number of generation\n",
        "  for t in range(generation):\n",
        "    # Stop if the average fitness value reached a predefined success criterion\n",
        "    if np.average(pbest_fitness) <= fitness_criterion:\n",
        "      break\n",
        "    else:\n",
        "      for n in range(population_size):\n",
        "        # Update the velocity of each particle\n",
        "        velocity[n] = update_velocity(particles[n], velocity[n], pbest_position[n], gbest_position)\n",
        "        # Move the particles to new position\n",
        "        particles[n] = update_position(particles[n], velocity[n])\n",
        "    # Calculate the fitness value\n",
        "    pbest_fitness = [fitness_function(model, particle) for particle in particles]\n",
        "    # Find the index of the best particle\n",
        "    gbest_index = np.argmin(pbest_fitness)\n",
        "    # Update the position of the best particle\n",
        "    gbest_position = pbest_position[gbest_index]\n",
        "\n",
        "  # Print the results\n",
        "  print('Global Best Position: ', gbest_position)\n",
        "  print('Best Fitness Value: ', min(pbest_fitness))\n",
        "  print('Average Particle Best Fitness Value: ', np.average(pbest_fitness))\n",
        "  print('Number of Generation: ', t)\n"
      ]
    },
    {
      "cell_type": "code",
      "execution_count": 26,
      "metadata": {
        "id": "HHaLzbWnkHJJ"
      },
      "outputs": [],
      "source": [
        "population_size = 100\n",
        "dimension = 6\n",
        "generation = 400\n",
        "fitness_criterion = 10e-4"
      ]
    },
    {
      "cell_type": "code",
      "execution_count": 27,
      "metadata": {
        "id": "5ea5PNLcbg8S"
      },
      "outputs": [],
      "source": [
        "parameters = {\n",
        "    'Angles_0' : [-180, 180],\n",
        "    'Angles_1' : [-180, 180], \n",
        "    'freq' : [0, 10],\n",
        "    'amp_1' : [-90, 90], \n",
        "    'amp_2' : [-90, 90],\n",
        "    'phase' : [-90, 90]\n",
        "}"
      ]
    },
    {
      "cell_type": "code",
      "execution_count": 29,
      "metadata": {
        "colab": {
          "base_uri": "https://localhost:8080/"
        },
        "id": "0YlM3DBOk8cD",
        "outputId": "5d22a141-b0e3-49ba-8532-f4cb8a7fced2"
      },
      "outputs": [
        {
          "name": "stdout",
          "output_type": "stream",
          "text": [
            "Global Best Position:  [-6.77383149e+01  1.11203568e+02  1.00000000e-01 -9.00000000e+01\n",
            " -6.80000000e+01 -6.00000000e+00]\n",
            "Best Fitness Value:  -2.6436936903728436\n",
            "Average Particle Best Fitness Value:  -0.2634258339805192\n",
            "Number of Generation:  5\n"
          ]
        }
      ],
      "source": [
        "pso(population_size, dimension, parameters, generation, fitness_criterion, model)"
      ]
    },
    {
      "cell_type": "code",
      "execution_count": 23,
      "metadata": {
        "id": "KY0Eg0BVlO1d"
      },
      "outputs": [
        {
          "data": {
            "text/plain": [
              "0.1"
            ]
          },
          "execution_count": 23,
          "metadata": {},
          "output_type": "execute_result"
        }
      ],
      "source": [
        "random.randint(0, 10)/10"
      ]
    },
    {
      "cell_type": "code",
      "execution_count": null,
      "metadata": {},
      "outputs": [],
      "source": []
    }
  ],
  "metadata": {
    "colab": {
      "collapsed_sections": [
        "LRUZT7iRw_Fg",
        "wj7yBUj801XS",
        "L5ZnEe2B1_hL"
      ],
      "provenance": []
    },
    "kernelspec": {
      "display_name": "Python 3",
      "name": "python3"
    },
    "language_info": {
      "codemirror_mode": {
        "name": "ipython",
        "version": 3
      },
      "file_extension": ".py",
      "mimetype": "text/x-python",
      "name": "python",
      "nbconvert_exporter": "python",
      "pygments_lexer": "ipython3",
      "version": "3.8.3"
    }
  },
  "nbformat": 4,
  "nbformat_minor": 0
}
