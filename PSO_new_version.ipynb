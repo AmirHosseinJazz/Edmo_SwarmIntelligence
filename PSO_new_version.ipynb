{
  "cells": [
    {
      "attachments": {},
      "cell_type": "markdown",
      "metadata": {
        "id": "LNS_8E670gMY"
      },
      "source": [
        "The plan is to implement PSO in order to find the different optima from our parameter space. As PSO needs an evaluation function to work, we will use a linear regression model to predict the speed based on the parameters being tried. \n",
        "\n",
        "The linear regression is done from the collected data from the robot."
      ]
    },
    {
      "attachments": {},
      "cell_type": "markdown",
      "metadata": {
        "id": "LRUZT7iRw_Fg"
      },
      "source": [
        "### Imports"
      ]
    },
    {
      "cell_type": "code",
      "execution_count": 1,
      "metadata": {
        "id": "ry1qrKE90-6J"
      },
      "outputs": [],
      "source": [
        "# Imports\n",
        "import pandas as pd\n",
        "import numpy as np\n",
        "from sklearn.linear_model import LinearRegression\n",
        "from sklearn.model_selection import train_test_split\n",
        "from sklearn.metrics import classification_report, mean_squared_error\n",
        "from sklearn.ensemble import RandomForestRegressor\n",
        "\n",
        "import copy\n",
        "import numpy.random as rnd\n",
        "import time\n",
        "import matplotlib.pyplot as plt\n",
        "\n",
        "from sklearn.pipeline import make_pipeline\n",
        "from sklearn.preprocessing import StandardScaler\n",
        "import random\n",
        "import numpy as np\n",
        "from matplotlib import pyplot as plt\n",
        "from matplotlib import animation\n",
        "from utils import subspace"
      ]
    },
    {
      "attachments": {},
      "cell_type": "markdown",
      "metadata": {
        "id": "wj7yBUj801XS"
      },
      "source": [
        "### Regression Models"
      ]
    },
    {
      "cell_type": "code",
      "execution_count": 2,
      "metadata": {
        "id": "HNnu3YYg0Zua"
      },
      "outputs": [],
      "source": [
        "# Get the data\n",
        "df1 = pd.read_csv(\"firstbatch_500Samples.csv\")\n",
        "df2 = pd.read_csv(\"secondbatch_500Samples.csv\")\n",
        "df=pd.concat([df1,df2])"
      ]
    },
    {
      "cell_type": "code",
      "execution_count": 3,
      "metadata": {
        "colab": {
          "base_uri": "https://localhost:8080/",
          "height": 206
        },
        "id": "-ooSpe7A04FC",
        "outputId": "6259faa4-6909-42cb-9be7-51dd00da4293"
      },
      "outputs": [
        {
          "data": {
            "text/html": [
              "<div>\n",
              "<style scoped>\n",
              "    .dataframe tbody tr th:only-of-type {\n",
              "        vertical-align: middle;\n",
              "    }\n",
              "\n",
              "    .dataframe tbody tr th {\n",
              "        vertical-align: top;\n",
              "    }\n",
              "\n",
              "    .dataframe thead th {\n",
              "        text-align: right;\n",
              "    }\n",
              "</style>\n",
              "<table border=\"1\" class=\"dataframe\">\n",
              "  <thead>\n",
              "    <tr style=\"text-align: right;\">\n",
              "      <th></th>\n",
              "      <th>Unnamed: 0</th>\n",
              "      <th>Snelheid</th>\n",
              "      <th>Omvang1</th>\n",
              "      <th>Positie1</th>\n",
              "      <th>Omvang2</th>\n",
              "      <th>Positie2</th>\n",
              "      <th>Relatie</th>\n",
              "      <th>Speed</th>\n",
              "    </tr>\n",
              "  </thead>\n",
              "  <tbody>\n",
              "    <tr>\n",
              "      <th>0</th>\n",
              "      <td>0</td>\n",
              "      <td>0.0</td>\n",
              "      <td>0.0</td>\n",
              "      <td>-15.0</td>\n",
              "      <td>15.0</td>\n",
              "      <td>-75.0</td>\n",
              "      <td>15.0</td>\n",
              "      <td>1.012087</td>\n",
              "    </tr>\n",
              "    <tr>\n",
              "      <th>1</th>\n",
              "      <td>1</td>\n",
              "      <td>0.0</td>\n",
              "      <td>0.0</td>\n",
              "      <td>15.0</td>\n",
              "      <td>30.0</td>\n",
              "      <td>30.0</td>\n",
              "      <td>-90.0</td>\n",
              "      <td>0.844846</td>\n",
              "    </tr>\n",
              "    <tr>\n",
              "      <th>2</th>\n",
              "      <td>2</td>\n",
              "      <td>0.0</td>\n",
              "      <td>0.0</td>\n",
              "      <td>15.0</td>\n",
              "      <td>60.0</td>\n",
              "      <td>-30.0</td>\n",
              "      <td>-90.0</td>\n",
              "      <td>2.491373</td>\n",
              "    </tr>\n",
              "    <tr>\n",
              "      <th>3</th>\n",
              "      <td>3</td>\n",
              "      <td>0.0</td>\n",
              "      <td>0.0</td>\n",
              "      <td>45.0</td>\n",
              "      <td>60.0</td>\n",
              "      <td>75.0</td>\n",
              "      <td>60.0</td>\n",
              "      <td>1.249660</td>\n",
              "    </tr>\n",
              "    <tr>\n",
              "      <th>4</th>\n",
              "      <td>4</td>\n",
              "      <td>0.0</td>\n",
              "      <td>0.0</td>\n",
              "      <td>75.0</td>\n",
              "      <td>30.0</td>\n",
              "      <td>-75.0</td>\n",
              "      <td>-90.0</td>\n",
              "      <td>1.112912</td>\n",
              "    </tr>\n",
              "  </tbody>\n",
              "</table>\n",
              "</div>"
            ],
            "text/plain": [
              "   Unnamed: 0  Snelheid  Omvang1  Positie1  Omvang2  Positie2  Relatie  \\\n",
              "0           0       0.0      0.0     -15.0     15.0     -75.0     15.0   \n",
              "1           1       0.0      0.0      15.0     30.0      30.0    -90.0   \n",
              "2           2       0.0      0.0      15.0     60.0     -30.0    -90.0   \n",
              "3           3       0.0      0.0      45.0     60.0      75.0     60.0   \n",
              "4           4       0.0      0.0      75.0     30.0     -75.0    -90.0   \n",
              "\n",
              "      Speed  \n",
              "0  1.012087  \n",
              "1  0.844846  \n",
              "2  2.491373  \n",
              "3  1.249660  \n",
              "4  1.112912  "
            ]
          },
          "execution_count": 3,
          "metadata": {},
          "output_type": "execute_result"
        }
      ],
      "source": [
        "df.head()"
      ]
    },
    {
      "cell_type": "code",
      "execution_count": 4,
      "metadata": {},
      "outputs": [],
      "source": [
        "columns = ['Snelheid', 'Omvang1', 'Positie1', 'Relatie', 'Omvang2', \"Positie2\", 'Speed']\n",
        "df = df[columns]"
      ]
    },
    {
      "cell_type": "code",
      "execution_count": 5,
      "metadata": {},
      "outputs": [
        {
          "data": {
            "text/html": [
              "<div>\n",
              "<style scoped>\n",
              "    .dataframe tbody tr th:only-of-type {\n",
              "        vertical-align: middle;\n",
              "    }\n",
              "\n",
              "    .dataframe tbody tr th {\n",
              "        vertical-align: top;\n",
              "    }\n",
              "\n",
              "    .dataframe thead th {\n",
              "        text-align: right;\n",
              "    }\n",
              "</style>\n",
              "<table border=\"1\" class=\"dataframe\">\n",
              "  <thead>\n",
              "    <tr style=\"text-align: right;\">\n",
              "      <th></th>\n",
              "      <th>Snelheid</th>\n",
              "      <th>Omvang1</th>\n",
              "      <th>Positie1</th>\n",
              "      <th>Relatie</th>\n",
              "      <th>Omvang2</th>\n",
              "      <th>Positie2</th>\n",
              "      <th>Speed</th>\n",
              "    </tr>\n",
              "  </thead>\n",
              "  <tbody>\n",
              "    <tr>\n",
              "      <th>0</th>\n",
              "      <td>0.0</td>\n",
              "      <td>0.0</td>\n",
              "      <td>-15.0</td>\n",
              "      <td>15.0</td>\n",
              "      <td>15.0</td>\n",
              "      <td>-75.0</td>\n",
              "      <td>1.012087</td>\n",
              "    </tr>\n",
              "    <tr>\n",
              "      <th>1</th>\n",
              "      <td>0.0</td>\n",
              "      <td>0.0</td>\n",
              "      <td>15.0</td>\n",
              "      <td>-90.0</td>\n",
              "      <td>30.0</td>\n",
              "      <td>30.0</td>\n",
              "      <td>0.844846</td>\n",
              "    </tr>\n",
              "    <tr>\n",
              "      <th>2</th>\n",
              "      <td>0.0</td>\n",
              "      <td>0.0</td>\n",
              "      <td>15.0</td>\n",
              "      <td>-90.0</td>\n",
              "      <td>60.0</td>\n",
              "      <td>-30.0</td>\n",
              "      <td>2.491373</td>\n",
              "    </tr>\n",
              "    <tr>\n",
              "      <th>3</th>\n",
              "      <td>0.0</td>\n",
              "      <td>0.0</td>\n",
              "      <td>45.0</td>\n",
              "      <td>60.0</td>\n",
              "      <td>60.0</td>\n",
              "      <td>75.0</td>\n",
              "      <td>1.249660</td>\n",
              "    </tr>\n",
              "    <tr>\n",
              "      <th>4</th>\n",
              "      <td>0.0</td>\n",
              "      <td>0.0</td>\n",
              "      <td>75.0</td>\n",
              "      <td>-90.0</td>\n",
              "      <td>30.0</td>\n",
              "      <td>-75.0</td>\n",
              "      <td>1.112912</td>\n",
              "    </tr>\n",
              "    <tr>\n",
              "      <th>...</th>\n",
              "      <td>...</td>\n",
              "      <td>...</td>\n",
              "      <td>...</td>\n",
              "      <td>...</td>\n",
              "      <td>...</td>\n",
              "      <td>...</td>\n",
              "      <td>...</td>\n",
              "    </tr>\n",
              "    <tr>\n",
              "      <th>493</th>\n",
              "      <td>9.0</td>\n",
              "      <td>75.0</td>\n",
              "      <td>-45.0</td>\n",
              "      <td>30.0</td>\n",
              "      <td>0.0</td>\n",
              "      <td>-90.0</td>\n",
              "      <td>5.130143</td>\n",
              "    </tr>\n",
              "    <tr>\n",
              "      <th>494</th>\n",
              "      <td>9.0</td>\n",
              "      <td>75.0</td>\n",
              "      <td>-30.0</td>\n",
              "      <td>30.0</td>\n",
              "      <td>0.0</td>\n",
              "      <td>-90.0</td>\n",
              "      <td>4.264560</td>\n",
              "    </tr>\n",
              "    <tr>\n",
              "      <th>495</th>\n",
              "      <td>9.0</td>\n",
              "      <td>75.0</td>\n",
              "      <td>-30.0</td>\n",
              "      <td>30.0</td>\n",
              "      <td>15.0</td>\n",
              "      <td>60.0</td>\n",
              "      <td>5.720083</td>\n",
              "    </tr>\n",
              "    <tr>\n",
              "      <th>496</th>\n",
              "      <td>9.0</td>\n",
              "      <td>75.0</td>\n",
              "      <td>30.0</td>\n",
              "      <td>-90.0</td>\n",
              "      <td>15.0</td>\n",
              "      <td>-15.0</td>\n",
              "      <td>5.768844</td>\n",
              "    </tr>\n",
              "    <tr>\n",
              "      <th>497</th>\n",
              "      <td>9.0</td>\n",
              "      <td>75.0</td>\n",
              "      <td>30.0</td>\n",
              "      <td>75.0</td>\n",
              "      <td>45.0</td>\n",
              "      <td>-75.0</td>\n",
              "      <td>4.581650</td>\n",
              "    </tr>\n",
              "  </tbody>\n",
              "</table>\n",
              "<p>998 rows × 7 columns</p>\n",
              "</div>"
            ],
            "text/plain": [
              "     Snelheid  Omvang1  Positie1  Relatie  Omvang2  Positie2     Speed\n",
              "0         0.0      0.0     -15.0     15.0     15.0     -75.0  1.012087\n",
              "1         0.0      0.0      15.0    -90.0     30.0      30.0  0.844846\n",
              "2         0.0      0.0      15.0    -90.0     60.0     -30.0  2.491373\n",
              "3         0.0      0.0      45.0     60.0     60.0      75.0  1.249660\n",
              "4         0.0      0.0      75.0    -90.0     30.0     -75.0  1.112912\n",
              "..        ...      ...       ...      ...      ...       ...       ...\n",
              "493       9.0     75.0     -45.0     30.0      0.0     -90.0  5.130143\n",
              "494       9.0     75.0     -30.0     30.0      0.0     -90.0  4.264560\n",
              "495       9.0     75.0     -30.0     30.0     15.0      60.0  5.720083\n",
              "496       9.0     75.0      30.0    -90.0     15.0     -15.0  5.768844\n",
              "497       9.0     75.0      30.0     75.0     45.0     -75.0  4.581650\n",
              "\n",
              "[998 rows x 7 columns]"
            ]
          },
          "execution_count": 5,
          "metadata": {},
          "output_type": "execute_result"
        }
      ],
      "source": [
        "df"
      ]
    },
    {
      "cell_type": "code",
      "execution_count": 6,
      "metadata": {},
      "outputs": [],
      "source": [
        "cols = df.drop(columns = ['Speed'], axis = 1).columns"
      ]
    },
    {
      "cell_type": "code",
      "execution_count": 7,
      "metadata": {
        "colab": {
          "base_uri": "https://localhost:8080/"
        },
        "id": "wFwYukh105yH",
        "outputId": "63dfcc06-fcd9-4e4e-c37c-8f970e45140c"
      },
      "outputs": [
        {
          "name": "stdout",
          "output_type": "stream",
          "text": [
            "R^2 score:  0.6657032213055256\n",
            "MSE :  0.7867489933911326\n"
          ]
        }
      ],
      "source": [
        "# Prepare the data for the model\n",
        "\n",
        "X = df.drop(columns = ['Speed'], axis = 1).values\n",
        "y = df.Speed.values\n",
        "\n",
        "# Split the data\n",
        "X_train, X_test, y_train, y_test = train_test_split(X, y, test_size = 0.33, random_state = 18)\n",
        "\n",
        "# Create the model\n",
        "model = LinearRegression()\n",
        "\n",
        "# Train it\n",
        "model.fit(X_train, y_train)\n",
        "\n",
        "# Make prediction\n",
        "y_pred = model.predict(X_test)\n",
        "#  Evaluate the model\n",
        "print('R^2 score: ', model.score(X_test, y_test))\n",
        "print('MSE : ', mean_squared_error(y_test, y_pred))"
      ]
    },
    {
      "cell_type": "code",
      "execution_count": 8,
      "metadata": {
        "colab": {
          "base_uri": "https://localhost:8080/"
        },
        "id": "MELvKT0pPfeT",
        "outputId": "c303818f-cbd0-4e8a-fa90-620ba8678ef2"
      },
      "outputs": [
        {
          "name": "stdout",
          "output_type": "stream",
          "text": [
            "R^2 score:  0.360308282766712\n",
            "MSE :  1.5054791032667916\n"
          ]
        }
      ],
      "source": [
        "# Regression Tree\n",
        "from sklearn.tree import DecisionTreeRegressor\n",
        "from sklearn.model_selection import cross_val_score\n",
        "\n",
        "regressor = make_pipeline(StandardScaler(), DecisionTreeRegressor(random_state=0))\n",
        "regressor.fit(X_train, y_train)\n",
        "y_pred = regressor.predict(X_test)\n",
        "\n",
        "print('R^2 score: ',regressor.score(X_test, y_test))\n",
        "print('MSE : ', mean_squared_error(y_test, y_pred))"
      ]
    },
    {
      "cell_type": "code",
      "execution_count": 9,
      "metadata": {
        "colab": {
          "base_uri": "https://localhost:8080/"
        },
        "id": "tM6I4UHEQLku",
        "outputId": "c600e9a1-caa1-44c0-e172-ba1f135add67"
      },
      "outputs": [
        {
          "name": "stdout",
          "output_type": "stream",
          "text": [
            "R^2 score:  0.6677336902432429\n",
            "MSE :  0.7819703969622361\n"
          ]
        }
      ],
      "source": [
        "# SVR\n",
        "from sklearn.svm import SVR\n",
        "import numpy as np\n",
        "\n",
        "svr = SVR(C=1.0, epsilon=0.2, kernel = 'linear')\n",
        "svr.fit(X_train, y_train)\n",
        "\n",
        "y_pred = svr.predict(X_test)\n",
        "\n",
        "print('R^2 score: ',svr.score(X_test, y_test))\n",
        "print('MSE : ', mean_squared_error(y_test, y_pred))"
      ]
    },
    {
      "cell_type": "code",
      "execution_count": 10,
      "metadata": {},
      "outputs": [
        {
          "name": "stdout",
          "output_type": "stream",
          "text": [
            "R^2 score:  0.6887920108544798\n",
            "MSE :  0.732410803214131\n"
          ]
        }
      ],
      "source": [
        "# Random forest Regressor\n",
        "\n",
        "regr = RandomForestRegressor(max_depth=6, random_state=42)\n",
        "regr.fit(X_train, y_train)\n",
        "y_pred = regr.predict(X_test)\n",
        "\n",
        "print('R^2 score: ',regr.score(X_test, y_test))\n",
        "print('MSE : ', mean_squared_error(y_test, y_pred))"
      ]
    },
    {
      "cell_type": "code",
      "execution_count": 11,
      "metadata": {},
      "outputs": [
        {
          "data": {
            "text/html": [
              "<div>\n",
              "<style scoped>\n",
              "    .dataframe tbody tr th:only-of-type {\n",
              "        vertical-align: middle;\n",
              "    }\n",
              "\n",
              "    .dataframe tbody tr th {\n",
              "        vertical-align: top;\n",
              "    }\n",
              "\n",
              "    .dataframe thead th {\n",
              "        text-align: right;\n",
              "    }\n",
              "</style>\n",
              "<table border=\"1\" class=\"dataframe\">\n",
              "  <thead>\n",
              "    <tr style=\"text-align: right;\">\n",
              "      <th></th>\n",
              "      <th>Variable</th>\n",
              "      <th>Importance</th>\n",
              "    </tr>\n",
              "  </thead>\n",
              "  <tbody>\n",
              "    <tr>\n",
              "      <th>0</th>\n",
              "      <td>Snelheid</td>\n",
              "      <td>0.486237</td>\n",
              "    </tr>\n",
              "    <tr>\n",
              "      <th>1</th>\n",
              "      <td>Omvang1</td>\n",
              "      <td>0.221170</td>\n",
              "    </tr>\n",
              "    <tr>\n",
              "      <th>4</th>\n",
              "      <td>Omvang2</td>\n",
              "      <td>0.176451</td>\n",
              "    </tr>\n",
              "    <tr>\n",
              "      <th>5</th>\n",
              "      <td>Positie2</td>\n",
              "      <td>0.045460</td>\n",
              "    </tr>\n",
              "    <tr>\n",
              "      <th>2</th>\n",
              "      <td>Positie1</td>\n",
              "      <td>0.044802</td>\n",
              "    </tr>\n",
              "    <tr>\n",
              "      <th>3</th>\n",
              "      <td>Relatie</td>\n",
              "      <td>0.025880</td>\n",
              "    </tr>\n",
              "  </tbody>\n",
              "</table>\n",
              "</div>"
            ],
            "text/plain": [
              "   Variable  Importance\n",
              "0  Snelheid    0.486237\n",
              "1   Omvang1    0.221170\n",
              "4   Omvang2    0.176451\n",
              "5  Positie2    0.045460\n",
              "2  Positie1    0.044802\n",
              "3   Relatie    0.025880"
            ]
          },
          "execution_count": 11,
          "metadata": {},
          "output_type": "execute_result"
        }
      ],
      "source": [
        "pd.DataFrame({'Variable':cols, 'Importance':regr.feature_importances_}).sort_values('Importance', ascending=False)"
      ]
    },
    {
      "attachments": {},
      "cell_type": "markdown",
      "metadata": {
        "id": "d8GpaAgbnzU-"
      },
      "source": [
        "Export the function to be optimized"
      ]
    },
    {
      "cell_type": "code",
      "execution_count": 12,
      "metadata": {
        "colab": {
          "base_uri": "https://localhost:8080/"
        },
        "id": "cs_shgp1n1de",
        "outputId": "497b0073-a6be-4fe6-9944-b4a6c7b77eaf"
      },
      "outputs": [
        {
          "name": "stdout",
          "output_type": "stream",
          "text": [
            "-0.1627178232975437 [ 0.35198676  0.02415956 -0.0032345  -0.00092786  0.02235192  0.00246723]\n"
          ]
        }
      ],
      "source": [
        "print(model.intercept_, model.coef_)\n",
        "intercept = model.intercept_\n",
        "coefs = model.coef_"
      ]
    },
    {
      "attachments": {},
      "cell_type": "markdown",
      "metadata": {
        "id": "L5ZnEe2B1_hL"
      },
      "source": [
        "### PSO"
      ]
    },
    {
      "cell_type": "code",
      "execution_count": 13,
      "metadata": {
        "id": "cBKC0IPTn4lK"
      },
      "outputs": [],
      "source": [
        "def fitness_function(model, parameters):\n",
        "\n",
        "  # intercept = model.intercept_\n",
        "  # coefs = model.coef_\n",
        "\n",
        "  # sum = 0  \n",
        "  # for i in range(6):\n",
        "  #   sum += (coefs[i] * parameters[i])\n",
        "  # f = intercept + sum\n",
        "  return model.predict(np.array(parameters).reshape(1, 6))"
      ]
    },
    {
      "cell_type": "code",
      "execution_count": null,
      "metadata": {
        "id": "JGNGk2vhZjmc"
      },
      "outputs": [],
      "source": [
        "# def update_velocity(particle, velocity, pbest, gbest, w_min=0.5, max=1.0, c=0.1):\n",
        "\n",
        "#   # Initialise new velocity array\n",
        "#   num_particle = len(particle)\n",
        "#   new_velocity = np.array([0.0 for i in range(num_particle)])\n",
        "\n",
        "#   # Randomly generate r1, r2 and inertia weight from normal distribution\n",
        "#   r1 = random.uniform(0,max)\n",
        "#   r2 = random.uniform(0,max)\n",
        "#   w = random.uniform(w_min,max)\n",
        "#   c1 = c\n",
        "#   c2 = c\n",
        "#   # Calculate new velocity\n",
        "#   for i in range(num_particle):\n",
        "#     new_velocity[i] = w*velocity[i] + c1*r1*(pbest[i]-particle[i])+c2*r2*(gbest[i]-particle[i])\n",
        "\n",
        "#   return new_velocity"
      ]
    },
    {
      "cell_type": "code",
      "execution_count": null,
      "metadata": {
        "id": "5TnFdYHbag5l"
      },
      "outputs": [],
      "source": [
        "# def update_position(particle, velocity):\n",
        "\n",
        "#   bounds = [[-90, 90], [-90, 90], [0, 1], [0, 90], [0, 90], [-90, 90]]\n",
        "\n",
        "#   new_particle = np.zeros(6)\n",
        "\n",
        "#   # print('b', particle)\n",
        "#   # print('v', velocity)\n",
        "#   # Move particles by adding velocity\n",
        "#   for i in range(6):\n",
        "#     if (particle[i] + velocity[i]) >= bounds[i][0] and (particle[i] + velocity[i]) <= bounds[i][1]:\n",
        "#       new_particle[i] = particle[i] + velocity[i]\n",
        "    \n",
        "#   # print('a', new_particle)\n",
        "#   return new_particle"
      ]
    },
    {
      "cell_type": "code",
      "execution_count": null,
      "metadata": {
        "id": "hm48RamIakP7"
      },
      "outputs": [],
      "source": [
        "# def pso(population_size, dimension, parameters, generation, fitness_criterion, model):\n",
        "#   # Initialisation\n",
        "#   # Population\n",
        "\n",
        "#   particles = []\n",
        "\n",
        "#   for i in range(population_size):\n",
        "#     # Create a particle and add it to the population\n",
        "#     particle = []\n",
        "#     for j in range(6):\n",
        "#       # Populate the particle with 6 random number from the 6 parameters\n",
        "#       lower_bound = list(parameters.values())[j][0]\n",
        "#       upper_bound = list(parameters.values())[j][1]\n",
        "\n",
        "#       # Some parameters have to be integers\n",
        "#       if j == 2:\n",
        "#         particle.append(random.randint(lower_bound, upper_bound)/10)\n",
        "#       else:\n",
        "#         particle.append(random.randint(lower_bound, upper_bound))\n",
        "\n",
        "#     particles.append(particle)\n",
        "\n",
        "#   #particles = [[random.uniform(position_min, position_max) for j in range(dimension)] for i in range(population)]\n",
        "#   # Particle's best position\n",
        "#   pbest_position = particles\n",
        "#   # Fitness\n",
        "#   pbest_fitness = []\n",
        "\n",
        "#   for particle in particles:\n",
        "#     fitness = fitness_function(model, particle)\n",
        "#     pbest_fitness.append(fitness)\n",
        "\n",
        "#   # Index of the best particle\n",
        "#   gbest_index = np.argmin(pbest_fitness)\n",
        "#   # Global best particle position\n",
        "#   gbest_position = pbest_position[gbest_index]\n",
        "#   # print(gbest_position)\n",
        "#   # Velocity (starting from 0 speed)\n",
        "#   velocity = [[0.0 for j in range(dimension)] for i in range(population_size)]\n",
        "  \n",
        "#   # Loop for the number of generation\n",
        "#   for t in range(generation):\n",
        "#     # Stop if the average fitness value reached a predefined success criterion\n",
        "#     if np.average(pbest_fitness) <= fitness_criterion:\n",
        "#       break\n",
        "#     else:\n",
        "#       for n in range(population_size):\n",
        "#         # Update the velocity of each particle\n",
        "#         velocity[n] = update_velocity(particles[n], velocity[n], pbest_position[n], gbest_position)\n",
        "#         # Move the particles to new position\n",
        "#         particles[n] = update_position(particles[n], velocity[n])\n",
        "        \n",
        "#     # Calculate the fitness value\n",
        "#     pbest_fitness = [fitness_function(model, particle) for particle in particles]\n",
        "#     # Find the index of the best particle\n",
        "#     gbest_index = np.argmin(pbest_fitness)\n",
        "#     # Update the position of the best particle\n",
        "#     gbest_position = pbest_position[gbest_index]\n",
        "#     # print(gbest_position)\n",
        "\n",
        "#   # Print the results\n",
        "#   print('Global Best Position: ', gbest_position)\n",
        "#   print('Best Fitness Value: ', min(pbest_fitness))\n",
        "#   print('Average Particle Best Fitness Value: ', np.average(pbest_fitness))\n",
        "#   print('Number of Generation: ', t)\n"
      ]
    },
    {
      "cell_type": "code",
      "execution_count": null,
      "metadata": {
        "id": "HHaLzbWnkHJJ"
      },
      "outputs": [],
      "source": [
        "# population_size = 1000\n",
        "# dimension = 6\n",
        "# generation = 1000\n",
        "# fitness_criterion = 10e-4"
      ]
    },
    {
      "cell_type": "code",
      "execution_count": null,
      "metadata": {
        "id": "5ea5PNLcbg8S"
      },
      "outputs": [],
      "source": [
        "# parameters = {\n",
        "#     'freq' : [0, 10],\n",
        "#     'Angles_0' : [-90, 90],\n",
        "#     'Angles_1' : [-90, 90],\n",
        "#     'phase' : [-90, 90],\n",
        "#     'amp_1' : [0, 90],\n",
        "#     'amp_2' : [0, 90]\n",
        "# }"
      ]
    },
    {
      "cell_type": "code",
      "execution_count": null,
      "metadata": {
        "colab": {
          "base_uri": "https://localhost:8080/"
        },
        "id": "0YlM3DBOk8cD",
        "outputId": "5d22a141-b0e3-49ba-8532-f4cb8a7fced2"
      },
      "outputs": [],
      "source": [
        "# pso(population_size, dimension, parameters, generation, fitness_criterion, model)"
      ]
    },
    {
      "attachments": {},
      "cell_type": "markdown",
      "metadata": {},
      "source": [
        "# New trial"
      ]
    },
    {
      "cell_type": "code",
      "execution_count": 14,
      "metadata": {},
      "outputs": [],
      "source": [
        "def check_constraints(temp, bounds):\n",
        "\n",
        "  counter = 0\n",
        "\n",
        "  for i in range(6):\n",
        "    if temp[i] >= bounds[i][0] and temp[i] <= bounds[i][1] :\n",
        "      counter += 1\n",
        "\n",
        "  return counter == 6"
      ]
    },
    {
      "cell_type": "code",
      "execution_count": 15,
      "metadata": {},
      "outputs": [
        {
          "name": "stderr",
          "output_type": "stream",
          "text": [
            "c:\\Users\\Lev\\miniconda3\\envs\\mikasa\\lib\\site-packages\\sklearn\\cluster\\_kmeans.py:870: FutureWarning: The default value of `n_init` will change from 10 to 'auto' in 1.4. Set the value of `n_init` explicitly to suppress the warning\n",
            "  warnings.warn(\n"
          ]
        },
        {
          "name": "stdout",
          "output_type": "stream",
          "text": [
            "number of clusters:  3\n",
            "Optimized solution: [  7.7346803   71.95928334  46.60043745  62.37678359  68.06999941\n",
            " -89.59027392]\n",
            "Optimized solution: [  8.76031135  40.55662898  -6.61462885  56.31099429 -26.07084592\n",
            "  30.11346753]\n",
            "Optimized solution: [  8.73476353  73.08784576 -70.01043588  18.12961852   1.58200785\n",
            " -17.2695881 ]\n"
          ]
        }
      ],
      "source": [
        "import random\n",
        "\n",
        "def pso(space):\n",
        "\n",
        "    # Define the problem-specific parameters\n",
        "    num_particles = 30\n",
        "    max_iterations = 300\n",
        "    search_space = space #[[0, 10], [0, 90], [-90, 90], [-90, 90], [-90, 90], [0, 90]] # Define the search space for each parameter\n",
        "    inertia = 0.5\n",
        "    cognitive_constant = 1.5\n",
        "    social_constant = 1.5\n",
        "\n",
        "\n",
        "    # Initialize the swarm\n",
        "    swarm = []\n",
        "    best_positions = []\n",
        "    global_best_position = None\n",
        "    global_best_fitness = float('inf')\n",
        "\n",
        "    for _ in range(num_particles):\n",
        "        # Initialize particle position and velocity randomly within the search space\n",
        "        position = [random.uniform(low, high) for low, high in search_space]\n",
        "        velocity = [random.uniform(-1, 1) for _ in range(6)]\n",
        "        \n",
        "        # Evaluate fitness\n",
        "        fitness = fitness_function(regr, position)\n",
        "        \n",
        "        # Initialize personal best position and fitness\n",
        "        personal_best_position = position\n",
        "        personal_best_fitness = fitness\n",
        "        \n",
        "        # Update global best position and fitness\n",
        "        if fitness < global_best_fitness:\n",
        "            global_best_position = position\n",
        "            global_best_fitness = fitness\n",
        "        \n",
        "        # Add particle to the swarm\n",
        "        swarm.append((position, velocity, personal_best_position, personal_best_fitness))\n",
        "        best_positions.append(personal_best_position)\n",
        "\n",
        "    # PSO main loop\n",
        "    iteration = 0\n",
        "    while iteration < max_iterations:\n",
        "        for i in range(num_particles):\n",
        "            # Update particle velocity and position if constraints are met\n",
        "            position, velocity, personal_best_position, _ = swarm[i]\n",
        "            \n",
        "            # Update velocity\n",
        "            velocity = (inertia * np.array(velocity) + cognitive_constant * random.uniform(0, 1) * (np.array(personal_best_position) - np.array(position)) + social_constant * random.uniform(0, 1) * (np.array(personal_best_position) - np.array(position)))\n",
        "            \n",
        "            # Update position\n",
        "            position_temp = np.array(position) + np.array(velocity)\n",
        "            \n",
        "            if check_constraints(position_temp, search_space):\n",
        "                position = position_temp\n",
        "\n",
        "            # Evaluate fitness\n",
        "            fitness = fitness_function(regr, position)\n",
        "            \n",
        "            # Update personal best position and fitness\n",
        "            if fitness < swarm[i][3]:\n",
        "                swarm[i] = (position, velocity, position, fitness)\n",
        "                best_positions[i] = position\n",
        "            \n",
        "            # Update global best position and fitness\n",
        "            if fitness > global_best_fitness:\n",
        "                global_best_position = position\n",
        "                global_best_fitness = fitness\n",
        "        \n",
        "        iteration += 1\n",
        "\n",
        "    # Retrieve the optimized solution\n",
        "    optimized_solution = global_best_position\n",
        "\n",
        "    # Print or process the optimized solution\n",
        "    print(\"Optimized solution:\", optimized_solution)\n",
        "\n",
        "    return optimized_solution\n",
        "\n",
        "optimums = []\n",
        "clusters_num=3\n",
        "cluster_dict=subspace.subspace_by_clustering(k=clusters_num)\n",
        "cluster_bounds=[]\n",
        "\n",
        "\n",
        "for i in range(clusters_num):\n",
        "    cs=cluster_dict['cluster_bounds'][i]\n",
        "    cluster_bounds.append(cs)\n",
        "for i in range(clusters_num):\n",
        "    space=np.array(cluster_bounds[i])\n",
        "    optimums.append(pso(space))\n",
        "# Add optimums to the list by calling the method on each clusters\n"
      ]
    },
    {
      "cell_type": "code",
      "execution_count": 16,
      "metadata": {},
      "outputs": [
        {
          "name": "stdout",
          "output_type": "stream",
          "text": [
            "number of clusters: "
          ]
        },
        {
          "name": "stderr",
          "output_type": "stream",
          "text": [
            "c:\\Users\\Lev\\miniconda3\\envs\\mikasa\\lib\\site-packages\\sklearn\\cluster\\_kmeans.py:870: FutureWarning: The default value of `n_init` will change from 10 to 'auto' in 1.4. Set the value of `n_init` explicitly to suppress the warning\n",
            "  warnings.warn(\n"
          ]
        },
        {
          "name": "stdout",
          "output_type": "stream",
          "text": [
            " 3\n",
            "Optimized solution: [  8.60194458  73.61280169 -20.55686206  37.48346663  51.0517599\n",
            " -34.39875699]\n",
            "Optimized solution: [  5.48562994  70.28128261 -13.11630996  56.32059822  62.83672225\n",
            " -62.12416428]\n",
            "Optimized solution: [  7.21209458  72.48368119 -74.03702474  23.27654544 -87.8637867\n",
            "  61.57844752]\n",
            "cluster3\n",
            "[5.53439485]\n",
            "[4.47122287]\n",
            "[4.66857727]\n",
            "number of clusters:  4\n"
          ]
        },
        {
          "name": "stderr",
          "output_type": "stream",
          "text": [
            "c:\\Users\\Lev\\miniconda3\\envs\\mikasa\\lib\\site-packages\\sklearn\\cluster\\_kmeans.py:870: FutureWarning: The default value of `n_init` will change from 10 to 'auto' in 1.4. Set the value of `n_init` explicitly to suppress the warning\n",
            "  warnings.warn(\n"
          ]
        },
        {
          "name": "stdout",
          "output_type": "stream",
          "text": [
            "Optimized solution: [  7.75955253  70.47774929 -44.3433368   45.80326847 -17.57107888\n",
            " -77.73961591]\n",
            "Optimized solution: [  6.62976576  37.56407123  72.4718773   25.00747342  69.92602355\n",
            " -16.64669449]\n",
            "Optimized solution: [  6.75700885  50.22364713 -81.94753579  30.64048392  63.41618823\n",
            "  62.12317902]\n",
            "Optimized solution: [  4.9924099   72.79101051 -59.74766349  23.14636877  24.8005534\n",
            "   4.2977309 ]\n",
            "cluster4\n",
            "[4.24331645]\n",
            "[5.36027789]\n",
            "[5.16321972]\n",
            "[4.22815437]\n"
          ]
        },
        {
          "name": "stderr",
          "output_type": "stream",
          "text": [
            "c:\\Users\\Lev\\miniconda3\\envs\\mikasa\\lib\\site-packages\\sklearn\\cluster\\_kmeans.py:870: FutureWarning: The default value of `n_init` will change from 10 to 'auto' in 1.4. Set the value of `n_init` explicitly to suppress the warning\n",
            "  warnings.warn(\n"
          ]
        },
        {
          "name": "stdout",
          "output_type": "stream",
          "text": [
            "number of clusters:  5\n",
            "Optimized solution: [ 8.64150191 65.54332476 42.08069086 47.95866577 43.05291127 57.11097896]\n",
            "Optimized solution: [ 6.69512335 61.30220703 54.30012771  0.86226022  2.78725062 58.79103409]\n",
            "Optimized solution: [8.656963573446202, 72.75769676092953, -85.0106398114807, 72.79867816645357, 57.81824403338953, -38.91886608894043]\n",
            "Optimized solution: [  8.56464478  67.09260455 -41.30663043  48.56059606  68.35908552\n",
            "  35.54209416]\n",
            "Optimized solution: [  7.56958944  60.29045828  63.94450131  72.31511544 -87.6070886\n",
            " -72.44192487]\n",
            "cluster5\n",
            "[5.59985094]\n",
            "[4.12330597]\n",
            "[5.8170944]\n",
            "[6.86545055]\n",
            "[3.81135368]\n"
          ]
        },
        {
          "name": "stderr",
          "output_type": "stream",
          "text": [
            "c:\\Users\\Lev\\miniconda3\\envs\\mikasa\\lib\\site-packages\\sklearn\\cluster\\_kmeans.py:870: FutureWarning: The default value of `n_init` will change from 10 to 'auto' in 1.4. Set the value of `n_init` explicitly to suppress the warning\n",
            "  warnings.warn(\n"
          ]
        },
        {
          "name": "stdout",
          "output_type": "stream",
          "text": [
            "number of clusters:  6\n",
            "Optimized solution: [  6.58845228  64.81187782  61.2206245   60.92191753  48.85215376\n",
            " -73.30923657]\n",
            "Optimized solution: [  6.97744829  65.27895753  46.86559776  21.50341876 -85.48808368\n",
            "  73.53412159]\n",
            "Optimized solution: [  8.05828227  53.94643392 -63.74307491  34.06220791 -33.22002072\n",
            "   5.6920361 ]\n",
            "Optimized solution: [ 8.12416411 70.92798939 67.54948745  2.76811036 66.44913201 35.27403   ]\n",
            "Optimized solution: [  6.09751309  54.14006003 -42.87549335   8.27595938  62.50962169\n",
            "   3.79560037]\n",
            "Optimized solution: [  7.65345695  72.57612558 -57.53078084  23.16508743   8.48707299\n",
            "  63.63757895]\n",
            "cluster6\n",
            "[4.64313134]\n",
            "[4.13926341]\n",
            "[4.36189626]\n",
            "[5.36634153]\n",
            "[4.68045037]\n",
            "[4.91139652]\n"
          ]
        }
      ],
      "source": [
        "for j in range(3,7):\n",
        "    optimums = []\n",
        "    clusters_num=j\n",
        "    cluster_dict=subspace.subspace_by_clustering(k=clusters_num)\n",
        "    cluster_bounds=[]\n",
        "    for i in range(clusters_num):\n",
        "        cs=cluster_dict['cluster_bounds'][i]\n",
        "        cluster_bounds.append(cs)\n",
        "    for i in range(clusters_num):\n",
        "        space=np.array(cluster_bounds[i])\n",
        "        optimums.append(pso(space))\n",
        "    for i in range(len(optimums)):\n",
        "        optimums[i] = np.array(optimums[i]).reshape(1, 6)\n",
        "    print('cluster'+str(j))\n",
        "    for i in range(len(optimums)):\n",
        "        print(regr.predict(optimums[i]))"
      ]
    },
    {
      "cell_type": "code",
      "execution_count": 17,
      "metadata": {},
      "outputs": [],
      "source": [
        "# cluster_dict['kmeans'].predict(firstrow)"
      ]
    },
    {
      "cell_type": "code",
      "execution_count": 18,
      "metadata": {},
      "outputs": [],
      "source": [
        "for i in range(len(optimums)):\n",
        "  optimums[i] = np.array(optimums[i]).reshape(1, 6)"
      ]
    },
    {
      "cell_type": "code",
      "execution_count": 19,
      "metadata": {},
      "outputs": [
        {
          "name": "stdout",
          "output_type": "stream",
          "text": [
            "[4.64313134]\n",
            "[4.13926341]\n",
            "[4.36189626]\n",
            "[5.36634153]\n",
            "[4.68045037]\n",
            "[4.91139652]\n"
          ]
        }
      ],
      "source": [
        "for i in range(len(optimums)):\n",
        "   print(regr.predict(optimums[i]))"
      ]
    },
    {
      "cell_type": "code",
      "execution_count": 20,
      "metadata": {},
      "outputs": [
        {
          "name": "stdout",
          "output_type": "stream",
          "text": [
            "[[  6.58845228  64.81187782  61.2206245   60.92191753  48.85215376\n",
            "  -73.30923657]]\n",
            "[[  6.97744829  65.27895753  46.86559776  21.50341876 -85.48808368\n",
            "   73.53412159]]\n",
            "[[  8.05828227  53.94643392 -63.74307491  34.06220791 -33.22002072\n",
            "    5.6920361 ]]\n",
            "[[ 8.12416411 70.92798939 67.54948745  2.76811036 66.44913201 35.27403   ]]\n",
            "[[  6.09751309  54.14006003 -42.87549335   8.27595938  62.50962169\n",
            "    3.79560037]]\n",
            "[[  7.65345695  72.57612558 -57.53078084  23.16508743   8.48707299\n",
            "   63.63757895]]\n"
          ]
        }
      ],
      "source": [
        "for i in range(len(optimums)):\n",
        "    print(optimums[i])"
      ]
    },
    {
      "cell_type": "code",
      "execution_count": 21,
      "metadata": {},
      "outputs": [],
      "source": [
        "# cluster_dict['kmeans']\n"
      ]
    },
    {
      "cell_type": "code",
      "execution_count": 22,
      "metadata": {},
      "outputs": [],
      "source": [
        "# regr.predict(np.array(optimized_solution).reshape(1, 6))"
      ]
    },
    {
      "cell_type": "code",
      "execution_count": 23,
      "metadata": {},
      "outputs": [
        {
          "name": "stdout",
          "output_type": "stream",
          "text": [
            "The closest sample is the 113th sample\n",
            "The distance between the closest sample and the optimization result is 21.307275752662516\n",
            "The speed of the closest sample is 0.5517828203617182\n",
            "The closest sample is the 113th sample\n",
            "The distance between the closest sample and the optimization result is 19.8997487421324\n",
            "The speed of the closest sample is 0.5517828203617182\n",
            "The closest sample is the 113th sample\n",
            "The distance between the closest sample and the optimization result is 18.708286933869708\n",
            "The speed of the closest sample is 0.5517828203617182\n",
            "The closest sample is the 158th sample\n",
            "The distance between the closest sample and the optimization result is 17.74823934929885\n",
            "The speed of the closest sample is 0.485082041228827\n",
            "The closest sample is the 158th sample\n",
            "The distance between the closest sample and the optimization result is 17.05872210923198\n",
            "The speed of the closest sample is 0.485082041228827\n",
            "The closest sample is the 158th sample\n",
            "The distance between the closest sample and the optimization result is 16.703293088490067\n",
            "The speed of the closest sample is 0.485082041228827\n"
          ]
        }
      ],
      "source": [
        "min_dist=200\n",
        "max_speed=0\n",
        "max_index=0\n",
        "for optima in range(len(optimums)):\n",
        "    for index,row in df.iterrows():\n",
        "        #  euclidean distance between aaron and each row\n",
        "        dist=np.linalg.norm(optima-row[0:6])\n",
        "        if dist<min_dist:\n",
        "            min_dist=dist\n",
        "            max_speed=row[-1]\n",
        "            max_index=index\n",
        "    print('The closest sample is the {}th sample'.format(max_index))\n",
        "    print('The distance between the closest sample and the optimization result is {}'.format(min_dist))\n",
        "    print('The speed of the closest sample is {}'.format(max_speed))"
      ]
    },
    {
      "cell_type": "code",
      "execution_count": 29,
      "metadata": {},
      "outputs": [
        {
          "data": {
            "text/html": [
              "<style>#sk-container-id-1 {color: black;background-color: white;}#sk-container-id-1 pre{padding: 0;}#sk-container-id-1 div.sk-toggleable {background-color: white;}#sk-container-id-1 label.sk-toggleable__label {cursor: pointer;display: block;width: 100%;margin-bottom: 0;padding: 0.3em;box-sizing: border-box;text-align: center;}#sk-container-id-1 label.sk-toggleable__label-arrow:before {content: \"▸\";float: left;margin-right: 0.25em;color: #696969;}#sk-container-id-1 label.sk-toggleable__label-arrow:hover:before {color: black;}#sk-container-id-1 div.sk-estimator:hover label.sk-toggleable__label-arrow:before {color: black;}#sk-container-id-1 div.sk-toggleable__content {max-height: 0;max-width: 0;overflow: hidden;text-align: left;background-color: #f0f8ff;}#sk-container-id-1 div.sk-toggleable__content pre {margin: 0.2em;color: black;border-radius: 0.25em;background-color: #f0f8ff;}#sk-container-id-1 input.sk-toggleable__control:checked~div.sk-toggleable__content {max-height: 200px;max-width: 100%;overflow: auto;}#sk-container-id-1 input.sk-toggleable__control:checked~label.sk-toggleable__label-arrow:before {content: \"▾\";}#sk-container-id-1 div.sk-estimator input.sk-toggleable__control:checked~label.sk-toggleable__label {background-color: #d4ebff;}#sk-container-id-1 div.sk-label input.sk-toggleable__control:checked~label.sk-toggleable__label {background-color: #d4ebff;}#sk-container-id-1 input.sk-hidden--visually {border: 0;clip: rect(1px 1px 1px 1px);clip: rect(1px, 1px, 1px, 1px);height: 1px;margin: -1px;overflow: hidden;padding: 0;position: absolute;width: 1px;}#sk-container-id-1 div.sk-estimator {font-family: monospace;background-color: #f0f8ff;border: 1px dotted black;border-radius: 0.25em;box-sizing: border-box;margin-bottom: 0.5em;}#sk-container-id-1 div.sk-estimator:hover {background-color: #d4ebff;}#sk-container-id-1 div.sk-parallel-item::after {content: \"\";width: 100%;border-bottom: 1px solid gray;flex-grow: 1;}#sk-container-id-1 div.sk-label:hover label.sk-toggleable__label {background-color: #d4ebff;}#sk-container-id-1 div.sk-serial::before {content: \"\";position: absolute;border-left: 1px solid gray;box-sizing: border-box;top: 0;bottom: 0;left: 50%;z-index: 0;}#sk-container-id-1 div.sk-serial {display: flex;flex-direction: column;align-items: center;background-color: white;padding-right: 0.2em;padding-left: 0.2em;position: relative;}#sk-container-id-1 div.sk-item {position: relative;z-index: 1;}#sk-container-id-1 div.sk-parallel {display: flex;align-items: stretch;justify-content: center;background-color: white;position: relative;}#sk-container-id-1 div.sk-item::before, #sk-container-id-1 div.sk-parallel-item::before {content: \"\";position: absolute;border-left: 1px solid gray;box-sizing: border-box;top: 0;bottom: 0;left: 50%;z-index: -1;}#sk-container-id-1 div.sk-parallel-item {display: flex;flex-direction: column;z-index: 1;position: relative;background-color: white;}#sk-container-id-1 div.sk-parallel-item:first-child::after {align-self: flex-end;width: 50%;}#sk-container-id-1 div.sk-parallel-item:last-child::after {align-self: flex-start;width: 50%;}#sk-container-id-1 div.sk-parallel-item:only-child::after {width: 0;}#sk-container-id-1 div.sk-dashed-wrapped {border: 1px dashed gray;margin: 0 0.4em 0.5em 0.4em;box-sizing: border-box;padding-bottom: 0.4em;background-color: white;}#sk-container-id-1 div.sk-label label {font-family: monospace;font-weight: bold;display: inline-block;line-height: 1.2em;}#sk-container-id-1 div.sk-label-container {text-align: center;}#sk-container-id-1 div.sk-container {/* jupyter's `normalize.less` sets `[hidden] { display: none; }` but bootstrap.min.css set `[hidden] { display: none !important; }` so we also need the `!important` here to be able to override the default hidden behavior on the sphinx rendered scikit-learn.org. See: https://github.com/scikit-learn/scikit-learn/issues/21755 */display: inline-block !important;position: relative;}#sk-container-id-1 div.sk-text-repr-fallback {display: none;}</style><div id=\"sk-container-id-1\" class=\"sk-top-container\"><div class=\"sk-text-repr-fallback\"><pre>KMeans(n_clusters=6, random_state=0)</pre><b>In a Jupyter environment, please rerun this cell to show the HTML representation or trust the notebook. <br />On GitHub, the HTML representation is unable to render, please try loading this page with nbviewer.org.</b></div><div class=\"sk-container\" hidden><div class=\"sk-item\"><div class=\"sk-estimator sk-toggleable\"><input class=\"sk-toggleable__control sk-hidden--visually\" id=\"sk-estimator-id-1\" type=\"checkbox\" checked><label for=\"sk-estimator-id-1\" class=\"sk-toggleable__label sk-toggleable__label-arrow\">KMeans</label><div class=\"sk-toggleable__content\"><pre>KMeans(n_clusters=6, random_state=0)</pre></div></div></div></div></div>"
            ],
            "text/plain": [
              "KMeans(n_clusters=6, random_state=0)"
            ]
          },
          "execution_count": 29,
          "metadata": {},
          "output_type": "execute_result"
        }
      ],
      "source": [
        "cluster_dict['kmeans']"
      ]
    },
    {
      "cell_type": "code",
      "execution_count": 31,
      "metadata": {},
      "outputs": [
        {
          "name": "stderr",
          "output_type": "stream",
          "text": [
            "c:\\Users\\Lev\\miniconda3\\envs\\mikasa\\lib\\site-packages\\sklearn\\cluster\\_kmeans.py:870: FutureWarning: The default value of `n_init` will change from 10 to 'auto' in 1.4. Set the value of `n_init` explicitly to suppress the warning\n",
            "  warnings.warn(\n",
            "C:\\Users\\Lev\\AppData\\Local\\Temp\\ipykernel_1580\\2540347911.py:12: SettingWithCopyWarning: \n",
            "A value is trying to be set on a copy of a slice from a DataFrame.\n",
            "Try using .loc[row_indexer,col_indexer] = value instead\n",
            "\n",
            "See the caveats in the documentation: https://pandas.pydata.org/pandas-docs/stable/user_guide/indexing.html#returning-a-view-versus-a-copy\n",
            "  df_no_speed.loc[index, 'Cluster'] = cluster_dict['kmeans'].predict(temp)\n"
          ]
        },
        {
          "name": "stdout",
          "output_type": "stream",
          "text": [
            "number of clusters:  6\n",
            "[  0.   0. -15.  15.  15. -75.]\n",
            "[[  0.   0. -15.  15.  15. -75.]]\n",
            "[  0.   0.  15. -90.  30.  30.]\n",
            "[[  0.   0.  15. -90.  30.  30.]]\n"
          ]
        },
        {
          "ename": "ValueError",
          "evalue": "Must have equal len keys and value when setting with an iterable",
          "output_type": "error",
          "traceback": [
            "\u001b[1;31m---------------------------------------------------------------------------\u001b[0m",
            "\u001b[1;31mValueError\u001b[0m                                Traceback (most recent call last)",
            "Cell \u001b[1;32mIn[31], line 12\u001b[0m\n\u001b[0;32m     10\u001b[0m temp \u001b[39m=\u001b[39m np\u001b[39m.\u001b[39marray(temp)\u001b[39m.\u001b[39mreshape(\u001b[39m1\u001b[39m,\u001b[39m6\u001b[39m)\n\u001b[0;32m     11\u001b[0m \u001b[39mprint\u001b[39m(temp)\n\u001b[1;32m---> 12\u001b[0m df_no_speed\u001b[39m.\u001b[39;49mloc[index, \u001b[39m'\u001b[39;49m\u001b[39mCluster\u001b[39;49m\u001b[39m'\u001b[39;49m] \u001b[39m=\u001b[39m cluster_dict[\u001b[39m'\u001b[39m\u001b[39mkmeans\u001b[39m\u001b[39m'\u001b[39m]\u001b[39m.\u001b[39mpredict(temp)\n",
            "File \u001b[1;32mc:\\Users\\Lev\\miniconda3\\envs\\mikasa\\lib\\site-packages\\pandas\\core\\indexing.py:849\u001b[0m, in \u001b[0;36m_LocationIndexer.__setitem__\u001b[1;34m(self, key, value)\u001b[0m\n\u001b[0;32m    846\u001b[0m \u001b[39mself\u001b[39m\u001b[39m.\u001b[39m_has_valid_setitem_indexer(key)\n\u001b[0;32m    848\u001b[0m iloc \u001b[39m=\u001b[39m \u001b[39mself\u001b[39m \u001b[39mif\u001b[39;00m \u001b[39mself\u001b[39m\u001b[39m.\u001b[39mname \u001b[39m==\u001b[39m \u001b[39m\"\u001b[39m\u001b[39miloc\u001b[39m\u001b[39m\"\u001b[39m \u001b[39melse\u001b[39;00m \u001b[39mself\u001b[39m\u001b[39m.\u001b[39mobj\u001b[39m.\u001b[39miloc\n\u001b[1;32m--> 849\u001b[0m iloc\u001b[39m.\u001b[39;49m_setitem_with_indexer(indexer, value, \u001b[39mself\u001b[39;49m\u001b[39m.\u001b[39;49mname)\n",
            "File \u001b[1;32mc:\\Users\\Lev\\miniconda3\\envs\\mikasa\\lib\\site-packages\\pandas\\core\\indexing.py:1835\u001b[0m, in \u001b[0;36m_iLocIndexer._setitem_with_indexer\u001b[1;34m(self, indexer, value, name)\u001b[0m\n\u001b[0;32m   1832\u001b[0m \u001b[39m# align and set the values\u001b[39;00m\n\u001b[0;32m   1833\u001b[0m \u001b[39mif\u001b[39;00m take_split_path:\n\u001b[0;32m   1834\u001b[0m     \u001b[39m# We have to operate column-wise\u001b[39;00m\n\u001b[1;32m-> 1835\u001b[0m     \u001b[39mself\u001b[39;49m\u001b[39m.\u001b[39;49m_setitem_with_indexer_split_path(indexer, value, name)\n\u001b[0;32m   1836\u001b[0m \u001b[39melse\u001b[39;00m:\n\u001b[0;32m   1837\u001b[0m     \u001b[39mself\u001b[39m\u001b[39m.\u001b[39m_setitem_single_block(indexer, value, name)\n",
            "File \u001b[1;32mc:\\Users\\Lev\\miniconda3\\envs\\mikasa\\lib\\site-packages\\pandas\\core\\indexing.py:1891\u001b[0m, in \u001b[0;36m_iLocIndexer._setitem_with_indexer_split_path\u001b[1;34m(self, indexer, value, name)\u001b[0m\n\u001b[0;32m   1886\u001b[0m     \u001b[39mif\u001b[39;00m \u001b[39mlen\u001b[39m(value) \u001b[39m==\u001b[39m \u001b[39m1\u001b[39m \u001b[39mand\u001b[39;00m \u001b[39mnot\u001b[39;00m is_integer(info_axis):\n\u001b[0;32m   1887\u001b[0m         \u001b[39m# This is a case like df.iloc[:3, [1]] = [0]\u001b[39;00m\n\u001b[0;32m   1888\u001b[0m         \u001b[39m#  where we treat as df.iloc[:3, 1] = 0\u001b[39;00m\n\u001b[0;32m   1889\u001b[0m         \u001b[39mreturn\u001b[39;00m \u001b[39mself\u001b[39m\u001b[39m.\u001b[39m_setitem_with_indexer((pi, info_axis[\u001b[39m0\u001b[39m]), value[\u001b[39m0\u001b[39m])\n\u001b[1;32m-> 1891\u001b[0m     \u001b[39mraise\u001b[39;00m \u001b[39mValueError\u001b[39;00m(\n\u001b[0;32m   1892\u001b[0m         \u001b[39m\"\u001b[39m\u001b[39mMust have equal len keys and value \u001b[39m\u001b[39m\"\u001b[39m\n\u001b[0;32m   1893\u001b[0m         \u001b[39m\"\u001b[39m\u001b[39mwhen setting with an iterable\u001b[39m\u001b[39m\"\u001b[39m\n\u001b[0;32m   1894\u001b[0m     )\n\u001b[0;32m   1896\u001b[0m \u001b[39melif\u001b[39;00m lplane_indexer \u001b[39m==\u001b[39m \u001b[39m0\u001b[39m \u001b[39mand\u001b[39;00m \u001b[39mlen\u001b[39m(value) \u001b[39m==\u001b[39m \u001b[39mlen\u001b[39m(\u001b[39mself\u001b[39m\u001b[39m.\u001b[39mobj\u001b[39m.\u001b[39mindex):\n\u001b[0;32m   1897\u001b[0m     \u001b[39m# We get here in one case via .loc with a all-False mask\u001b[39;00m\n\u001b[0;32m   1898\u001b[0m     \u001b[39mpass\u001b[39;00m\n",
            "\u001b[1;31mValueError\u001b[0m: Must have equal len keys and value when setting with an iterable"
          ]
        }
      ],
      "source": [
        "df_no_speed = df[['Snelheid', 'Omvang1', 'Positie1', 'Relatie', 'Omvang2', \"Positie2\"]]\n",
        "df_no_speed.Cluster = ''\n",
        "num_cluster = 6\n",
        "cluster_dict = subspace.subspace_by_clustering(k = num_cluster)\n",
        "\n",
        "# Assuming 'predictions' is a list or array containing the predicted cluster values\n",
        "for index, row in df_no_speed.iterrows():\n",
        "    temp = row.values\n",
        "    temp = np.array(temp).reshape(1,6)\n",
        "    print(temp)\n",
        "    df_no_speed.loc[index, 'Cluster'] = cluster_dict['kmeans'].predict(temp)"
      ]
    },
    {
      "cell_type": "code",
      "execution_count": 27,
      "metadata": {},
      "outputs": [
        {
          "ename": "InvalidParameterError",
          "evalue": "The 'criterion' parameter of RandomForestRegressor must be a str among {'absolute_error', 'poisson', 'squared_error', 'friedman_mse'}. Got 'mae' instead.",
          "output_type": "error",
          "traceback": [
            "\u001b[1;31m---------------------------------------------------------------------------\u001b[0m",
            "\u001b[1;31mInvalidParameterError\u001b[0m                     Traceback (most recent call last)",
            "Cell \u001b[1;32mIn[27], line 15\u001b[0m\n\u001b[0;32m     12\u001b[0m X_train, X_test, y_train, y_test \u001b[39m=\u001b[39m train_test_split(X, y, test_size \u001b[39m=\u001b[39m \u001b[39m0.33\u001b[39m, random_state \u001b[39m=\u001b[39m \u001b[39m18\u001b[39m)\n\u001b[0;32m     14\u001b[0m regr \u001b[39m=\u001b[39m RandomForestRegressor(max_depth\u001b[39m=\u001b[39m\u001b[39m6\u001b[39m, random_state\u001b[39m=\u001b[39m\u001b[39m42\u001b[39m, criterion\u001b[39m=\u001b[39m\u001b[39m'\u001b[39m\u001b[39mmae\u001b[39m\u001b[39m'\u001b[39m)\n\u001b[1;32m---> 15\u001b[0m regr\u001b[39m.\u001b[39;49mfit(X_train, y_train)\n\u001b[0;32m     16\u001b[0m y_pred \u001b[39m=\u001b[39m regr\u001b[39m.\u001b[39mpredict(X_test)\n\u001b[0;32m     18\u001b[0m \u001b[39mprint\u001b[39m(\u001b[39m'\u001b[39m\u001b[39mR^2 score: \u001b[39m\u001b[39m'\u001b[39m,regr\u001b[39m.\u001b[39mscore(X_test, y_test))\n",
            "File \u001b[1;32mc:\\Users\\Lev\\miniconda3\\envs\\mikasa\\lib\\site-packages\\sklearn\\ensemble\\_forest.py:340\u001b[0m, in \u001b[0;36mBaseForest.fit\u001b[1;34m(self, X, y, sample_weight)\u001b[0m\n\u001b[0;32m    313\u001b[0m \u001b[39mdef\u001b[39;00m \u001b[39mfit\u001b[39m(\u001b[39mself\u001b[39m, X, y, sample_weight\u001b[39m=\u001b[39m\u001b[39mNone\u001b[39;00m):\n\u001b[0;32m    314\u001b[0m \u001b[39m    \u001b[39m\u001b[39m\"\"\"\u001b[39;00m\n\u001b[0;32m    315\u001b[0m \u001b[39m    Build a forest of trees from the training set (X, y).\u001b[39;00m\n\u001b[0;32m    316\u001b[0m \n\u001b[1;32m   (...)\u001b[0m\n\u001b[0;32m    338\u001b[0m \u001b[39m        Fitted estimator.\u001b[39;00m\n\u001b[0;32m    339\u001b[0m \u001b[39m    \"\"\"\u001b[39;00m\n\u001b[1;32m--> 340\u001b[0m     \u001b[39mself\u001b[39;49m\u001b[39m.\u001b[39;49m_validate_params()\n\u001b[0;32m    342\u001b[0m     \u001b[39m# Validate or convert input data\u001b[39;00m\n\u001b[0;32m    343\u001b[0m     \u001b[39mif\u001b[39;00m issparse(y):\n",
            "File \u001b[1;32mc:\\Users\\Lev\\miniconda3\\envs\\mikasa\\lib\\site-packages\\sklearn\\base.py:600\u001b[0m, in \u001b[0;36mBaseEstimator._validate_params\u001b[1;34m(self)\u001b[0m\n\u001b[0;32m    592\u001b[0m \u001b[39mdef\u001b[39;00m \u001b[39m_validate_params\u001b[39m(\u001b[39mself\u001b[39m):\n\u001b[0;32m    593\u001b[0m \u001b[39m    \u001b[39m\u001b[39m\"\"\"Validate types and values of constructor parameters\u001b[39;00m\n\u001b[0;32m    594\u001b[0m \n\u001b[0;32m    595\u001b[0m \u001b[39m    The expected type and values must be defined in the `_parameter_constraints`\u001b[39;00m\n\u001b[1;32m   (...)\u001b[0m\n\u001b[0;32m    598\u001b[0m \u001b[39m    accepted constraints.\u001b[39;00m\n\u001b[0;32m    599\u001b[0m \u001b[39m    \"\"\"\u001b[39;00m\n\u001b[1;32m--> 600\u001b[0m     validate_parameter_constraints(\n\u001b[0;32m    601\u001b[0m         \u001b[39mself\u001b[39;49m\u001b[39m.\u001b[39;49m_parameter_constraints,\n\u001b[0;32m    602\u001b[0m         \u001b[39mself\u001b[39;49m\u001b[39m.\u001b[39;49mget_params(deep\u001b[39m=\u001b[39;49m\u001b[39mFalse\u001b[39;49;00m),\n\u001b[0;32m    603\u001b[0m         caller_name\u001b[39m=\u001b[39;49m\u001b[39mself\u001b[39;49m\u001b[39m.\u001b[39;49m\u001b[39m__class__\u001b[39;49m\u001b[39m.\u001b[39;49m\u001b[39m__name__\u001b[39;49m,\n\u001b[0;32m    604\u001b[0m     )\n",
            "File \u001b[1;32mc:\\Users\\Lev\\miniconda3\\envs\\mikasa\\lib\\site-packages\\sklearn\\utils\\_param_validation.py:97\u001b[0m, in \u001b[0;36mvalidate_parameter_constraints\u001b[1;34m(parameter_constraints, params, caller_name)\u001b[0m\n\u001b[0;32m     91\u001b[0m \u001b[39melse\u001b[39;00m:\n\u001b[0;32m     92\u001b[0m     constraints_str \u001b[39m=\u001b[39m (\n\u001b[0;32m     93\u001b[0m         \u001b[39mf\u001b[39m\u001b[39m\"\u001b[39m\u001b[39m{\u001b[39;00m\u001b[39m'\u001b[39m\u001b[39m, \u001b[39m\u001b[39m'\u001b[39m\u001b[39m.\u001b[39mjoin([\u001b[39mstr\u001b[39m(c)\u001b[39m \u001b[39m\u001b[39mfor\u001b[39;00m\u001b[39m \u001b[39mc\u001b[39m \u001b[39m\u001b[39min\u001b[39;00m\u001b[39m \u001b[39mconstraints[:\u001b[39m-\u001b[39m\u001b[39m1\u001b[39m]])\u001b[39m}\u001b[39;00m\u001b[39m or\u001b[39m\u001b[39m\"\u001b[39m\n\u001b[0;32m     94\u001b[0m         \u001b[39mf\u001b[39m\u001b[39m\"\u001b[39m\u001b[39m \u001b[39m\u001b[39m{\u001b[39;00mconstraints[\u001b[39m-\u001b[39m\u001b[39m1\u001b[39m]\u001b[39m}\u001b[39;00m\u001b[39m\"\u001b[39m\n\u001b[0;32m     95\u001b[0m     )\n\u001b[1;32m---> 97\u001b[0m \u001b[39mraise\u001b[39;00m InvalidParameterError(\n\u001b[0;32m     98\u001b[0m     \u001b[39mf\u001b[39m\u001b[39m\"\u001b[39m\u001b[39mThe \u001b[39m\u001b[39m{\u001b[39;00mparam_name\u001b[39m!r}\u001b[39;00m\u001b[39m parameter of \u001b[39m\u001b[39m{\u001b[39;00mcaller_name\u001b[39m}\u001b[39;00m\u001b[39m must be\u001b[39m\u001b[39m\"\u001b[39m\n\u001b[0;32m     99\u001b[0m     \u001b[39mf\u001b[39m\u001b[39m\"\u001b[39m\u001b[39m \u001b[39m\u001b[39m{\u001b[39;00mconstraints_str\u001b[39m}\u001b[39;00m\u001b[39m. Got \u001b[39m\u001b[39m{\u001b[39;00mparam_val\u001b[39m!r}\u001b[39;00m\u001b[39m instead.\u001b[39m\u001b[39m\"\u001b[39m\n\u001b[0;32m    100\u001b[0m )\n",
            "\u001b[1;31mInvalidParameterError\u001b[0m: The 'criterion' parameter of RandomForestRegressor must be a str among {'absolute_error', 'poisson', 'squared_error', 'friedman_mse'}. Got 'mae' instead."
          ]
        }
      ],
      "source": [
        "df['Cluster'] = df_no_speed['Cluster']\n",
        "clusters = df['Cluster'].unique()\n",
        "models = []\n",
        "\n",
        "for i in clusters:\n",
        "\n",
        "    sub_df = df[df['Cluster'] == i]\n",
        "    X = sub_df.drop(columns = ['Speed'], axis = 1).values\n",
        "    y = sub_df.Speed.values\n",
        "\n",
        "    # Split the data\n",
        "    X_train, X_test, y_train, y_test = train_test_split(X, y, test_size = 0.33, random_state = 18)\n",
        "\n",
        "    regr = RandomForestRegressor(max_depth=6, random_state=42, criterion='mae')\n",
        "    regr.fit(X_train, y_train)\n",
        "    y_pred = regr.predict(X_test)\n",
        "\n",
        "    print('R^2 score: ',regr.score(X_test, y_test))\n",
        "    print('MSE : ', mean_squared_error(y_test, y_pred))\n",
        "\n",
        "    models.append(regr)"
      ]
    },
    {
      "cell_type": "code",
      "execution_count": null,
      "metadata": {},
      "outputs": [],
      "source": []
    }
  ],
  "metadata": {
    "colab": {
      "collapsed_sections": [
        "LRUZT7iRw_Fg",
        "wj7yBUj801XS",
        "L5ZnEe2B1_hL"
      ],
      "provenance": []
    },
    "kernelspec": {
      "display_name": "Python 3",
      "name": "python3"
    },
    "language_info": {
      "codemirror_mode": {
        "name": "ipython",
        "version": 3
      },
      "file_extension": ".py",
      "mimetype": "text/x-python",
      "name": "python",
      "nbconvert_exporter": "python",
      "pygments_lexer": "ipython3",
      "version": "3.9.16"
    }
  },
  "nbformat": 4,
  "nbformat_minor": 0
}
