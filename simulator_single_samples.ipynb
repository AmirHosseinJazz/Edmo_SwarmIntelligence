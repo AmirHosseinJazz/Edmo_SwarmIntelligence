{
 "cells": [
  {
   "cell_type": "code",
   "execution_count": 1,
   "metadata": {},
   "outputs": [],
   "source": [
    "import time\n",
    "import pyautogui\n",
    "import tqdm\n",
    "import pandas as pd"
   ]
  },
  {
   "cell_type": "code",
   "execution_count": 2,
   "metadata": {},
   "outputs": [],
   "source": [
    "samples=pd.read_csv('samples.csv',header=None)"
   ]
  },
  {
   "cell_type": "code",
   "execution_count": 14,
   "metadata": {},
   "outputs": [
    {
     "ename": "KeyboardInterrupt",
     "evalue": "",
     "output_type": "error",
     "traceback": [
      "\u001b[0;31m---------------------------------------------------------------------------\u001b[0m",
      "\u001b[0;31mKeyboardInterrupt\u001b[0m                         Traceback (most recent call last)",
      "\u001b[1;32m/home/jay/Desktop/Research Project/simulator_single_samples.ipynb Cell 3\u001b[0m in \u001b[0;36m<cell line: 40>\u001b[0;34m()\u001b[0m\n\u001b[1;32m     <a href='vscode-notebook-cell:/home/jay/Desktop/Research%20Project/simulator_single_samples.ipynb#W1sZmlsZQ%3D%3D?line=38'>39</a>\u001b[0m time\u001b[39m.\u001b[39msleep(\u001b[39m2\u001b[39m)\n\u001b[1;32m     <a href='vscode-notebook-cell:/home/jay/Desktop/Research%20Project/simulator_single_samples.ipynb#W1sZmlsZQ%3D%3D?line=39'>40</a>\u001b[0m \u001b[39mfor\u001b[39;00m index,row \u001b[39min\u001b[39;00m samples\u001b[39m.\u001b[39mhead(\u001b[39m30\u001b[39m)\u001b[39m.\u001b[39miterrows():\n\u001b[0;32m---> <a href='vscode-notebook-cell:/home/jay/Desktop/Research%20Project/simulator_single_samples.ipynb#W1sZmlsZQ%3D%3D?line=40'>41</a>\u001b[0m     time\u001b[39m.\u001b[39;49msleep(\u001b[39m2\u001b[39;49m)\n\u001b[1;32m     <a href='vscode-notebook-cell:/home/jay/Desktop/Research%20Project/simulator_single_samples.ipynb#W1sZmlsZQ%3D%3D?line=41'>42</a>\u001b[0m     \u001b[39m#Snelheid\u001b[39;00m\n\u001b[1;32m     <a href='vscode-notebook-cell:/home/jay/Desktop/Research%20Project/simulator_single_samples.ipynb#W1sZmlsZQ%3D%3D?line=42'>43</a>\u001b[0m     l\u001b[39m=\u001b[39mmove_to_position(lastposition_Snelheid,Snelheid_start_position,Snelheid_end_position,row[\u001b[39m0\u001b[39m],Snelheid_range)\n",
      "\u001b[0;31mKeyboardInterrupt\u001b[0m: "
     ]
    }
   ],
   "source": [
    "##\n",
    "lastposition_Snelheid = (130,430)\n",
    "Snelheid_start_position = (130, 430)\n",
    "Snelheid_end_position = (1610, 430)\n",
    "Snelheid_range=10\n",
    "###\n",
    "lastposition_module0_omvang = (350,620)\n",
    "Module0_Omvang_start_position = (350,620)\n",
    "Module0_Omvang_end_position =(550,620)\n",
    "Module0_Omvang_range=90\n",
    "###\n",
    "lastposition_module0_Positie = (350,725)\n",
    "Module0_Positie_start_position = (350,725)\n",
    "Module0_Positie_end_position =(550,725)\n",
    "Module0_Positie_range=180\n",
    "### \n",
    "lastposition_module1_omvang = (1195,620)\n",
    "Module1_Omvang_start_position =(1195,620)\n",
    "Module1_Omvang_end_position =(1390,620)\n",
    "Module1_Omvang_range=90\n",
    "###\n",
    "lastposition_module1_Positie =(1200,740)\n",
    "Module1_Positie_start_position =(1200,740)\n",
    "Module1_Positie_end_position =(1390,740)\n",
    "Module1_Positie_range=180\n",
    "###\n",
    "lastposition_relatie=(760,850)\n",
    "Relatie_start_position=(760,850)\n",
    "Relatie_end_position=(950,850)\n",
    "Relatie_range=180\n",
    "\n",
    "def move_to_position(last,start,end,value,rangeOf,negative=False):\n",
    "    pyautogui.moveTo(x=last[0], y=last[1])\n",
    "    new_position=(((end[0]-start[0])/rangeOf)*(value)+start[0],end[1])\n",
    "    if negative:\n",
    "        new_position=(((end[0]-start[0])/rangeOf)*(value+90)+start[0],end[1])\n",
    "    pyautogui.dragTo(x=new_position[0], y=new_position[1])\n",
    "    return new_position[0]\n",
    "time.sleep(2)\n",
    "for index,row in samples.iterrows():\n",
    "    print(index)\n",
    "    time.sleep(2)\n",
    "    #Snelheid\n",
    "    l=move_to_position(lastposition_Snelheid,Snelheid_start_position,Snelheid_end_position,row[0],Snelheid_range)\n",
    "    lastposition_Snelheid = (l,430)\n",
    "    #Module0_Omvang\n",
    "    l=move_to_position(lastposition_module0_omvang,Module0_Omvang_start_position,Module0_Omvang_end_position,row[1],Module0_Omvang_range)\n",
    "    lastposition_module0_omvang = (l,620)\n",
    "    #Module0_Positie\n",
    "    l=move_to_position(lastposition_module0_Positie,Module0_Positie_start_position,Module0_Positie_end_position,row[2],Module0_Positie_range,negative=True)\n",
    "    lastposition_module0_Positie = (l,725)\n",
    "    #Module1_Omvang\n",
    "    l=move_to_position(lastposition_module1_omvang,Module1_Omvang_start_position,Module1_Omvang_end_position,row[3],Module1_Omvang_range)\n",
    "    lastposition_module1_omvang = (l,620)\n",
    "    #Module1_Positie\n",
    "    l=move_to_position(lastposition_module1_Positie,Module1_Positie_start_position,Module1_Positie_end_position,row[4],Module1_Positie_range,negative=True)\n",
    "    lastposition_module1_Positie = (l,725)\n",
    "    #Relatie\n",
    "    l=move_to_position(lastposition_relatie,Relatie_start_position,Relatie_end_position,row[5],Relatie_range,negative=True)\n",
    "    lastposition_relatie = (l,725)\n"
   ]
  },
  {
   "cell_type": "code",
   "execution_count": 8,
   "metadata": {},
   "outputs": [
    {
     "data": {
      "text/html": [
       "<div>\n",
       "<style scoped>\n",
       "    .dataframe tbody tr th:only-of-type {\n",
       "        vertical-align: middle;\n",
       "    }\n",
       "\n",
       "    .dataframe tbody tr th {\n",
       "        vertical-align: top;\n",
       "    }\n",
       "\n",
       "    .dataframe thead th {\n",
       "        text-align: right;\n",
       "    }\n",
       "</style>\n",
       "<table border=\"1\" class=\"dataframe\">\n",
       "  <thead>\n",
       "    <tr style=\"text-align: right;\">\n",
       "      <th></th>\n",
       "      <th>0</th>\n",
       "      <th>1</th>\n",
       "      <th>2</th>\n",
       "      <th>3</th>\n",
       "      <th>4</th>\n",
       "      <th>5</th>\n",
       "    </tr>\n",
       "  </thead>\n",
       "  <tbody>\n",
       "    <tr>\n",
       "      <th>0</th>\n",
       "      <td>5.0</td>\n",
       "      <td>75</td>\n",
       "      <td>-75</td>\n",
       "      <td>45</td>\n",
       "      <td>-15</td>\n",
       "      <td>60</td>\n",
       "    </tr>\n",
       "    <tr>\n",
       "      <th>1</th>\n",
       "      <td>9.0</td>\n",
       "      <td>60</td>\n",
       "      <td>-45</td>\n",
       "      <td>75</td>\n",
       "      <td>45</td>\n",
       "      <td>-30</td>\n",
       "    </tr>\n",
       "  </tbody>\n",
       "</table>\n",
       "</div>"
      ],
      "text/plain": [
       "     0   1   2   3   4   5\n",
       "0  5.0  75 -75  45 -15  60\n",
       "1  9.0  60 -45  75  45 -30"
      ]
     },
     "execution_count": 8,
     "metadata": {},
     "output_type": "execute_result"
    }
   ],
   "source": [
    "samples.head(2)"
   ]
  },
  {
   "cell_type": "code",
   "execution_count": null,
   "metadata": {},
   "outputs": [],
   "source": []
  }
 ],
 "metadata": {
  "kernelspec": {
   "display_name": "jay",
   "language": "python",
   "name": "python3"
  },
  "language_info": {
   "codemirror_mode": {
    "name": "ipython",
    "version": 3
   },
   "file_extension": ".py",
   "mimetype": "text/x-python",
   "name": "python",
   "nbconvert_exporter": "python",
   "pygments_lexer": "ipython3",
   "version": "3.10.4"
  },
  "orig_nbformat": 4
 },
 "nbformat": 4,
 "nbformat_minor": 2
}
