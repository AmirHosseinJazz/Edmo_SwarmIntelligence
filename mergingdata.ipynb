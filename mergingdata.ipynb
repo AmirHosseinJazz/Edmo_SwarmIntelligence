{
 "cells": [
  {
   "cell_type": "code",
   "execution_count": 1,
   "metadata": {},
   "outputs": [
    {
     "name": "stdout",
     "output_type": "stream",
     "text": [
      "speed_data_0_200.csv\n",
      "speed_data-400-1000.csv\n",
      "speed_data_200_400.csv\n"
     ]
    }
   ],
   "source": [
    "import pandas as pd\n",
    "import os\n",
    "import numpy   as np\n",
    "import re\n",
    "pd.set_option('display.max_columns', None)\n",
    "pd.set_option('display.max_rows', 200)\n",
    "def tonparray(dd):\n",
    "    dd = re.sub(r'\\s+', ' ', dd)\n",
    "    dd=dd.replace('[','').replace(']','').replace('   ',' ').replace('  ',' ').split(',')\n",
    "    dd=[i.strip().split(' ') for i in dd]\n",
    "    dd=np.array(dd)\n",
    "    return dd\n",
    "# gathering all csv files in the folder\n",
    "files_all = os.listdir('DataCopy')\n",
    "files = [file for file in files_all if file.endswith('.txt')]\n",
    "speedfiles = [file for file in files_all if file.endswith('.csv')]\n",
    "#\n",
    "Speeds=[]\n",
    "for j in speedfiles:\n",
    "    if 'speed_data' in j:\n",
    "        print(j)\n",
    "        df = pd.read_csv('DataCopy/' + j, sep=',', header=0)\n",
    "        Speeds.append(df)\n",
    "\n",
    "Speed_DF=pd.concat(Speeds)"
   ]
  },
  {
   "cell_type": "code",
   "execution_count": 2,
   "metadata": {},
   "outputs": [
    {
     "name": "stdout",
     "output_type": "stream",
     "text": [
      "potentials 23-05-2023 10-25-14 Am 2 modules.txt\n"
     ]
    },
    {
     "name": "stderr",
     "output_type": "stream",
     "text": [
      "/tmp/ipykernel_13854/1170625154.py:11: VisibleDeprecationWarning: Creating an ndarray from ragged nested sequences (which is a list-or-tuple of lists-or-tuples-or ndarrays with different lengths or shapes) is deprecated. If you meant to do this, you must specify 'dtype=object' when creating the ndarray.\n",
      "  dd=np.array(dd)\n"
     ]
    },
    {
     "name": "stdout",
     "output_type": "stream",
     "text": [
      "parameters 23-05-2023 12-36-29 Am 2 modules.txt\n",
      "parameters 23-05-2023 12-02-59 Am 2 modules.txt\n",
      "angles 23-05-2023 12-02-59 Am 2 modules.txt\n"
     ]
    },
    {
     "name": "stderr",
     "output_type": "stream",
     "text": [
      "/tmp/ipykernel_13854/1170625154.py:11: VisibleDeprecationWarning: Creating an ndarray from ragged nested sequences (which is a list-or-tuple of lists-or-tuples-or ndarrays with different lengths or shapes) is deprecated. If you meant to do this, you must specify 'dtype=object' when creating the ndarray.\n",
      "  dd=np.array(dd)\n"
     ]
    },
    {
     "name": "stdout",
     "output_type": "stream",
     "text": [
      "potentials 23-05-2023 12-02-59 Am 2 modules.txt\n"
     ]
    },
    {
     "name": "stderr",
     "output_type": "stream",
     "text": [
      "/tmp/ipykernel_13854/1170625154.py:11: VisibleDeprecationWarning: Creating an ndarray from ragged nested sequences (which is a list-or-tuple of lists-or-tuples-or ndarrays with different lengths or shapes) is deprecated. If you meant to do this, you must specify 'dtype=object' when creating the ndarray.\n",
      "  dd=np.array(dd)\n"
     ]
    },
    {
     "name": "stdout",
     "output_type": "stream",
     "text": [
      "potentials 23-05-2023 12-36-29 Am 2 modules.txt\n"
     ]
    },
    {
     "name": "stderr",
     "output_type": "stream",
     "text": [
      "/tmp/ipykernel_13854/1170625154.py:11: VisibleDeprecationWarning: Creating an ndarray from ragged nested sequences (which is a list-or-tuple of lists-or-tuples-or ndarrays with different lengths or shapes) is deprecated. If you meant to do this, you must specify 'dtype=object' when creating the ndarray.\n",
      "  dd=np.array(dd)\n"
     ]
    },
    {
     "name": "stdout",
     "output_type": "stream",
     "text": [
      "parameters 23-05-2023 10-25-14 Am 2 modules.txt\n",
      "angles 23-05-2023 12-36-29 Am 2 modules.txt\n"
     ]
    },
    {
     "name": "stderr",
     "output_type": "stream",
     "text": [
      "/tmp/ipykernel_13854/1170625154.py:11: VisibleDeprecationWarning: Creating an ndarray from ragged nested sequences (which is a list-or-tuple of lists-or-tuples-or ndarrays with different lengths or shapes) is deprecated. If you meant to do this, you must specify 'dtype=object' when creating the ndarray.\n",
      "  dd=np.array(dd)\n"
     ]
    },
    {
     "name": "stdout",
     "output_type": "stream",
     "text": [
      "angles 23-05-2023 10-25-14 Am 2 modules.txt\n"
     ]
    },
    {
     "name": "stderr",
     "output_type": "stream",
     "text": [
      "/tmp/ipykernel_13854/1170625154.py:11: VisibleDeprecationWarning: Creating an ndarray from ragged nested sequences (which is a list-or-tuple of lists-or-tuples-or ndarrays with different lengths or shapes) is deprecated. If you meant to do this, you must specify 'dtype=object' when creating the ndarray.\n",
      "  dd=np.array(dd)\n"
     ]
    }
   ],
   "source": [
    "Angles=[]\n",
    "Params=[]\n",
    "Potentials=[]\n",
    "for i in files:\n",
    "    if 'angle' in i:\n",
    "        print(i)\n",
    "        df = pd.read_csv('DataCopy/' + i, sep='\\t', header=None)\n",
    "        df[df.columns[0]]=df[df.columns[0]].apply(lambda x:x.replace(\"'\",\"\"))\n",
    "        df['array']=df[df.columns[0]].apply(tonparray)\n",
    "        df['Timestamp']=df['array'].apply(lambda x:str(x[0]).replace(\"[\",\"\").replace(\"]\",\"\").replace(\"'\",\"\"))\n",
    "        df['Angles_0']=df['array'].apply(lambda x:x[1][0])\n",
    "        df['Angles_1']=df['array'].apply(lambda x:x[1][1])\n",
    "        df['All']=df['array'].apply(lambda x:x[1])\n",
    "        Angles.append(df[['Timestamp','Angles_0','Angles_1']])\n",
    "    if 'parameters' in i:\n",
    "        print(i)\n",
    "        df = pd.read_csv('DataCopy/' + i, sep='\\t', header=None)\n",
    "        df[df.columns[0]]=df[df.columns[0]].apply(lambda x:x.replace(\"'\",\"\"))\n",
    "        df['array']=df[df.columns[0]].apply(tonparray)\n",
    "        df['Timestamp']=df['array'].apply(lambda x:str(x[0]).replace(\"[\",\"\").replace(\"]\",\"\").replace(\"'\",\"\"))\n",
    "        df=df.iloc[1:,:]\n",
    "        df['stri']=df[df.columns[0]].apply(lambda x:str(x))\n",
    "        df=df[~df['stri'].str.contains('STOP')]\n",
    "        df['freq']=df['array'].apply(lambda x:x[1][0])\n",
    "        df['amp_1']=df['array'].apply(lambda x:x[2][0])\n",
    "        df['amp_2']=df['array'].apply(lambda x:x[3][0])\n",
    "        df['offset_1']=df['array'].apply(lambda x:x[4][0])\n",
    "        df['offset_2']=df['array'].apply(lambda x:x[5][0])\n",
    "        df['phase']=df['array'].apply(lambda x:x[6][0])\n",
    "        Params.append(df[['Timestamp','freq','amp_1','amp_2','offset_1','offset_2','phase']])\n",
    "    if 'potentials' in i:\n",
    "        print(i)\n",
    "        df = pd.read_csv('DataCopy/' + i, sep='\\t', header=None)\n",
    "        df[df.columns[0]]=df[df.columns[0]].apply(lambda x:x.replace(\"'\",\"\"))\n",
    "        df['array']=df[df.columns[0]].apply(tonparray)\n",
    "        df['Timestamp']=df['array'].apply(lambda x:str(x[0]).replace(\"[\",\"\").replace(\"]\",\"\").replace(\"'\",\"\"))\n",
    "        df['Potentials_0']=df['array'].apply(lambda x:x[1][0])\n",
    "        df['Potentials_1']=df['array'].apply(lambda x:x[1][1])\n",
    "        Potentials.append(df[['Timestamp','Potentials_0','Potentials_1']])\n",
    "   \n",
    "Angles_DF=pd.concat(Angles)\n",
    "Params_DF=pd.concat(Params)\n",
    "Potentials_DF=pd.concat(Potentials)"
   ]
  },
  {
   "cell_type": "code",
   "execution_count": 8,
   "metadata": {},
   "outputs": [],
   "source": [
    "# outer join on timestamp\n",
    "metrics=Angles_DF.merge(Params_DF,on='Timestamp',how='outer').merge(Potentials_DF,on='Timestamp',how='outer')\n",
    "metrics.sort_values(by='Timestamp',inplace=True)\n",
    "metrics.fillna(method='ffill',inplace=True)\n",
    "metrics.dropna()\n",
    "Speed_DF.columns=['Timestamp','Speed']\n",
    "final=metrics.merge(Speed_DF,on='Timestamp',how='outer')"
   ]
  },
  {
   "cell_type": "code",
   "execution_count": 9,
   "metadata": {},
   "outputs": [
    {
     "data": {
      "text/html": [
       "<div>\n",
       "<style scoped>\n",
       "    .dataframe tbody tr th:only-of-type {\n",
       "        vertical-align: middle;\n",
       "    }\n",
       "\n",
       "    .dataframe tbody tr th {\n",
       "        vertical-align: top;\n",
       "    }\n",
       "\n",
       "    .dataframe thead th {\n",
       "        text-align: right;\n",
       "    }\n",
       "</style>\n",
       "<table border=\"1\" class=\"dataframe\">\n",
       "  <thead>\n",
       "    <tr style=\"text-align: right;\">\n",
       "      <th></th>\n",
       "      <th>Timestamp</th>\n",
       "      <th>Angles_0</th>\n",
       "      <th>Angles_1</th>\n",
       "      <th>freq</th>\n",
       "      <th>amp_1</th>\n",
       "      <th>amp_2</th>\n",
       "      <th>offset_1</th>\n",
       "      <th>offset_2</th>\n",
       "      <th>phase</th>\n",
       "      <th>Potentials_0</th>\n",
       "      <th>Potentials_1</th>\n",
       "      <th>Speed</th>\n",
       "    </tr>\n",
       "  </thead>\n",
       "  <tbody>\n",
       "    <tr>\n",
       "      <th>0</th>\n",
       "      <td>10:25:14.539</td>\n",
       "      <td>-3.</td>\n",
       "      <td>-4.</td>\n",
       "      <td>NaN</td>\n",
       "      <td>NaN</td>\n",
       "      <td>NaN</td>\n",
       "      <td>NaN</td>\n",
       "      <td>NaN</td>\n",
       "      <td>NaN</td>\n",
       "      <td>6.</td>\n",
       "      <td>4.</td>\n",
       "      <td>NaN</td>\n",
       "    </tr>\n",
       "    <tr>\n",
       "      <th>1</th>\n",
       "      <td>10:25:14.561</td>\n",
       "      <td>-3.</td>\n",
       "      <td>-4.</td>\n",
       "      <td>NaN</td>\n",
       "      <td>NaN</td>\n",
       "      <td>NaN</td>\n",
       "      <td>NaN</td>\n",
       "      <td>NaN</td>\n",
       "      <td>NaN</td>\n",
       "      <td>6.</td>\n",
       "      <td>4.</td>\n",
       "      <td>NaN</td>\n",
       "    </tr>\n",
       "    <tr>\n",
       "      <th>2</th>\n",
       "      <td>10:25:14.582</td>\n",
       "      <td>-3.</td>\n",
       "      <td>-4.</td>\n",
       "      <td>NaN</td>\n",
       "      <td>NaN</td>\n",
       "      <td>NaN</td>\n",
       "      <td>NaN</td>\n",
       "      <td>NaN</td>\n",
       "      <td>NaN</td>\n",
       "      <td>6.</td>\n",
       "      <td>4.</td>\n",
       "      <td>NaN</td>\n",
       "    </tr>\n",
       "    <tr>\n",
       "      <th>3</th>\n",
       "      <td>10:25:14.605</td>\n",
       "      <td>-3.</td>\n",
       "      <td>-4.</td>\n",
       "      <td>NaN</td>\n",
       "      <td>NaN</td>\n",
       "      <td>NaN</td>\n",
       "      <td>NaN</td>\n",
       "      <td>NaN</td>\n",
       "      <td>NaN</td>\n",
       "      <td>6.</td>\n",
       "      <td>4.</td>\n",
       "      <td>NaN</td>\n",
       "    </tr>\n",
       "    <tr>\n",
       "      <th>4</th>\n",
       "      <td>10:25:14.620</td>\n",
       "      <td>-3.</td>\n",
       "      <td>-4.</td>\n",
       "      <td>NaN</td>\n",
       "      <td>NaN</td>\n",
       "      <td>NaN</td>\n",
       "      <td>NaN</td>\n",
       "      <td>NaN</td>\n",
       "      <td>NaN</td>\n",
       "      <td>6.</td>\n",
       "      <td>4.</td>\n",
       "      <td>NaN</td>\n",
       "    </tr>\n",
       "    <tr>\n",
       "      <th>...</th>\n",
       "      <td>...</td>\n",
       "      <td>...</td>\n",
       "      <td>...</td>\n",
       "      <td>...</td>\n",
       "      <td>...</td>\n",
       "      <td>...</td>\n",
       "      <td>...</td>\n",
       "      <td>...</td>\n",
       "      <td>...</td>\n",
       "      <td>...</td>\n",
       "      <td>...</td>\n",
       "      <td>...</td>\n",
       "    </tr>\n",
       "    <tr>\n",
       "      <th>460392</th>\n",
       "      <td>12:34:21.225</td>\n",
       "      <td>NaN</td>\n",
       "      <td>NaN</td>\n",
       "      <td>NaN</td>\n",
       "      <td>NaN</td>\n",
       "      <td>NaN</td>\n",
       "      <td>NaN</td>\n",
       "      <td>NaN</td>\n",
       "      <td>NaN</td>\n",
       "      <td>NaN</td>\n",
       "      <td>NaN</td>\n",
       "      <td>1.601812</td>\n",
       "    </tr>\n",
       "    <tr>\n",
       "      <th>460393</th>\n",
       "      <td>12:34:24.234</td>\n",
       "      <td>NaN</td>\n",
       "      <td>NaN</td>\n",
       "      <td>NaN</td>\n",
       "      <td>NaN</td>\n",
       "      <td>NaN</td>\n",
       "      <td>NaN</td>\n",
       "      <td>NaN</td>\n",
       "      <td>NaN</td>\n",
       "      <td>NaN</td>\n",
       "      <td>NaN</td>\n",
       "      <td>2.033936</td>\n",
       "    </tr>\n",
       "    <tr>\n",
       "      <th>460394</th>\n",
       "      <td>12:34:27.240</td>\n",
       "      <td>NaN</td>\n",
       "      <td>NaN</td>\n",
       "      <td>NaN</td>\n",
       "      <td>NaN</td>\n",
       "      <td>NaN</td>\n",
       "      <td>NaN</td>\n",
       "      <td>NaN</td>\n",
       "      <td>NaN</td>\n",
       "      <td>NaN</td>\n",
       "      <td>NaN</td>\n",
       "      <td>0.610213</td>\n",
       "    </tr>\n",
       "    <tr>\n",
       "      <th>460395</th>\n",
       "      <td>12:34:30.247</td>\n",
       "      <td>NaN</td>\n",
       "      <td>NaN</td>\n",
       "      <td>NaN</td>\n",
       "      <td>NaN</td>\n",
       "      <td>NaN</td>\n",
       "      <td>NaN</td>\n",
       "      <td>NaN</td>\n",
       "      <td>NaN</td>\n",
       "      <td>NaN</td>\n",
       "      <td>NaN</td>\n",
       "      <td>0.000000</td>\n",
       "    </tr>\n",
       "    <tr>\n",
       "      <th>460396</th>\n",
       "      <td>12:34:33.253</td>\n",
       "      <td>NaN</td>\n",
       "      <td>NaN</td>\n",
       "      <td>NaN</td>\n",
       "      <td>NaN</td>\n",
       "      <td>NaN</td>\n",
       "      <td>NaN</td>\n",
       "      <td>NaN</td>\n",
       "      <td>NaN</td>\n",
       "      <td>NaN</td>\n",
       "      <td>NaN</td>\n",
       "      <td>0.000000</td>\n",
       "    </tr>\n",
       "  </tbody>\n",
       "</table>\n",
       "<p>460397 rows × 12 columns</p>\n",
       "</div>"
      ],
      "text/plain": [
       "           Timestamp Angles_0 Angles_1 freq amp_1 amp_2 offset_1 offset_2  \\\n",
       "0       10:25:14.539      -3.      -4.  NaN   NaN   NaN      NaN      NaN   \n",
       "1       10:25:14.561      -3.      -4.  NaN   NaN   NaN      NaN      NaN   \n",
       "2       10:25:14.582      -3.      -4.  NaN   NaN   NaN      NaN      NaN   \n",
       "3       10:25:14.605      -3.      -4.  NaN   NaN   NaN      NaN      NaN   \n",
       "4       10:25:14.620      -3.      -4.  NaN   NaN   NaN      NaN      NaN   \n",
       "...              ...      ...      ...  ...   ...   ...      ...      ...   \n",
       "460392  12:34:21.225      NaN      NaN  NaN   NaN   NaN      NaN      NaN   \n",
       "460393  12:34:24.234      NaN      NaN  NaN   NaN   NaN      NaN      NaN   \n",
       "460394  12:34:27.240      NaN      NaN  NaN   NaN   NaN      NaN      NaN   \n",
       "460395  12:34:30.247      NaN      NaN  NaN   NaN   NaN      NaN      NaN   \n",
       "460396  12:34:33.253      NaN      NaN  NaN   NaN   NaN      NaN      NaN   \n",
       "\n",
       "       phase Potentials_0 Potentials_1     Speed  \n",
       "0        NaN           6.           4.       NaN  \n",
       "1        NaN           6.           4.       NaN  \n",
       "2        NaN           6.           4.       NaN  \n",
       "3        NaN           6.           4.       NaN  \n",
       "4        NaN           6.           4.       NaN  \n",
       "...      ...          ...          ...       ...  \n",
       "460392   NaN          NaN          NaN  1.601812  \n",
       "460393   NaN          NaN          NaN  2.033936  \n",
       "460394   NaN          NaN          NaN  0.610213  \n",
       "460395   NaN          NaN          NaN  0.000000  \n",
       "460396   NaN          NaN          NaN  0.000000  \n",
       "\n",
       "[460397 rows x 12 columns]"
      ]
     },
     "execution_count": 9,
     "metadata": {},
     "output_type": "execute_result"
    }
   ],
   "source": [
    "final"
   ]
  },
  {
   "cell_type": "code",
   "execution_count": null,
   "metadata": {},
   "outputs": [],
   "source": []
  }
 ],
 "metadata": {
  "kernelspec": {
   "display_name": "jay",
   "language": "python",
   "name": "python3"
  },
  "language_info": {
   "codemirror_mode": {
    "name": "ipython",
    "version": 3
   },
   "file_extension": ".py",
   "mimetype": "text/x-python",
   "name": "python",
   "nbconvert_exporter": "python",
   "pygments_lexer": "ipython3",
   "version": "3.10.4"
  },
  "orig_nbformat": 4
 },
 "nbformat": 4,
 "nbformat_minor": 2
}
