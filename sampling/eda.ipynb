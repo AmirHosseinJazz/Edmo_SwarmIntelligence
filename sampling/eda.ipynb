{
 "cells": [
  {
   "attachments": {},
   "cell_type": "markdown",
   "metadata": {},
   "source": [
    "# Exploratory Data Analysis"
   ]
  },
  {
   "cell_type": "code",
   "execution_count": 2,
   "metadata": {},
   "outputs": [
    {
     "ename": "KeyError",
     "evalue": "'Line2D:kwdoc'",
     "output_type": "error",
     "traceback": [
      "\u001b[1;31m---------------------------------------------------------------------------\u001b[0m",
      "\u001b[1;31mValueError\u001b[0m                                Traceback (most recent call last)",
      "File \u001b[1;32mc:\\Users\\Lev\\miniconda3\\envs\\mikasa\\lib\\site-packages\\matplotlib\\_docstring.py:57\u001b[0m, in \u001b[0;36m_ArtistKwdocLoader.__missing__\u001b[1;34m(self, key)\u001b[0m\n\u001b[0;32m     56\u001b[0m \u001b[39mtry\u001b[39;00m:\n\u001b[1;32m---> 57\u001b[0m     \u001b[39mcls\u001b[39m, \u001b[39m=\u001b[39m [\u001b[39mcls\u001b[39m \u001b[39mfor\u001b[39;00m \u001b[39mcls\u001b[39m \u001b[39min\u001b[39;00m _api\u001b[39m.\u001b[39mrecursive_subclasses(Artist)\n\u001b[0;32m     58\u001b[0m             \u001b[39mif\u001b[39;00m \u001b[39mcls\u001b[39m\u001b[39m.\u001b[39m\u001b[39m__name__\u001b[39m \u001b[39m==\u001b[39m name]\n\u001b[0;32m     59\u001b[0m \u001b[39mexcept\u001b[39;00m \u001b[39mValueError\u001b[39;00m \u001b[39mas\u001b[39;00m e:\n",
      "\u001b[1;31mValueError\u001b[0m: too many values to unpack (expected 1)",
      "\nThe above exception was the direct cause of the following exception:\n",
      "\u001b[1;31mKeyError\u001b[0m                                  Traceback (most recent call last)",
      "Cell \u001b[1;32mIn[2], line 3\u001b[0m\n\u001b[0;32m      1\u001b[0m \u001b[39m# Imports \u001b[39;00m\n\u001b[0;32m      2\u001b[0m \u001b[39mimport\u001b[39;00m \u001b[39mpandas\u001b[39;00m \u001b[39mas\u001b[39;00m \u001b[39mpd\u001b[39;00m\n\u001b[1;32m----> 3\u001b[0m \u001b[39mimport\u001b[39;00m \u001b[39mmatplotlib\u001b[39;00m\u001b[39m.\u001b[39;00m\u001b[39mpyplot\u001b[39;00m \u001b[39mas\u001b[39;00m \u001b[39mplt\u001b[39;00m\n\u001b[0;32m      4\u001b[0m \u001b[39mimport\u001b[39;00m \u001b[39mseaborn\u001b[39;00m \u001b[39mas\u001b[39;00m \u001b[39msns\u001b[39;00m\n\u001b[0;32m      5\u001b[0m \u001b[39mimport\u001b[39;00m \u001b[39mnumpy\u001b[39;00m \u001b[39mas\u001b[39;00m \u001b[39mnp\u001b[39;00m\n",
      "File \u001b[1;32mc:\\Users\\Lev\\miniconda3\\envs\\mikasa\\lib\\site-packages\\matplotlib\\pyplot.py:52\u001b[0m\n\u001b[0;32m     50\u001b[0m \u001b[39mfrom\u001b[39;00m \u001b[39mcycler\u001b[39;00m \u001b[39mimport\u001b[39;00m cycler\n\u001b[0;32m     51\u001b[0m \u001b[39mimport\u001b[39;00m \u001b[39mmatplotlib\u001b[39;00m\n\u001b[1;32m---> 52\u001b[0m \u001b[39mimport\u001b[39;00m \u001b[39mmatplotlib\u001b[39;00m\u001b[39m.\u001b[39;00m\u001b[39mcolorbar\u001b[39;00m\n\u001b[0;32m     53\u001b[0m \u001b[39mimport\u001b[39;00m \u001b[39mmatplotlib\u001b[39;00m\u001b[39m.\u001b[39;00m\u001b[39mimage\u001b[39;00m\n\u001b[0;32m     54\u001b[0m \u001b[39mfrom\u001b[39;00m \u001b[39mmatplotlib\u001b[39;00m \u001b[39mimport\u001b[39;00m _api\n",
      "File \u001b[1;32mc:\\Users\\Lev\\miniconda3\\envs\\mikasa\\lib\\site-packages\\matplotlib\\colorbar.py:19\u001b[0m\n\u001b[0;32m     16\u001b[0m \u001b[39mimport\u001b[39;00m \u001b[39mnumpy\u001b[39;00m \u001b[39mas\u001b[39;00m \u001b[39mnp\u001b[39;00m\n\u001b[0;32m     18\u001b[0m \u001b[39mimport\u001b[39;00m \u001b[39mmatplotlib\u001b[39;00m \u001b[39mas\u001b[39;00m \u001b[39mmpl\u001b[39;00m\n\u001b[1;32m---> 19\u001b[0m \u001b[39mfrom\u001b[39;00m \u001b[39mmatplotlib\u001b[39;00m \u001b[39mimport\u001b[39;00m _api, cbook, collections, cm, colors, contour, ticker\n\u001b[0;32m     20\u001b[0m \u001b[39mimport\u001b[39;00m \u001b[39mmatplotlib\u001b[39;00m\u001b[39m.\u001b[39;00m\u001b[39martist\u001b[39;00m \u001b[39mas\u001b[39;00m \u001b[39mmartist\u001b[39;00m\n\u001b[0;32m     21\u001b[0m \u001b[39mimport\u001b[39;00m \u001b[39mmatplotlib\u001b[39;00m\u001b[39m.\u001b[39;00m\u001b[39mpatches\u001b[39;00m \u001b[39mas\u001b[39;00m \u001b[39mmpatches\u001b[39;00m\n",
      "File \u001b[1;32mc:\\Users\\Lev\\miniconda3\\envs\\mikasa\\lib\\site-packages\\matplotlib\\collections.py:19\u001b[0m\n\u001b[0;32m     16\u001b[0m \u001b[39mimport\u001b[39;00m \u001b[39mnumpy\u001b[39;00m \u001b[39mas\u001b[39;00m \u001b[39mnp\u001b[39;00m\n\u001b[0;32m     18\u001b[0m \u001b[39mimport\u001b[39;00m \u001b[39mmatplotlib\u001b[39;00m \u001b[39mas\u001b[39;00m \u001b[39mmpl\u001b[39;00m\n\u001b[1;32m---> 19\u001b[0m \u001b[39mfrom\u001b[39;00m \u001b[39m.\u001b[39;00m \u001b[39mimport\u001b[39;00m (_api, _path, artist, cbook, cm, colors \u001b[39mas\u001b[39;00m mcolors, _docstring,\n\u001b[0;32m     20\u001b[0m                hatch \u001b[39mas\u001b[39;00m mhatch, lines \u001b[39mas\u001b[39;00m mlines, path \u001b[39mas\u001b[39;00m mpath, transforms)\n\u001b[0;32m     21\u001b[0m \u001b[39mfrom\u001b[39;00m \u001b[39m.\u001b[39;00m\u001b[39m_enums\u001b[39;00m \u001b[39mimport\u001b[39;00m JoinStyle, CapStyle\n\u001b[0;32m     24\u001b[0m \u001b[39m# \"color\" is excluded; it is a compound setter, and its docstring differs\u001b[39;00m\n\u001b[0;32m     25\u001b[0m \u001b[39m# in LineCollection.\u001b[39;00m\n",
      "File \u001b[1;32mc:\\Users\\Lev\\miniconda3\\envs\\mikasa\\lib\\site-packages\\matplotlib\\lines.py:217\u001b[0m\n\u001b[0;32m    200\u001b[0m     \u001b[39melse\u001b[39;00m:\n\u001b[0;32m    201\u001b[0m         \u001b[39mraise\u001b[39;00m \u001b[39mValueError\u001b[39;00m(\u001b[39mf\u001b[39m\u001b[39m\"\u001b[39m\u001b[39mmarkevery=\u001b[39m\u001b[39m{\u001b[39;00mmarkevery\u001b[39m!r}\u001b[39;00m\u001b[39m is not a recognized value\u001b[39m\u001b[39m\"\u001b[39m)\n\u001b[0;32m    204\u001b[0m \u001b[39m@_docstring\u001b[39;49m\u001b[39m.\u001b[39;49minterpd\n\u001b[0;32m    205\u001b[0m \u001b[39m@_api\u001b[39;49m\u001b[39m.\u001b[39;49mdefine_aliases({\n\u001b[0;32m    206\u001b[0m     \u001b[39m\"\u001b[39;49m\u001b[39mantialiased\u001b[39;49m\u001b[39m\"\u001b[39;49m: [\u001b[39m\"\u001b[39;49m\u001b[39maa\u001b[39;49m\u001b[39m\"\u001b[39;49m],\n\u001b[0;32m    207\u001b[0m     \u001b[39m\"\u001b[39;49m\u001b[39mcolor\u001b[39;49m\u001b[39m\"\u001b[39;49m: [\u001b[39m\"\u001b[39;49m\u001b[39mc\u001b[39;49m\u001b[39m\"\u001b[39;49m],\n\u001b[0;32m    208\u001b[0m     \u001b[39m\"\u001b[39;49m\u001b[39mdrawstyle\u001b[39;49m\u001b[39m\"\u001b[39;49m: [\u001b[39m\"\u001b[39;49m\u001b[39mds\u001b[39;49m\u001b[39m\"\u001b[39;49m],\n\u001b[0;32m    209\u001b[0m     \u001b[39m\"\u001b[39;49m\u001b[39mlinestyle\u001b[39;49m\u001b[39m\"\u001b[39;49m: [\u001b[39m\"\u001b[39;49m\u001b[39mls\u001b[39;49m\u001b[39m\"\u001b[39;49m],\n\u001b[0;32m    210\u001b[0m     \u001b[39m\"\u001b[39;49m\u001b[39mlinewidth\u001b[39;49m\u001b[39m\"\u001b[39;49m: [\u001b[39m\"\u001b[39;49m\u001b[39mlw\u001b[39;49m\u001b[39m\"\u001b[39;49m],\n\u001b[0;32m    211\u001b[0m     \u001b[39m\"\u001b[39;49m\u001b[39mmarkeredgecolor\u001b[39;49m\u001b[39m\"\u001b[39;49m: [\u001b[39m\"\u001b[39;49m\u001b[39mmec\u001b[39;49m\u001b[39m\"\u001b[39;49m],\n\u001b[0;32m    212\u001b[0m     \u001b[39m\"\u001b[39;49m\u001b[39mmarkeredgewidth\u001b[39;49m\u001b[39m\"\u001b[39;49m: [\u001b[39m\"\u001b[39;49m\u001b[39mmew\u001b[39;49m\u001b[39m\"\u001b[39;49m],\n\u001b[0;32m    213\u001b[0m     \u001b[39m\"\u001b[39;49m\u001b[39mmarkerfacecolor\u001b[39;49m\u001b[39m\"\u001b[39;49m: [\u001b[39m\"\u001b[39;49m\u001b[39mmfc\u001b[39;49m\u001b[39m\"\u001b[39;49m],\n\u001b[0;32m    214\u001b[0m     \u001b[39m\"\u001b[39;49m\u001b[39mmarkerfacecoloralt\u001b[39;49m\u001b[39m\"\u001b[39;49m: [\u001b[39m\"\u001b[39;49m\u001b[39mmfcalt\u001b[39;49m\u001b[39m\"\u001b[39;49m],\n\u001b[0;32m    215\u001b[0m     \u001b[39m\"\u001b[39;49m\u001b[39mmarkersize\u001b[39;49m\u001b[39m\"\u001b[39;49m: [\u001b[39m\"\u001b[39;49m\u001b[39mms\u001b[39;49m\u001b[39m\"\u001b[39;49m],\n\u001b[0;32m    216\u001b[0m })\n\u001b[1;32m--> 217\u001b[0m \u001b[39mclass\u001b[39;49;00m \u001b[39mLine2D\u001b[39;49;00m(Artist):\n\u001b[0;32m    218\u001b[0m \u001b[39m    \u001b[39;49m\u001b[39m\"\"\"\u001b[39;49;00m\n\u001b[0;32m    219\u001b[0m \u001b[39m    A line - the line can have both a solid linestyle connecting all\u001b[39;49;00m\n\u001b[0;32m    220\u001b[0m \u001b[39m    the vertices, and a marker at each vertex.  Additionally, the\u001b[39;49;00m\n\u001b[0;32m    221\u001b[0m \u001b[39m    drawing of the solid line is influenced by the drawstyle, e.g., one\u001b[39;49;00m\n\u001b[0;32m    222\u001b[0m \u001b[39m    can create \"stepped\" lines in various styles.\u001b[39;49;00m\n\u001b[0;32m    223\u001b[0m \u001b[39m    \"\"\"\u001b[39;49;00m\n\u001b[0;32m    225\u001b[0m     lineStyles \u001b[39m=\u001b[39;49m _lineStyles \u001b[39m=\u001b[39;49m {  \u001b[39m# hidden names deprecated\u001b[39;49;00m\n\u001b[0;32m    226\u001b[0m         \u001b[39m'\u001b[39;49m\u001b[39m-\u001b[39;49m\u001b[39m'\u001b[39;49m:    \u001b[39m'\u001b[39;49m\u001b[39m_draw_solid\u001b[39;49m\u001b[39m'\u001b[39;49m,\n\u001b[0;32m    227\u001b[0m         \u001b[39m'\u001b[39;49m\u001b[39m--\u001b[39;49m\u001b[39m'\u001b[39;49m:   \u001b[39m'\u001b[39;49m\u001b[39m_draw_dashed\u001b[39;49m\u001b[39m'\u001b[39;49m,\n\u001b[1;32m   (...)\u001b[0m\n\u001b[0;32m    232\u001b[0m         \u001b[39m'\u001b[39;49m\u001b[39m'\u001b[39;49m:     \u001b[39m'\u001b[39;49m\u001b[39m_draw_nothing\u001b[39;49m\u001b[39m'\u001b[39;49m,\n\u001b[0;32m    233\u001b[0m     }\n",
      "File \u001b[1;32mc:\\Users\\Lev\\miniconda3\\envs\\mikasa\\lib\\site-packages\\matplotlib\\_docstring.py:82\u001b[0m, in \u001b[0;36m_ArtistPropertiesSubstitution.__call__\u001b[1;34m(self, obj)\u001b[0m\n\u001b[0;32m     80\u001b[0m \u001b[39msuper\u001b[39m()\u001b[39m.\u001b[39m\u001b[39m__call__\u001b[39m(obj)\n\u001b[0;32m     81\u001b[0m \u001b[39mif\u001b[39;00m \u001b[39misinstance\u001b[39m(obj, \u001b[39mtype\u001b[39m) \u001b[39mand\u001b[39;00m obj\u001b[39m.\u001b[39m\u001b[39m__init__\u001b[39m \u001b[39m!=\u001b[39m \u001b[39mobject\u001b[39m\u001b[39m.\u001b[39m\u001b[39m__init__\u001b[39m:\n\u001b[1;32m---> 82\u001b[0m     \u001b[39mself\u001b[39;49m(obj\u001b[39m.\u001b[39;49m\u001b[39m__init__\u001b[39;49m)\n\u001b[0;32m     83\u001b[0m \u001b[39mreturn\u001b[39;00m obj\n",
      "File \u001b[1;32mc:\\Users\\Lev\\miniconda3\\envs\\mikasa\\lib\\site-packages\\matplotlib\\_docstring.py:80\u001b[0m, in \u001b[0;36m_ArtistPropertiesSubstitution.__call__\u001b[1;34m(self, obj)\u001b[0m\n\u001b[0;32m     79\u001b[0m \u001b[39mdef\u001b[39;00m \u001b[39m__call__\u001b[39m(\u001b[39mself\u001b[39m, obj):\n\u001b[1;32m---> 80\u001b[0m     \u001b[39msuper\u001b[39;49m()\u001b[39m.\u001b[39;49m\u001b[39m__call__\u001b[39;49m(obj)\n\u001b[0;32m     81\u001b[0m     \u001b[39mif\u001b[39;00m \u001b[39misinstance\u001b[39m(obj, \u001b[39mtype\u001b[39m) \u001b[39mand\u001b[39;00m obj\u001b[39m.\u001b[39m\u001b[39m__init__\u001b[39m \u001b[39m!=\u001b[39m \u001b[39mobject\u001b[39m\u001b[39m.\u001b[39m\u001b[39m__init__\u001b[39m:\n\u001b[0;32m     82\u001b[0m         \u001b[39mself\u001b[39m(obj\u001b[39m.\u001b[39m\u001b[39m__init__\u001b[39m)\n",
      "File \u001b[1;32mc:\\Users\\Lev\\miniconda3\\envs\\mikasa\\lib\\site-packages\\matplotlib\\_docstring.py:40\u001b[0m, in \u001b[0;36mSubstitution.__call__\u001b[1;34m(self, func)\u001b[0m\n\u001b[0;32m     38\u001b[0m \u001b[39mdef\u001b[39;00m \u001b[39m__call__\u001b[39m(\u001b[39mself\u001b[39m, func):\n\u001b[0;32m     39\u001b[0m     \u001b[39mif\u001b[39;00m func\u001b[39m.\u001b[39m\u001b[39m__doc__\u001b[39m:\n\u001b[1;32m---> 40\u001b[0m         func\u001b[39m.\u001b[39m\u001b[39m__doc__\u001b[39m \u001b[39m=\u001b[39m inspect\u001b[39m.\u001b[39;49mcleandoc(func\u001b[39m.\u001b[39;49m\u001b[39m__doc__\u001b[39;49m) \u001b[39m%\u001b[39;49m \u001b[39mself\u001b[39;49m\u001b[39m.\u001b[39;49mparams\n\u001b[0;32m     41\u001b[0m     \u001b[39mreturn\u001b[39;00m func\n",
      "File \u001b[1;32mc:\\Users\\Lev\\miniconda3\\envs\\mikasa\\lib\\site-packages\\matplotlib\\_docstring.py:60\u001b[0m, in \u001b[0;36m_ArtistKwdocLoader.__missing__\u001b[1;34m(self, key)\u001b[0m\n\u001b[0;32m     57\u001b[0m     \u001b[39mcls\u001b[39m, \u001b[39m=\u001b[39m [\u001b[39mcls\u001b[39m \u001b[39mfor\u001b[39;00m \u001b[39mcls\u001b[39m \u001b[39min\u001b[39;00m _api\u001b[39m.\u001b[39mrecursive_subclasses(Artist)\n\u001b[0;32m     58\u001b[0m             \u001b[39mif\u001b[39;00m \u001b[39mcls\u001b[39m\u001b[39m.\u001b[39m\u001b[39m__name__\u001b[39m \u001b[39m==\u001b[39m name]\n\u001b[0;32m     59\u001b[0m \u001b[39mexcept\u001b[39;00m \u001b[39mValueError\u001b[39;00m \u001b[39mas\u001b[39;00m e:\n\u001b[1;32m---> 60\u001b[0m     \u001b[39mraise\u001b[39;00m \u001b[39mKeyError\u001b[39;00m(key) \u001b[39mfrom\u001b[39;00m \u001b[39me\u001b[39;00m\n\u001b[0;32m     61\u001b[0m \u001b[39mreturn\u001b[39;00m \u001b[39mself\u001b[39m\u001b[39m.\u001b[39msetdefault(key, kwdoc(\u001b[39mcls\u001b[39m))\n",
      "\u001b[1;31mKeyError\u001b[0m: 'Line2D:kwdoc'"
     ]
    }
   ],
   "source": [
    "# Imports \n",
    "import pandas as pd\n",
    "import matplotlib.pyplot as plt\n",
    "import seaborn as sns\n",
    "import numpy as np\n",
    "import seaborn as sns\n",
    "import matplotlib.pyplot as plt\n",
    "from mpl_toolkits.mplot3d import Axes3D\n",
    "%matplotlib widget"
   ]
  },
  {
   "cell_type": "code",
   "execution_count": null,
   "metadata": {},
   "outputs": [],
   "source": [
    "# # Get the data\n",
    "# df1 = pd.read_csv(\"olddata/firstbatch_500Samples.csv\")\n",
    "# df2 = pd.read_csv(\"olddata/secondbatch_500Samples.csv\")\n",
    "# df=pd.concat([df1,df2])]\n",
    "df=pd.read_csv(\"Cleaned_data.csv\")"
   ]
  },
  {
   "cell_type": "code",
   "execution_count": null,
   "metadata": {},
   "outputs": [],
   "source": [
    "df.head()"
   ]
  },
  {
   "cell_type": "code",
   "execution_count": null,
   "metadata": {},
   "outputs": [],
   "source": [
    "# data=df.drop(columns=['Unnamed: 0'])\n",
    "data=df"
   ]
  },
  {
   "cell_type": "code",
   "execution_count": null,
   "metadata": {},
   "outputs": [],
   "source": [
    "data.head()"
   ]
  },
  {
   "cell_type": "code",
   "execution_count": null,
   "metadata": {},
   "outputs": [],
   "source": [
    "summary_stats = data.describe()\n",
    "summary_stats_df = pd.DataFrame(summary_stats)\n",
    "summary_stats_df\n"
   ]
  },
  {
   "cell_type": "code",
   "execution_count": null,
   "metadata": {},
   "outputs": [],
   "source": [
    "# Plotting individual variables\n",
    "for col in data.columns:\n",
    "    plt.figure()\n",
    "    sns.histplot(data[col], kde=True)\n",
    "    plt.title('Distribution of' + col)\n",
    "    plt.show()"
   ]
  },
  {
   "cell_type": "code",
   "execution_count": null,
   "metadata": {},
   "outputs": [],
   "source": [
    "# Pairwise relationships and correlations\n",
    "# plt.figure()\n",
    "# sns.pairplot(data)\n",
    "# plt.show()"
   ]
  },
  {
   "cell_type": "code",
   "execution_count": null,
   "metadata": {},
   "outputs": [],
   "source": [
    "# Correlation matrix\n",
    "plt.figure()\n",
    "correlation_matrix = data.corr()\n",
    "sns.heatmap(correlation_matrix, annot=True, cmap='coolwarm')\n",
    "plt.title('Correlation Matrix')\n",
    "plt.show()"
   ]
  },
  {
   "cell_type": "code",
   "execution_count": null,
   "metadata": {},
   "outputs": [],
   "source": [
    "# Plotting relationship between variables and Speed\n",
    "for col in data.columns:\n",
    "    plt.figure()\n",
    "    sns.regplot(x=col, y='Speed', data=data)\n",
    "    plt.title('Relationship between ' + col + ' and Speed')\n",
    "    plt.show()"
   ]
  },
  {
   "cell_type": "code",
   "execution_count": null,
   "metadata": {},
   "outputs": [],
   "source": [
    "# # pairwise plot with omvang1 and omvang2 and speed as hue\n",
    "plt.figure()\n",
    "sns.pairplot(data, hue='Speed')"
   ]
  },
  {
   "cell_type": "code",
   "execution_count": null,
   "metadata": {},
   "outputs": [],
   "source": [
    "data[data['Speed']>3]"
   ]
  },
  {
   "cell_type": "code",
   "execution_count": null,
   "metadata": {},
   "outputs": [],
   "source": [
    "from scipy.spatial import ConvexHull\n",
    "data.head()\n",
    "display_dimensions=['Snelheid','Positie1','Positie2']\n",
    "target = data[['Speed']]  # Target variable\n",
    "dimensions = data[display_dimensions]  # Dimensions\n",
    "#convert dimensions to numpy array\n",
    "dimensions = dimensions.to_numpy()\n",
    "target = target.to_numpy()\n",
    "filtered_Data=data[data['Speed']>1]\n",
    "filtered_Data_dimensions=filtered_Data[display_dimensions]\n",
    "filtered_Data_dimensions=filtered_Data_dimensions.to_numpy()\n",
    "filtered_Data_target=filtered_Data[['Speed']]\n",
    "filtered_Data_target=filtered_Data_target.to_numpy()\n",
    "hull = ConvexHull(filtered_Data_dimensions)\n",
    "# Frontier points\n",
    "frontier = np.random.randn(50, 3)[0]\n",
    "\n",
    "# Create 3D plot\n",
    "fig = plt.figure()\n",
    "ax = fig.add_subplot(111, projection='3d')\n",
    "\n",
    "# Plot data points\n",
    "ax.scatter(dimensions[:, 0], dimensions[:, 1], dimensions[:, 2], c=target)\n",
    "\n",
    "for s in hull.simplices:\n",
    "    s = np.append(s, s[0])  # Close the loop\n",
    "    ax.plot3D(filtered_Data_dimensions[s, 0], filtered_Data_dimensions[s, 1], filtered_Data_dimensions[s, 2], 'k-', alpha=0.5)\n",
    "\n",
    "# Customize the plot\n",
    "ax.set_xlabel(display_dimensions[0])\n",
    "ax.set_ylabel(display_dimensions[1])\n",
    "ax.set_zlabel(display_dimensions[2])\n",
    "ax.set_title('3D Plot with Frontier')\n",
    "plt.colorbar(ax.scatter(dimensions[:, 0], dimensions[:, 1], dimensions[:, 2], c=target), label='Target Variable')\n",
    "\n",
    "# Show the plot\n",
    "plt.show()"
   ]
  },
  {
   "cell_type": "code",
   "execution_count": null,
   "metadata": {},
   "outputs": [],
   "source": [
    "from scipy.spatial import ConvexHull\n",
    "data.head()\n",
    "display_dimensions=['Omvang1','Omvang2','Relatie']\n",
    "target = data[['Speed']]  # Target variable\n",
    "dimensions = data[display_dimensions]  # Dimensions\n",
    "#convert dimensions to numpy array\n",
    "dimensions = dimensions.to_numpy()\n",
    "target = target.to_numpy()\n",
    "filtered_Data=data[data['Speed']>1]\n",
    "filtered_Data_dimensions=filtered_Data[display_dimensions]\n",
    "filtered_Data_dimensions=filtered_Data_dimensions.to_numpy()\n",
    "filtered_Data_target=filtered_Data[['Speed']]\n",
    "filtered_Data_target=filtered_Data_target.to_numpy()\n",
    "hull = ConvexHull(filtered_Data_dimensions)\n",
    "# Frontier points\n",
    "frontier = np.random.randn(50, 3)[0]\n",
    "\n",
    "# Create 3D plot\n",
    "fig = plt.figure()\n",
    "ax = fig.add_subplot(111, projection='3d')\n",
    "\n",
    "# Plot data points\n",
    "ax.scatter(dimensions[:, 0], dimensions[:, 1], dimensions[:, 2], c=target)\n",
    "\n",
    "for s in hull.simplices:\n",
    "    s = np.append(s, s[0])  # Close the loop\n",
    "    ax.plot3D(filtered_Data_dimensions[s, 0], filtered_Data_dimensions[s, 1], filtered_Data_dimensions[s, 2], 'k-', alpha=0.5)\n",
    "\n",
    "# Customize the plot\n",
    "ax.set_xlabel(display_dimensions[0])\n",
    "ax.set_ylabel(display_dimensions[1])\n",
    "ax.set_zlabel(display_dimensions[2])\n",
    "ax.set_title('3D Plot with Frontier')\n",
    "plt.colorbar(ax.scatter(dimensions[:, 0], dimensions[:, 1], dimensions[:, 2], c=target), label='Target Variable')\n",
    "\n",
    "# Show the plot\n",
    "plt.show()"
   ]
  },
  {
   "cell_type": "code",
   "execution_count": null,
   "metadata": {},
   "outputs": [],
   "source": []
  },
  {
   "cell_type": "code",
   "execution_count": null,
   "metadata": {},
   "outputs": [],
   "source": []
  },
  {
   "cell_type": "code",
   "execution_count": null,
   "metadata": {},
   "outputs": [],
   "source": []
  },
  {
   "cell_type": "code",
   "execution_count": null,
   "metadata": {},
   "outputs": [],
   "source": []
  },
  {
   "cell_type": "code",
   "execution_count": null,
   "metadata": {},
   "outputs": [],
   "source": []
  },
  {
   "cell_type": "code",
   "execution_count": null,
   "metadata": {},
   "outputs": [],
   "source": []
  },
  {
   "cell_type": "code",
   "execution_count": null,
   "metadata": {},
   "outputs": [],
   "source": []
  }
 ],
 "metadata": {
  "kernelspec": {
   "display_name": "base",
   "language": "python",
   "name": "python3"
  },
  "language_info": {
   "codemirror_mode": {
    "name": "ipython",
    "version": 3
   },
   "file_extension": ".py",
   "mimetype": "text/x-python",
   "name": "python",
   "nbconvert_exporter": "python",
   "pygments_lexer": "ipython3",
   "version": "3.9.16"
  },
  "orig_nbformat": 4
 },
 "nbformat": 4,
 "nbformat_minor": 2
}
