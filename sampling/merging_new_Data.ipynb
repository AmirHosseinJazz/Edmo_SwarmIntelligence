{
 "cells": [
  {
   "cell_type": "code",
   "execution_count": 1,
   "metadata": {},
   "outputs": [],
   "source": [
    "import pandas as pd\n",
    "import numpy as np"
   ]
  },
  {
   "cell_type": "code",
   "execution_count": 2,
   "metadata": {},
   "outputs": [],
   "source": [
    "data1=pd.read_csv('NewParameterSamples_0-200.csv')\n",
    "speed1=pd.read_csv('speed_data_new_0-200.csv')\n",
    "speed1=speed1[speed1['Time']>='11:46:00.000']\n",
    "speed1.columns=['Timestamp','Speed']\n",
    "t=pd.merge(speed1,data1,on=['Timestamp'],how='outer')\n",
    "t=t.sort_values(by='Timestamp')\n",
    "for i in t.columns:\n",
    "    if i!='Timestamp' and i!='Speed':\n",
    "        t[i]=t[i].fillna(method='ffill')\n",
    "t=t.dropna(subset=['Snelheid'])        \n",
    "t['Speed']=t['Speed'].fillna(method='bfill')\n",
    "results=t.groupby(['Snelheid', 'Omvang1', 'Positie1', 'Omvang2','Positie2', 'Relatie']).agg({'Speed':np.mean})\n",
    "Final1=results.reset_index()\n",
    "####\n",
    "data2=pd.read_csv('NewParameterSamples_201-500.csv')\n",
    "speed2=pd.read_csv('speed_data_new_201-500.csv')\n",
    "speed2=speed2[speed2['Time']>='09:22:00.000']\n",
    "speed2.columns=['Timestamp','Speed']\n",
    "t=pd.merge(speed2,data2,on=['Timestamp'],how='outer')\n",
    "t=t.sort_values(by='Timestamp')\n",
    "for i in t.columns:\n",
    "    if i!='Timestamp' and i!='Speed':\n",
    "        t[i]=t[i].fillna(method='ffill')\n",
    "t=t.dropna(subset=['Snelheid'])        \n",
    "t['Speed']=t['Speed'].fillna(method='bfill')\n",
    "results=t.groupby(['Snelheid', 'Omvang1', 'Positie1', 'Omvang2','Positie2', 'Relatie']).agg({'Speed':np.mean})\n",
    "Final2=results.reset_index()\n",
    "###\n",
    "Final=pd.concat([Final1,Final2])\n",
    "####\n",
    "outliers=pd.read_csv('outliers.csv')\n",
    "####\n",
    "for index,row in outliers.iterrows():\n",
    "    Final=Final[~((Final['Snelheid']==row['Snelheid'])&(Final['Omvang1']==row['Omvang1'])&(Final['Positie1']==row['Positie1'])&(Final['Omvang2']==row['Omvang2'])&(Final['Positie2']==row['Positie2'])&(Final['Relatie']==row['Relatie']))]\n",
    "Final.to_csv('Cleaned_data.csv',index=False)"
   ]
  },
  {
   "cell_type": "code",
   "execution_count": null,
   "metadata": {},
   "outputs": [],
   "source": []
  }
 ],
 "metadata": {
  "kernelspec": {
   "display_name": "Python 3",
   "language": "python",
   "name": "python3"
  },
  "language_info": {
   "codemirror_mode": {
    "name": "ipython",
    "version": 3
   },
   "file_extension": ".py",
   "mimetype": "text/x-python",
   "name": "python",
   "nbconvert_exporter": "python",
   "pygments_lexer": "ipython3",
   "version": "3.9.16"
  },
  "orig_nbformat": 4
 },
 "nbformat": 4,
 "nbformat_minor": 2
}
