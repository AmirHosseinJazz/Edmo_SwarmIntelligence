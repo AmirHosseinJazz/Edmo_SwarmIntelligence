{
 "cells": [
  {
   "cell_type": "code",
   "execution_count": 2,
   "metadata": {},
   "outputs": [],
   "source": [
    "import numpy as np \n",
    "import pandas as pd\n",
    "df1=pd.read_csv('secondbatch_500samples.csv')\n",
    "df2=pd.read_csv('firstbatch_500samples.csv')\n",
    "#concat two dataframes\n",
    "df=pd.concat([df1,df2])\n",
    "df=df.drop(['Unnamed: 0'],axis=1)\n",
    "###\n",
    "optimization_result=[57.79412629,78.23273681,0.78091283,79.74490049,75.31843724,25.71011654]\n",
    "min_dist=200\n",
    "max_speed=0\n",
    "max_index=0\n",
    "for index,row in df.iterrows():\n",
    "    #  euclidean distance between aaron and each row\n",
    "    dist=np.linalg.norm(optimization_result-row[0:6])\n",
    "    if dist<min_dist:\n",
    "        min_dist=dist\n",
    "        max_speed=row[-1]\n",
    "        max_index=index"
   ]
  },
  {
   "cell_type": "code",
   "execution_count": 3,
   "metadata": {},
   "outputs": [
    {
     "name": "stdout",
     "output_type": "stream",
     "text": [
      "The closest sample is the 141th sample\n",
      "The distance between the closest sample and the optimization result is 60.399039940478026\n",
      "The speed of the closest sample is 3.5551299526108986\n"
     ]
    }
   ],
   "source": [
    "print('The closest sample is the {}th sample'.format(max_index))\n",
    "print('The distance between the closest sample and the optimization result is {}'.format(min_dist))\n",
    "print('The speed of the closest sample is {}'.format(max_speed))"
   ]
  }
 ],
 "metadata": {
  "kernelspec": {
   "display_name": "base",
   "language": "python",
   "name": "python3"
  },
  "language_info": {
   "codemirror_mode": {
    "name": "ipython",
    "version": 3
   },
   "file_extension": ".py",
   "mimetype": "text/x-python",
   "name": "python",
   "nbconvert_exporter": "python",
   "pygments_lexer": "ipython3",
   "version": "3.10.10"
  },
  "orig_nbformat": 4
 },
 "nbformat": 4,
 "nbformat_minor": 2
}
