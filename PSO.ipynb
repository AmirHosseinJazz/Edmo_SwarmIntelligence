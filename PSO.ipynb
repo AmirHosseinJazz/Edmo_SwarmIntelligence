{
 "cells": [
  {
   "cell_type": "code",
   "execution_count": 4,
   "metadata": {},
   "outputs": [
    {
     "name": "stdout",
     "output_type": "stream",
     "text": [
      "Best position: [-0.033560213190298886, -0.13887690713803322, 0.5482582027355243, -0.24182188992174072, 0.22866055734535728]\n"
     ]
    }
   ],
   "source": [
    "import random\n",
    "\n",
    "class Particle:\n",
    "    def __init__(self, position):\n",
    "        self.position = position\n",
    "        self.velocity = [random.uniform(-1, 1) for _ in range(len(position))]\n",
    "        self.best_position = position\n",
    "        self.best_fitness = float('inf')\n",
    "\n",
    "def fitness_function(position):\n",
    "    target_value = position[-1]\n",
    "    error = sum((x - target_value) ** 2 for x in position[:-1])\n",
    "    return error\n",
    "\n",
    "def pso(dataset, num_particles, num_iterations, inertia_weight, cognitive_weight, social_weight):\n",
    "    dimensions = len(dataset[0])  # Number of dimensions in the dataset\n",
    "    particles = []\n",
    "\n",
    "    for _ in range(num_particles):\n",
    "        position = [random.uniform(-1, 1) for _ in range(dimensions)]\n",
    "        particle = Particle(position)\n",
    "        particles.append(particle)\n",
    "\n",
    "    global_best_position = particles[0].position # or random something\n",
    "    global_best_fitness = float('inf')\n",
    "\n",
    "    for _ in range(num_iterations):\n",
    "        for particle in particles:\n",
    "            # Update position and velocity\n",
    "            for i in range(dimensions):\n",
    "                inertia_term = inertia_weight * particle.velocity[i]\n",
    "                cognitive_term = cognitive_weight * random.random() * (particle.best_position[i] - particle.position[i])\n",
    "                social_term = social_weight * random.random() * (global_best_position[i] - particle.position[i])\n",
    "                particle.velocity[i] = inertia_term + cognitive_term + social_term\n",
    "                particle.position[i] += particle.velocity[i]\n",
    "\n",
    "            # Update particle's best \n",
    "            particle_fitness = fitness_function(particle.position)\n",
    "            if particle_fitness < particle.best_fitness:\n",
    "                particle.best_fitness = particle_fitness\n",
    "                particle.best_position = particle.position\n",
    "\n",
    "            # Update global best\n",
    "            if particle_fitness < global_best_fitness:\n",
    "                global_best_fitness = particle_fitness\n",
    "                global_best_position = particle.position\n",
    "\n",
    "    return global_best_position\n",
    "\n",
    "dataset = [[random.uniform(-10, 10) for _ in range(5)] for _ in range(100)]\n",
    "num_particles = 20\n",
    "num_iterations = 100\n",
    "inertia_weight = 0.5\n",
    "cognitive_weight = 0.5\n",
    "social_weight = 0.5\n",
    "best_position = pso(dataset, num_particles, num_iterations, inertia_weight, cognitive_weight, social_weight)\n",
    "\n",
    "print(\"Best position:\", best_position)\n"
   ]
  },
  {
   "cell_type": "code",
   "execution_count": null,
   "metadata": {},
   "outputs": [],
   "source": []
  }
 ],
 "metadata": {
  "kernelspec": {
   "display_name": "jay",
   "language": "python",
   "name": "python3"
  },
  "language_info": {
   "codemirror_mode": {
    "name": "ipython",
    "version": 3
   },
   "file_extension": ".py",
   "mimetype": "text/x-python",
   "name": "python",
   "nbconvert_exporter": "python",
   "pygments_lexer": "ipython3",
   "version": "3.10.4"
  },
  "orig_nbformat": 4
 },
 "nbformat": 4,
 "nbformat_minor": 2
}
